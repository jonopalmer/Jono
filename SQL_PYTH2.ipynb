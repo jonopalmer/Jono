{
 "cells": [
  {
   "cell_type": "code",
   "execution_count": 3,
   "id": "ed6d0a5a",
   "metadata": {},
   "outputs": [],
   "source": [
    "import pandas as pd\n",
    "import snowflake.connector"
   ]
  },
  {
   "cell_type": "code",
   "execution_count": null,
   "id": "5bbe5c80",
   "metadata": {},
   "outputs": [
    {
     "ename": "AttributeError",
     "evalue": "'function' object has no attribute 'cursor'",
     "output_type": "error",
     "traceback": [
      "\u001b[0;31m---------------------------------------------------------------------------\u001b[0m",
      "\u001b[0;31mAttributeError\u001b[0m                            Traceback (most recent call last)",
      "Cell \u001b[0;32mIn[5], line 3\u001b[0m\n\u001b[1;32m      1\u001b[0m \u001b[38;5;66;03m# Create a cursor\u001b[39;00m\n\u001b[1;32m      2\u001b[0m conn \u001b[38;5;241m=\u001b[39m snowflake\u001b[38;5;241m.\u001b[39mconnector\u001b[38;5;241m.\u001b[39mconnect\n\u001b[0;32m----> 3\u001b[0m cursor \u001b[38;5;241m=\u001b[39m \u001b[43mconn\u001b[49m\u001b[38;5;241;43m.\u001b[39;49m\u001b[43mcursor\u001b[49m()\n\u001b[1;32m      5\u001b[0m \u001b[38;5;66;03m# Run the query and load into a DataFrame\u001b[39;00m\n\u001b[1;32m      6\u001b[0m cursor\u001b[38;5;241m.\u001b[39mexecute(\u001b[38;5;124m\"\"\"\u001b[39m\n\u001b[1;32m      7\u001b[0m \u001b[38;5;124m    SELECT DISTINCT onboarding_phase\u001b[39m\n\u001b[1;32m      8\u001b[0m \u001b[38;5;124m    FROM \u001b[39m\u001b[38;5;124m\"\u001b[39m\u001b[38;5;124mRIDERS\u001b[39m\u001b[38;5;124m\"\u001b[39m\u001b[38;5;124m.\u001b[39m\u001b[38;5;124m\"\u001b[39m\u001b[38;5;124mRIDER_LIFECYCLE_LATEST_STATUS\u001b[39m\u001b[38;5;124m\"\u001b[39m\n\u001b[1;32m      9\u001b[0m \u001b[38;5;124m    LIMIT 500;\u001b[39m\n\u001b[1;32m     10\u001b[0m \u001b[38;5;124m\"\"\"\u001b[39m)\n",
      "\u001b[0;31mAttributeError\u001b[0m: 'function' object has no attribute 'cursor'"
     ]
    }
   ],
   "source": [
    "# If using IPython-sql magic\n",
    "%load_ext sql\n",
    "\n",
    "# Connect to Snowflake (example, replace with your credentials)\n",
    "%sql snowflake://<username>:<password>@<account>/<database>/<schema>?warehouse=<warehouse>&role=<role>\n",
    "\n",
    "# Query Snowflake and load into a Pandas DataFrame\n",
    "df = %sql SELECT DISTINCT onboarding_phase FROM \"RIDERS\".\"RIDER_LIFECYCLE_LATEST_STATUS\" LIMIT 500\n",
    "df = df.DataFrame()\n",
    "\n",
    "# Apply your Python function\n",
    "filtered_df = df[df['ONBOARDING_PHASE'].str.startswith('A')]\n",
    "\n",
    "filtered_df.head()\n"
   ]
  },
  {
   "cell_type": "code",
   "execution_count": 6,
   "id": "5a9f1adb",
   "metadata": {},
   "outputs": [
    {
     "ename": "Error",
     "evalue": "Default connection with name 'default' cannot be found, known ones are ['DELIVEROO']",
     "output_type": "error",
     "traceback": [
      "\u001b[0;31m---------------------------------------------------------------------------\u001b[0m",
      "\u001b[0;31mError\u001b[0m                                     Traceback (most recent call last)",
      "Cell \u001b[0;32mIn[6], line 5\u001b[0m\n\u001b[1;32m      2\u001b[0m \u001b[38;5;28;01mimport\u001b[39;00m \u001b[38;5;21;01msnowflake\u001b[39;00m\u001b[38;5;21;01m.\u001b[39;00m\u001b[38;5;21;01mconnector\u001b[39;00m\n\u001b[1;32m      4\u001b[0m \u001b[38;5;66;03m# Try using the existing connection\u001b[39;00m\n\u001b[0;32m----> 5\u001b[0m ctx \u001b[38;5;241m=\u001b[39m \u001b[43msnowflake\u001b[49m\u001b[38;5;241;43m.\u001b[39;49m\u001b[43mconnector\u001b[49m\u001b[38;5;241;43m.\u001b[39;49m\u001b[43mconnect\u001b[49m\u001b[43m(\u001b[49m\u001b[43m)\u001b[49m  \u001b[38;5;66;03m# if this works, you're already authenticated\u001b[39;00m\n\u001b[1;32m      7\u001b[0m query \u001b[38;5;241m=\u001b[39m \u001b[38;5;124m\"\"\"\u001b[39m\n\u001b[1;32m      8\u001b[0m \u001b[38;5;124mSELECT DISTINCT onboarding_phase\u001b[39m\n\u001b[1;32m      9\u001b[0m \u001b[38;5;124mFROM \u001b[39m\u001b[38;5;124m\"\u001b[39m\u001b[38;5;124mRIDERS\u001b[39m\u001b[38;5;124m\"\u001b[39m\u001b[38;5;124m.\u001b[39m\u001b[38;5;124m\"\u001b[39m\u001b[38;5;124mRIDER_LIFECYCLE_LATEST_STATUS\u001b[39m\u001b[38;5;124m\"\u001b[39m\n\u001b[1;32m     10\u001b[0m \u001b[38;5;124mLIMIT 500;\u001b[39m\n\u001b[1;32m     11\u001b[0m \u001b[38;5;124m\"\"\"\u001b[39m\n\u001b[1;32m     13\u001b[0m df \u001b[38;5;241m=\u001b[39m pd\u001b[38;5;241m.\u001b[39mread_sql(query, ctx)\n",
      "File \u001b[0;32m~/Library/Python/3.9/lib/python/site-packages/snowflake/connector/__init__.py:55\u001b[0m, in \u001b[0;36mConnect\u001b[0;34m(**kwargs)\u001b[0m\n\u001b[1;32m     53\u001b[0m \u001b[38;5;129m@wraps\u001b[39m(SnowflakeConnection\u001b[38;5;241m.\u001b[39m\u001b[38;5;21m__init__\u001b[39m)\n\u001b[1;32m     54\u001b[0m \u001b[38;5;28;01mdef\u001b[39;00m \u001b[38;5;21mConnect\u001b[39m(\u001b[38;5;241m*\u001b[39m\u001b[38;5;241m*\u001b[39mkwargs) \u001b[38;5;241m-\u001b[39m\u001b[38;5;241m>\u001b[39m SnowflakeConnection:\n\u001b[0;32m---> 55\u001b[0m     \u001b[38;5;28;01mreturn\u001b[39;00m \u001b[43mSnowflakeConnection\u001b[49m\u001b[43m(\u001b[49m\u001b[38;5;241;43m*\u001b[39;49m\u001b[38;5;241;43m*\u001b[39;49m\u001b[43mkwargs\u001b[49m\u001b[43m)\u001b[49m\n",
      "File \u001b[0;32m~/Library/Python/3.9/lib/python/site-packages/snowflake/connector/connection.py:464\u001b[0m, in \u001b[0;36mSnowflakeConnection.__init__\u001b[0;34m(self, connection_name, connections_file_path, **kwargs)\u001b[0m\n\u001b[1;32m    461\u001b[0m     kwargs \u001b[38;5;241m=\u001b[39m {\u001b[38;5;241m*\u001b[39m\u001b[38;5;241m*\u001b[39mconnections[connection_name], \u001b[38;5;241m*\u001b[39m\u001b[38;5;241m*\u001b[39mkwargs}\n\u001b[1;32m    462\u001b[0m \u001b[38;5;28;01melif\u001b[39;00m is_kwargs_empty:\n\u001b[1;32m    463\u001b[0m     \u001b[38;5;66;03m# connection_name is None and kwargs was empty when called\u001b[39;00m\n\u001b[0;32m--> 464\u001b[0m     kwargs \u001b[38;5;241m=\u001b[39m \u001b[43m_get_default_connection_params\u001b[49m\u001b[43m(\u001b[49m\u001b[43m)\u001b[49m\n\u001b[1;32m    465\u001b[0m \u001b[38;5;28mself\u001b[39m\u001b[38;5;241m.\u001b[39m__set_error_attributes()\n\u001b[1;32m    466\u001b[0m \u001b[38;5;28mself\u001b[39m\u001b[38;5;241m.\u001b[39mconnect(\u001b[38;5;241m*\u001b[39m\u001b[38;5;241m*\u001b[39mkwargs)\n",
      "File \u001b[0;32m~/Library/Python/3.9/lib/python/site-packages/snowflake/connector/config_manager.py:476\u001b[0m, in \u001b[0;36m_get_default_connection_params\u001b[0;34m()\u001b[0m\n\u001b[1;32m    474\u001b[0m connections \u001b[38;5;241m=\u001b[39m CONFIG_MANAGER[\u001b[38;5;124m\"\u001b[39m\u001b[38;5;124mconnections\u001b[39m\u001b[38;5;124m\"\u001b[39m]\n\u001b[1;32m    475\u001b[0m \u001b[38;5;28;01mif\u001b[39;00m def_connection_name \u001b[38;5;129;01mnot\u001b[39;00m \u001b[38;5;129;01min\u001b[39;00m connections:\n\u001b[0;32m--> 476\u001b[0m     \u001b[38;5;28;01mraise\u001b[39;00m Error(\n\u001b[1;32m    477\u001b[0m         \u001b[38;5;124mf\u001b[39m\u001b[38;5;124m\"\u001b[39m\u001b[38;5;124mDefault connection with name \u001b[39m\u001b[38;5;124m'\u001b[39m\u001b[38;5;132;01m{\u001b[39;00mdef_connection_name\u001b[38;5;132;01m}\u001b[39;00m\u001b[38;5;124m'\u001b[39m\u001b[38;5;124m \u001b[39m\u001b[38;5;124m\"\u001b[39m\n\u001b[1;32m    478\u001b[0m         \u001b[38;5;124m\"\u001b[39m\u001b[38;5;124mcannot be found, known ones are \u001b[39m\u001b[38;5;124m\"\u001b[39m\n\u001b[1;32m    479\u001b[0m         \u001b[38;5;124mf\u001b[39m\u001b[38;5;124m\"\u001b[39m\u001b[38;5;132;01m{\u001b[39;00m\u001b[38;5;28mlist\u001b[39m(connections\u001b[38;5;241m.\u001b[39mkeys())\u001b[38;5;132;01m}\u001b[39;00m\u001b[38;5;124m\"\u001b[39m\n\u001b[1;32m    480\u001b[0m     )\n\u001b[1;32m    481\u001b[0m \u001b[38;5;28;01mreturn\u001b[39;00m {\u001b[38;5;241m*\u001b[39m\u001b[38;5;241m*\u001b[39mconnections[def_connection_name]}\n",
      "\u001b[0;31mError\u001b[0m: Default connection with name 'default' cannot be found, known ones are ['DELIVEROO']"
     ]
    }
   ],
   "source": [
    "import pandas as pd\n",
    "import snowflake.connector\n",
    "\n",
    "# Try using the existing connection\n",
    "ctx = snowflake.connector.connect()  # if this works, you're already authenticated\n",
    "\n",
    "query = \"\"\"\n",
    "SELECT DISTINCT onboarding_phase\n",
    "FROM \"RIDERS\".\"RIDER_LIFECYCLE_LATEST_STATUS\"\n",
    "LIMIT 500;\n",
    "\"\"\"\n",
    "\n",
    "df = pd.read_sql(query, ctx)\n",
    "\n",
    "df.head()\n"
   ]
  },
  {
   "cell_type": "code",
   "execution_count": 18,
   "id": "4509437c",
   "metadata": {},
   "outputs": [
    {
     "name": "stdout",
     "output_type": "stream",
     "text": [
      "Initiating login request with your identity provider. A browser window should have opened for you to complete the login. If you can't see it, check existing browser windows, or your OS settings. Press CTRL+C to abort and try again...\n",
      "Going to open: https://accounts.google.com/o/saml2/idp?idpid=C01jnk96c&SAMLRequest=nZLbbhoxEIZfZeVe79oLhILFgiibbZGgIA6J2jvHNuDgtTc%2BsEmfvl4OUnqRXPTCkmX%2FM9%2FM%2FDMYvZYyOnFjhVYZSBMEIq6oZkLtM7DdFHEPRNYRxYjUimfgjVswGg4sKWWFx94d1Iq%2FeG5dFBIpi5uPDHijsCZWWKxIyS12FK%2FH8xluJQgTa7lxAQeuIcyKwDo4V2EI67pO6naizR62EEIQ9WFQNZIv4B2i%2BpxRGe001fIW8hp6%2BgCRQtRpEEERCMtr4DehLiP4jPJ0EVn8Y7NZxsvFegOi8a27iVbWl9ysuTkJyrer2aUAGyrI72fTh%2FvVYpFwH1OunCEyThOrdL2T5MipLivvQuok3OCOMyj1XoSBTfMMVEfBUFG9PO0ei0J%2FnznmF9s%2FbO7Xz7luz0%2FkV3v56OadXn4qDqhDQfRws7fV2Du11vOpakx14Qm17mLUidPuBvXw3VeMOkmv2%2F8NojyYKhRx58hb5YRS7ZWzyV7rveTn%2BjRsHGlBwapROIJlE5Q%2Bq2O%2FS8FlU%2FCZaYb%2F1f8Avk9x3byfwYxpvtRS0Leo0KYk7mOv0iQ9vwgW785SzEsi5Jgxw60Nnkmp64nhxIUFd8ZzAIcX6r8rPvwL&RelayState=ver%3A1-hint%3A114357330127755-ETMsDgAAAZY90O5kABRBRVMvQ0JDL1BLQ1M1UGFkZGluZwEAABAAEB5kc9kLzdzD6XMAY%2F6VXcIAAACgvSKNn6JuAyY4ySjC8SKGHF%2B3Ee7qqncqPZNZOSq2gblcqIljKf%2BOGKjAtRtJmlWnk1yif93C%2Ba4AbmQCStR7WQGd5G22ok1dY1zvNSoCROpwUawCMuPOI2%2By71g0%2Fj5vX%2BPV4LZ2qen%2Ffp8ik4%2FxitjybeOcfI2lVmYkejbHqM6UPk%2BPImv8a7AwerEH7ygSUstN8gI6nBv0RnoH8EL4vgAUDKk3%2Ft6uCJNlyRI1ecTy5Z%2Ffw1o%3D to authenticate...\n"
     ]
    },
    {
     "name": "stderr",
     "output_type": "stream",
     "text": [
      "Python(15827) MallocStackLogging: can't turn off malloc stack logging because it was not enabled.\n",
      "/var/folders/5t/7fmzl0lx2ds7q_hszd4f9zt00000gq/T/ipykernel_5620/465423203.py:53: UserWarning: pandas only supports SQLAlchemy connectable (engine/connection) or database string URI or sqlite3 DBAPI2 connection. Other DBAPI2 objects are not tested. Please consider using SQLAlchemy.\n",
      "  df = pd.read_sql(query, conn)\n"
     ]
    },
    {
     "data": {
      "text/html": [
       "<div>\n",
       "<style scoped>\n",
       "    .dataframe tbody tr th:only-of-type {\n",
       "        vertical-align: middle;\n",
       "    }\n",
       "\n",
       "    .dataframe tbody tr th {\n",
       "        vertical-align: top;\n",
       "    }\n",
       "\n",
       "    .dataframe thead th {\n",
       "        text-align: right;\n",
       "    }\n",
       "</style>\n",
       "<table border=\"1\" class=\"dataframe\">\n",
       "  <thead>\n",
       "    <tr style=\"text-align: right;\">\n",
       "      <th></th>\n",
       "      <th>DRIVER_ID</th>\n",
       "      <th>CLUSTER</th>\n",
       "      <th>CITY</th>\n",
       "      <th>ORDER_COUNT</th>\n",
       "      <th>ORDERS_WEEK_1</th>\n",
       "      <th>ORDERS_WEEK_2</th>\n",
       "      <th>ORDERS_WEEK_3</th>\n",
       "      <th>IN_COMMS</th>\n",
       "    </tr>\n",
       "  </thead>\n",
       "  <tbody>\n",
       "    <tr>\n",
       "      <th>0</th>\n",
       "      <td>965251</td>\n",
       "      <td>GOD-GUI-WOK</td>\n",
       "      <td>London</td>\n",
       "      <td>44</td>\n",
       "      <td>22</td>\n",
       "      <td>22</td>\n",
       "      <td>0</td>\n",
       "      <td>1</td>\n",
       "    </tr>\n",
       "    <tr>\n",
       "      <th>1</th>\n",
       "      <td>523572</td>\n",
       "      <td>CIR</td>\n",
       "      <td>Cheltenham</td>\n",
       "      <td>33</td>\n",
       "      <td>23</td>\n",
       "      <td>10</td>\n",
       "      <td>0</td>\n",
       "      <td>1</td>\n",
       "    </tr>\n",
       "    <tr>\n",
       "      <th>2</th>\n",
       "      <td>600394</td>\n",
       "      <td>GOD-GUI-WOK</td>\n",
       "      <td>London</td>\n",
       "      <td>31</td>\n",
       "      <td>16</td>\n",
       "      <td>15</td>\n",
       "      <td>0</td>\n",
       "      <td>1</td>\n",
       "    </tr>\n",
       "    <tr>\n",
       "      <th>3</th>\n",
       "      <td>869476</td>\n",
       "      <td>WTH</td>\n",
       "      <td>Chelmsford</td>\n",
       "      <td>23</td>\n",
       "      <td>23</td>\n",
       "      <td>0</td>\n",
       "      <td>0</td>\n",
       "      <td>1</td>\n",
       "    </tr>\n",
       "    <tr>\n",
       "      <th>4</th>\n",
       "      <td>922071</td>\n",
       "      <td>BAS</td>\n",
       "      <td>Reading</td>\n",
       "      <td>18</td>\n",
       "      <td>10</td>\n",
       "      <td>8</td>\n",
       "      <td>0</td>\n",
       "      <td>1</td>\n",
       "    </tr>\n",
       "  </tbody>\n",
       "</table>\n",
       "</div>"
      ],
      "text/plain": [
       "   DRIVER_ID      CLUSTER        CITY  ORDER_COUNT  ORDERS_WEEK_1  \\\n",
       "0     965251  GOD-GUI-WOK      London           44             22   \n",
       "1     523572          CIR  Cheltenham           33             23   \n",
       "2     600394  GOD-GUI-WOK      London           31             16   \n",
       "3     869476          WTH  Chelmsford           23             23   \n",
       "4     922071          BAS     Reading           18             10   \n",
       "\n",
       "   ORDERS_WEEK_2  ORDERS_WEEK_3  IN_COMMS  \n",
       "0             22              0         1  \n",
       "1             10              0         1  \n",
       "2             15              0         1  \n",
       "3              0              0         1  \n",
       "4              8              0         1  "
      ]
     },
     "execution_count": 18,
     "metadata": {},
     "output_type": "execute_result"
    }
   ],
   "source": [
    "import pandas as pd\n",
    "import snowflake.connector\n",
    "from datetime import datetime, timedelta\n",
    "\n",
    "# Connect using saved profile\n",
    "conn = snowflake.connector.connect(\n",
    "    connection_name=\"DELIVEROO\",\n",
    "    database=\"production\",  # ← your database\n",
    "    schema=\"denormalised\"   # ← your schema\n",
    ")\n",
    "\n",
    "# Define your Python variables\n",
    "start_date = '2025-04-11'\n",
    "comms_date = '2025-04-11'\n",
    "end_date = (datetime.strptime(start_date, '%Y-%m-%d') + timedelta(days=14)).strftime('%Y-%m-%d')\n",
    "country_list = \"('UK', 'Ireland')\"\n",
    "\n",
    "# Inject into SQL string (use f-string carefully to avoid SQL injection)\n",
    "query = f\"\"\"\n",
    "SELECT \n",
    "  A.DRIVER_ID,\n",
    "  CLUSTER_NAME AS Cluster,\n",
    "  CITY_NAME AS City,\n",
    "  COUNT(OA_STATUS) ORDER_COUNT,\n",
    "  SUM(CASE WHEN OA_STATUS = 'DELIVERED' AND TO_DATE(LOCAL_TIME_OA_CREATED_AT) BETWEEN TO_DATE('{start_date}') AND DATEADD(DAY, (7 - DAYOFWEEK(TO_DATE('{start_date}'))), TO_DATE('{start_date}')) THEN 1 ELSE 0 END) AS Orders_Week_1,\n",
    "  SUM(CASE WHEN OA_STATUS = 'DELIVERED' AND TO_DATE(LOCAL_TIME_OA_CREATED_AT) BETWEEN DATEADD(DAY, (8 - DAYOFWEEK(TO_DATE('{start_date}'))), TO_DATE('{start_date}')) AND DATEADD(DAY, (14 - DAYOFWEEK(TO_DATE('{start_date}'))), TO_DATE('{start_date}')) THEN 1 ELSE 0 END) AS Orders_Week_2,\n",
    "  SUM(CASE WHEN OA_STATUS = 'DELIVERED' AND TO_DATE(LOCAL_TIME_OA_CREATED_AT) BETWEEN DATEADD(DAY, (15 - DAYOFWEEK(TO_DATE('{start_date}'))), TO_DATE('{start_date}')) AND TO_DATE('{end_date}') THEN 1 ELSE 0 END) AS Orders_Week_3,\n",
    "  CASE WHEN A.DRIVER_ID IN (\n",
    "        SELECT driver_id\n",
    "        FROM braze.rider_engagement\n",
    "        WHERE \n",
    "          sent_at >= CONVERT_TIMEZONE('Europe/London', 'UTC', TO_TIMESTAMP('{comms_date}')) AND\n",
    "          sent_at < CONVERT_TIMEZONE('Europe/London', 'UTC', DATEADD(day, 1, TO_TIMESTAMP('{comms_date}')))\n",
    "          AND campaign_canvas_name = 'rid-multi-reac-rec-gen-global-all-all-week45-20241106-reactivationautomation' \n",
    "          AND canvas_step_name = 'Email_1_Awareness'\n",
    "      ) THEN 1 ELSE 0 END AS In_Comms\n",
    "FROM production.denormalised.denormalised_assignment A\n",
    "WHERE \n",
    "  COUNTRY_NAME IN {country_list}\n",
    "  AND OA_STATUS = 'DELIVERED'  \n",
    "  AND TO_DATE(LOCAL_TIME_OA_CREATED_AT) BETWEEN TO_DATE('{start_date}') AND TO_DATE('{end_date}')\n",
    "  AND A.DRIVER_ID IS NOT NULL\n",
    "  AND A.DRIVER_ID IN (\n",
    "    '106390','505713','849881','934540','929023','940260','922071','758632','934401','795804','934617','843983','695424','944246','934726','505525','417317','900354','944148','886855','697658','879482','175548','926218','979392','616815','944845','829383','404096','471105','523572','200440','675381','850164','939888','811340','959681','617326','931442','940141','688207','836929','694661','814729','932653','939889','497003','782239','863716','917121','783400','623310','864960','837777','878699','745115','949024','455809','873527','927181','225373','948455','558869','546019','927935','938134','934145','462115','908205','940391','849786','450554','586436','935359','430713','964470','965251','854144','932956','781277','878550','381418','969328','773001','936429','976208','748880','394458','929840','938694','600394','182757','969060','844523','976210','976774','979925','144989','775592','117296','956776','355307','938565','848518','571979','178883','925982','932795','343000','770604','929999','646336','950700','346267','544298','829117','340871','931331','422098','938401','906414','879322','571681','946153','821606','828535','846721','334278','397703','357645','963288','481727','942341','425864','749512','817942','954222','340894','935173','822307','845380','749505','168384','878843','733547','828501','846472','929981','963742','433264','532515','827658','923870','931624','562468','672212','863724','342827','698832','491446','528197','936858','669548','410379','408141','811201','944439','934270','939135','546690','873845','406611','938513','508649','946950','947626','807924','818962','869476','935697','677054','977889','696818','793726'\n",
    "  )\n",
    "GROUP BY \n",
    "  A.DRIVER_ID, CITY_NAME, CLUSTER_NAME, In_Comms\n",
    "ORDER BY \n",
    "  ORDER_COUNT DESC, A.DRIVER_ID, CITY_NAME, CLUSTER_NAME\n",
    "\"\"\"\n",
    "\n",
    "# Run the query\n",
    "df = pd.read_sql(query, conn)\n",
    "\n",
    "# Preview\n",
    "df.head()\n"
   ]
  },
  {
   "cell_type": "code",
   "execution_count": 16,
   "id": "1469eaeb",
   "metadata": {},
   "outputs": [
    {
     "data": {
      "text/plain": [
       "15.909090909090908"
      ]
     },
     "execution_count": 16,
     "metadata": {},
     "output_type": "execute_result"
    }
   ],
   "source": [
    "import numpy as np\n",
    "mean_order_count = np.mean(df['ORDER_COUNT'])\n",
    "mean_order_count"
   ]
  }
 ],
 "metadata": {
  "kernelspec": {
   "display_name": "Python 3",
   "language": "python",
   "name": "python3"
  },
  "language_info": {
   "codemirror_mode": {
    "name": "ipython",
    "version": 3
   },
   "file_extension": ".py",
   "mimetype": "text/x-python",
   "name": "python",
   "nbconvert_exporter": "python",
   "pygments_lexer": "ipython3",
   "version": "3.9.6"
  }
 },
 "nbformat": 4,
 "nbformat_minor": 5
}
