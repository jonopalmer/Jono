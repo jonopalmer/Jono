{
 "cells": [
  {
   "cell_type": "code",
   "execution_count": 1,
   "metadata": {},
   "outputs": [],
   "source": [
    "import pandas as pd\n",
    "\n",
    "from roopy.snowflake_connector import SnowflakeConnector\n",
    "\n",
    "import seaborn as sns\n",
    "import matplotlib.pyplot as plt\n",
    "\n",
    "import plotly.express as px\n",
    "\n",
    "\n",
    "\n"
   ]
  },
  {
   "cell_type": "code",
   "execution_count": 3,
   "metadata": {},
   "outputs": [
    {
     "ename": "ProgrammingError",
     "evalue": "090106 (22000): Cannot perform CREATE TEMPTABLE. This session does not have a current schema. Call 'USE SCHEMA', or use a qualified name.",
     "output_type": "error",
     "traceback": [
      "\u001b[0;31m---------------------------------------------------------------------------\u001b[0m",
      "\u001b[0;31mProgrammingError\u001b[0m                          Traceback (most recent call last)",
      "Cell \u001b[0;32mIn[3], line 19\u001b[0m\n\u001b[1;32m     16\u001b[0m         \u001b[38;5;28;01mreturn\u001b[39;00m connection\u001b[38;5;241m.\u001b[39mquery_to_dataframe(query\u001b[38;5;241m=\u001b[39mquery)\n\u001b[1;32m     17\u001b[0m sf \u001b[38;5;241m=\u001b[39m query_snowflake \u001b[38;5;66;03m# shorthand alias\u001b[39;00m\n\u001b[0;32m---> 19\u001b[0m df\u001b[38;5;241m=\u001b[39m\u001b[43msf\u001b[49m\u001b[43m(\u001b[49m\u001b[38;5;124;43m\"\"\"\u001b[39;49m\n\u001b[1;32m     20\u001b[0m \n\u001b[1;32m     21\u001b[0m \n\u001b[1;32m     22\u001b[0m \n\u001b[1;32m     23\u001b[0m \n\u001b[1;32m     24\u001b[0m \n\u001b[1;32m     25\u001b[0m \n\u001b[1;32m     26\u001b[0m \n\u001b[1;32m     27\u001b[0m \n\u001b[1;32m     28\u001b[0m \u001b[38;5;124;43mCREATE OR REPLACE TEMPORARY TABLE CD_PAIRS1 AS (\u001b[39;49m\n\u001b[1;32m     29\u001b[0m \n\u001b[1;32m     30\u001b[0m \u001b[38;5;124;43m        SELECT \u001b[39;49m\n\u001b[1;32m     31\u001b[0m \u001b[38;5;124;43m            DZMH.COUNTRY_NAME, \u001b[39;49m\n\u001b[1;32m     32\u001b[0m \u001b[38;5;124;43m            DZMH.CLUSTER_NAME, \u001b[39;49m\n\u001b[1;32m     33\u001b[0m \u001b[38;5;124;43m            COALESCE(OA.ONBOARDING_AREA, OA.CITY_NAME) AS ONBOARDING_AREA\u001b[39;49m\n\u001b[1;32m     34\u001b[0m \u001b[38;5;124;43m        FROM production.AGGREGATE.AGG_ZONE_DELIVERY_METRICS_HOURLY AS DZMH\u001b[39;49m\n\u001b[1;32m     35\u001b[0m \u001b[38;5;124;43m        LEFT JOIN scratch.riders.zone_drn_id_to_onboarding_area AS OA ON DZMH.ZONE_CODE = OA.ZONE_CODE\u001b[39;49m\n\u001b[1;32m     36\u001b[0m \u001b[38;5;124;43m        WHERE DZMH.COUNTRY_NAME IN (\u001b[39;49m\u001b[38;5;124;43m'\u001b[39;49m\u001b[38;5;124;43mFrance\u001b[39;49m\u001b[38;5;124;43m'\u001b[39;49m\u001b[38;5;124;43m, \u001b[39;49m\u001b[38;5;124;43m'\u001b[39;49m\u001b[38;5;124;43mItaly\u001b[39;49m\u001b[38;5;124;43m'\u001b[39;49m\u001b[38;5;124;43m, \u001b[39;49m\u001b[38;5;124;43m'\u001b[39;49m\u001b[38;5;124;43mBelgium\u001b[39;49m\u001b[38;5;124;43m'\u001b[39;49m\u001b[38;5;124;43m, \u001b[39;49m\u001b[38;5;124;43m'\u001b[39;49m\u001b[38;5;124;43mUK\u001b[39;49m\u001b[38;5;124;43m'\u001b[39;49m\u001b[38;5;124;43m, \u001b[39;49m\u001b[38;5;124;43m'\u001b[39;49m\u001b[38;5;124;43mIreland\u001b[39;49m\u001b[38;5;124;43m'\u001b[39;49m\u001b[38;5;124;43m)\u001b[39;49m\n\u001b[1;32m     37\u001b[0m \u001b[38;5;124;43m            AND ONBOARDING_AREA IS NOT NULL\u001b[39;49m\n\u001b[1;32m     38\u001b[0m \u001b[38;5;124;43m        GROUP BY DZMH.COUNTRY_NAME, DZMH.CLUSTER_NAME, OA.ONBOARDING_AREA, OA.CITY_NAME\u001b[39;49m\n\u001b[1;32m     39\u001b[0m \u001b[38;5;124;43m        ORDER BY DZMH.COUNTRY_NAME DESC, DZMH.CLUSTER_NAME, OA.ONBOARDING_AREA\u001b[39;49m\n\u001b[1;32m     40\u001b[0m \u001b[38;5;124;43m        );\u001b[39;49m\n\u001b[1;32m     41\u001b[0m \n\u001b[1;32m     42\u001b[0m \u001b[38;5;124;43mCREATE OR REPLACE TEMPORARY TABLE CD_PAIRS2 AS (\u001b[39;49m\n\u001b[1;32m     43\u001b[0m \u001b[38;5;124;43m        SELECT A.COUNTRY_NAME, A.ONBOARDING_AREA AS CITY1, B.ONBOARDING_AREA AS CITY2, A.ONBOARDING_AREA || \u001b[39;49m\u001b[38;5;124;43m'\u001b[39;49m\u001b[38;5;124;43m - \u001b[39;49m\u001b[38;5;124;43m'\u001b[39;49m\u001b[38;5;124;43m || B.ONBOARDING_AREA AS CLUSTER_PAIR\u001b[39;49m\n\u001b[1;32m     44\u001b[0m \u001b[38;5;124;43m        FROM CD_PAIRS1 AS A\u001b[39;49m\n\u001b[1;32m     45\u001b[0m \u001b[38;5;124;43m        LEFT JOIN CD_PAIRS1 AS B ON A.CLUSTER_NAME = B.CLUSTER_NAME\u001b[39;49m\n\u001b[1;32m     46\u001b[0m \u001b[38;5;124;43m        ORDER BY A.COUNTRY_NAME DESC, A.ONBOARDING_AREA, B.ONBOARDING_AREA\u001b[39;49m\n\u001b[1;32m     47\u001b[0m \u001b[38;5;124;43m        );\u001b[39;49m\n\u001b[1;32m     48\u001b[0m \n\u001b[1;32m     49\u001b[0m \n\u001b[1;32m     50\u001b[0m \u001b[38;5;124;43m/*\u001b[39;49m\n\u001b[1;32m     51\u001b[0m \u001b[38;5;124;43mSelect * \u001b[39;49m\n\u001b[1;32m     52\u001b[0m \u001b[38;5;124;43mFrom scratch.riders.zone_drn_id_to_onboarding_area\u001b[39;49m\n\u001b[1;32m     53\u001b[0m \u001b[38;5;124;43mWhere Country_name in (\u001b[39;49m\u001b[38;5;124;43m'\u001b[39;49m\u001b[38;5;124;43mUK\u001b[39;49m\u001b[38;5;124;43m'\u001b[39;49m\u001b[38;5;124;43m,\u001b[39;49m\u001b[38;5;124;43m'\u001b[39;49m\u001b[38;5;124;43mIreland\u001b[39;49m\u001b[38;5;124;43m'\u001b[39;49m\u001b[38;5;124;43m,\u001b[39;49m\u001b[38;5;124;43m'\u001b[39;49m\u001b[38;5;124;43mFrance\u001b[39;49m\u001b[38;5;124;43m'\u001b[39;49m\u001b[38;5;124;43m,\u001b[39;49m\u001b[38;5;124;43m'\u001b[39;49m\u001b[38;5;124;43mItaly\u001b[39;49m\u001b[38;5;124;43m'\u001b[39;49m\u001b[38;5;124;43m,\u001b[39;49m\u001b[38;5;124;43m'\u001b[39;49m\u001b[38;5;124;43mBelgium\u001b[39;49m\u001b[38;5;124;43m'\u001b[39;49m\u001b[38;5;124;43m) \u001b[39;49m\n\u001b[1;32m     54\u001b[0m \u001b[38;5;124;43mORDER BY country_name DESC, ONBOARDING_AREA;\u001b[39;49m\n\u001b[1;32m     55\u001b[0m \n\u001b[1;32m     56\u001b[0m \n\u001b[1;32m     57\u001b[0m \u001b[38;5;124;43mSELECT * FROM CD_PAIRS1 ORDER BY COUNTRY_NAME DESC, CITY1, CITY2;\u001b[39;49m\n\u001b[1;32m     58\u001b[0m \n\u001b[1;32m     59\u001b[0m \u001b[38;5;124;43mSELECT * FROM CD_PAIRS2 ORDER BY COUNTRY_NAME DESC, CITY1, CITY2;\u001b[39;49m\n\u001b[1;32m     60\u001b[0m \u001b[38;5;124;43m*/\u001b[39;49m\n\u001b[1;32m     61\u001b[0m \n\u001b[1;32m     62\u001b[0m \u001b[38;5;124;43m--------------------------------------------------------------------------------------------------------------------------------------------------------------------------------------  \u001b[39;49m\n\u001b[1;32m     63\u001b[0m \u001b[38;5;124;43m-- ===========================================================================================================================================================\u001b[39;49m\n\u001b[1;32m     64\u001b[0m \u001b[38;5;124;43m-- 1.2 CITY DISTANCES -------------------------------------------------------------------------------------------------------------------------\u001b[39;49m\n\u001b[1;32m     65\u001b[0m \u001b[38;5;124;43m-- ===========================================================================================================================================================\u001b[39;49m\n\u001b[1;32m     66\u001b[0m \n\u001b[1;32m     67\u001b[0m \n\u001b[1;32m     68\u001b[0m \u001b[38;5;124;43mCREATE OR REPLACE TEMPORARY TABLE CITY_DISTANCES AS (\u001b[39;49m\n\u001b[1;32m     69\u001b[0m \u001b[38;5;124;43m        WITH city_list AS (\u001b[39;49m\n\u001b[1;32m     70\u001b[0m \u001b[38;5;124;43m            SELECT\u001b[39;49m\n\u001b[1;32m     71\u001b[0m \u001b[38;5;124;43m                B.ONBOARDING_AREA,\u001b[39;49m\n\u001b[1;32m     72\u001b[0m \u001b[38;5;124;43m                MEDIAN(CENTROID_GEO_LAT) AS GEO_LAT, \u001b[39;49m\n\u001b[1;32m     73\u001b[0m \u001b[38;5;124;43m                MEDIAN(CENTROID_GEO_LONG) AS GEO_LONG\u001b[39;49m\n\u001b[1;32m     74\u001b[0m \u001b[38;5;124;43m            FROM PRODUCTION.REFERENCE.ZONE_CITY_COUNTRY A \u001b[39;49m\n\u001b[1;32m     75\u001b[0m \u001b[38;5;124;43m            LEFT JOIN scratch.riders.zone_drn_id_to_onboarding_area B ON A.zone_code = B.ZONE_CODE\u001b[39;49m\n\u001b[1;32m     76\u001b[0m \u001b[38;5;124;43m            WHERE A.COUNTRY_NAME IN (\u001b[39;49m\u001b[38;5;124;43m'\u001b[39;49m\u001b[38;5;124;43mFrance\u001b[39;49m\u001b[38;5;124;43m'\u001b[39;49m\u001b[38;5;124;43m, \u001b[39;49m\u001b[38;5;124;43m'\u001b[39;49m\u001b[38;5;124;43mItaly\u001b[39;49m\u001b[38;5;124;43m'\u001b[39;49m\u001b[38;5;124;43m, \u001b[39;49m\u001b[38;5;124;43m'\u001b[39;49m\u001b[38;5;124;43mBelgium\u001b[39;49m\u001b[38;5;124;43m'\u001b[39;49m\u001b[38;5;124;43m, \u001b[39;49m\u001b[38;5;124;43m'\u001b[39;49m\u001b[38;5;124;43mUK\u001b[39;49m\u001b[38;5;124;43m'\u001b[39;49m\u001b[38;5;124;43m, \u001b[39;49m\u001b[38;5;124;43m'\u001b[39;49m\u001b[38;5;124;43mIreland\u001b[39;49m\u001b[38;5;124;43m'\u001b[39;49m\u001b[38;5;124;43m)\u001b[39;49m\n\u001b[1;32m     77\u001b[0m \u001b[38;5;124;43m                AND B.ONBOARDING_AREA IS NOT NULL\u001b[39;49m\n\u001b[1;32m     78\u001b[0m \u001b[38;5;124;43m            GROUP BY B.ONBOARDING_AREA\u001b[39;49m\n\u001b[1;32m     79\u001b[0m \u001b[38;5;124;43m            ORDER BY B.ONBOARDING_AREA\u001b[39;49m\n\u001b[1;32m     80\u001b[0m \u001b[38;5;124;43m        )\u001b[39;49m\n\u001b[1;32m     81\u001b[0m \u001b[38;5;124;43m        SELECT \u001b[39;49m\n\u001b[1;32m     82\u001b[0m \u001b[38;5;124;43m            A.ONBOARDING_AREA || B.ONBOARDING_AREA AS CITY_DETAILED_COMBO,\u001b[39;49m\n\u001b[1;32m     83\u001b[0m \u001b[38;5;124;43m            A.ONBOARDING_AREA AS CITY_DETAILED_1, \u001b[39;49m\n\u001b[1;32m     84\u001b[0m \u001b[38;5;124;43m            B.ONBOARDING_AREA AS CITY_DETAILED_2, \u001b[39;49m\n\u001b[1;32m     85\u001b[0m \u001b[38;5;124;43m            A.GEO_LAT AS CITY_DETAILED_1_LAT,\u001b[39;49m\n\u001b[1;32m     86\u001b[0m \u001b[38;5;124;43m            A.GEO_LONG AS CITY_DETAILED_1_LONG,\u001b[39;49m\n\u001b[1;32m     87\u001b[0m \u001b[38;5;124;43m            B.GEO_LAT AS CITY_DETAILED_2_LAT,\u001b[39;49m\n\u001b[1;32m     88\u001b[0m \u001b[38;5;124;43m            B.GEO_LONG AS CITY_DETAILED_2_LONG,\u001b[39;49m\n\u001b[1;32m     89\u001b[0m \u001b[38;5;124;43m            ROUND(haversine(A.GEO_LAT, A.GEO_LONG, B.GEO_LAT, B.GEO_LONG), 0) AS DISTANCE_KM,\u001b[39;49m\n\u001b[1;32m     90\u001b[0m \u001b[38;5;124;43m            CASE WHEN ROUND(haversine(A.GEO_LAT, A.GEO_LONG, B.GEO_LAT, B.GEO_LONG), 0) > 20 THEN \u001b[39;49m\u001b[38;5;124;43m'\u001b[39;49m\u001b[38;5;124;43mFAR\u001b[39;49m\u001b[38;5;124;43m'\u001b[39;49m\n\u001b[1;32m     91\u001b[0m \u001b[38;5;124;43m                ELSE \u001b[39;49m\u001b[38;5;124;43m'\u001b[39;49m\u001b[38;5;124;43mNEAR\u001b[39;49m\u001b[38;5;124;43m'\u001b[39;49m\n\u001b[1;32m     92\u001b[0m \u001b[38;5;124;43m            END AS DISTANCE_CATEGORY \u001b[39;49m\n\u001b[1;32m     93\u001b[0m \u001b[38;5;124;43m        FROM city_list A\u001b[39;49m\n\u001b[1;32m     94\u001b[0m \u001b[38;5;124;43m        CROSS JOIN city_list B\u001b[39;49m\n\u001b[1;32m     95\u001b[0m \u001b[38;5;124;43m        ORDER BY CITY_DETAILED_COMBO\u001b[39;49m\n\u001b[1;32m     96\u001b[0m \u001b[38;5;124;43m        )\u001b[39;49m\n\u001b[1;32m     97\u001b[0m \n\u001b[1;32m     98\u001b[0m \u001b[38;5;124;43m;\u001b[39;49m\n\u001b[1;32m     99\u001b[0m \u001b[38;5;124;43m -- SELECT * FROM CITY_DISTANCES WHERE CITY_DETAILED_1 LIKE \u001b[39;49m\u001b[38;5;124;43m'\u001b[39;49m\u001b[38;5;124;43mLondon\u001b[39;49m\u001b[38;5;124;43m%\u001b[39;49m\u001b[38;5;124;43m'\u001b[39;49m\u001b[38;5;124;43m and CITY_DETAILED_2 LIKE \u001b[39;49m\u001b[38;5;124;43m'\u001b[39;49m\u001b[38;5;124;43mLondon\u001b[39;49m\u001b[38;5;124;43m%\u001b[39;49m\u001b[38;5;124;43m'\u001b[39;49m\u001b[38;5;124;43m order by CITY_DETAILED_1, CITY_DETAILED_2;\u001b[39;49m\n\u001b[1;32m    100\u001b[0m \n\u001b[1;32m    101\u001b[0m \n\u001b[1;32m    102\u001b[0m \u001b[38;5;124;43mCREATE OR REPLACE TEMPORARY TABLE CITY_DISTANCES_CITY_NAME AS (\u001b[39;49m\n\u001b[1;32m    103\u001b[0m \u001b[38;5;124;43m        WITH city_list2 AS (\u001b[39;49m\n\u001b[1;32m    104\u001b[0m \u001b[38;5;124;43m            SELECT\u001b[39;49m\n\u001b[1;32m    105\u001b[0m \u001b[38;5;124;43m                CITY_NAME AS CITY_NAME,\u001b[39;49m\n\u001b[1;32m    106\u001b[0m \u001b[38;5;124;43m                MEDIAN(CENTROID_GEO_LAT) AS GEO_LAT, \u001b[39;49m\n\u001b[1;32m    107\u001b[0m \u001b[38;5;124;43m                MEDIAN(CENTROID_GEO_LONG) AS GEO_LONG\u001b[39;49m\n\u001b[1;32m    108\u001b[0m \u001b[38;5;124;43m            FROM PRODUCTION.REFERENCE.ZONE_CITY_COUNTRY\u001b[39;49m\n\u001b[1;32m    109\u001b[0m \u001b[38;5;124;43m            WHERE COUNTRY_NAME IN (\u001b[39;49m\u001b[38;5;124;43m'\u001b[39;49m\u001b[38;5;124;43mFrance\u001b[39;49m\u001b[38;5;124;43m'\u001b[39;49m\u001b[38;5;124;43m, \u001b[39;49m\u001b[38;5;124;43m'\u001b[39;49m\u001b[38;5;124;43mItaly\u001b[39;49m\u001b[38;5;124;43m'\u001b[39;49m\u001b[38;5;124;43m, \u001b[39;49m\u001b[38;5;124;43m'\u001b[39;49m\u001b[38;5;124;43mBelgium\u001b[39;49m\u001b[38;5;124;43m'\u001b[39;49m\u001b[38;5;124;43m, \u001b[39;49m\u001b[38;5;124;43m'\u001b[39;49m\u001b[38;5;124;43mUK\u001b[39;49m\u001b[38;5;124;43m'\u001b[39;49m\u001b[38;5;124;43m, \u001b[39;49m\u001b[38;5;124;43m'\u001b[39;49m\u001b[38;5;124;43mIreland\u001b[39;49m\u001b[38;5;124;43m'\u001b[39;49m\u001b[38;5;124;43m)\u001b[39;49m\n\u001b[1;32m    110\u001b[0m \u001b[38;5;124;43m            GROUP BY CITY_NAME\u001b[39;49m\n\u001b[1;32m    111\u001b[0m \u001b[38;5;124;43m        )\u001b[39;49m\n\u001b[1;32m    112\u001b[0m \u001b[38;5;124;43m        SELECT \u001b[39;49m\n\u001b[1;32m    113\u001b[0m \u001b[38;5;124;43m            A.CITY_NAME || B.CITY_NAME AS CITY_NAME_COMBO,\u001b[39;49m\n\u001b[1;32m    114\u001b[0m \u001b[38;5;124;43m            A.CITY_NAME AS CITY_NAME_1, \u001b[39;49m\n\u001b[1;32m    115\u001b[0m \u001b[38;5;124;43m            B.CITY_NAME AS CITY_NAME_2, \u001b[39;49m\n\u001b[1;32m    116\u001b[0m \u001b[38;5;124;43m            A.GEO_LAT AS CITY_NAME_1_LAT,\u001b[39;49m\n\u001b[1;32m    117\u001b[0m \u001b[38;5;124;43m            A.GEO_LONG AS CITY_NAME_1_LONG,\u001b[39;49m\n\u001b[1;32m    118\u001b[0m \u001b[38;5;124;43m            B.GEO_LAT AS CITY_NAME_2_LAT,\u001b[39;49m\n\u001b[1;32m    119\u001b[0m \u001b[38;5;124;43m            B.GEO_LONG AS CITY_NAME_2_LONG,\u001b[39;49m\n\u001b[1;32m    120\u001b[0m \u001b[38;5;124;43m            ROUND(haversine(A.GEO_LAT, A.GEO_LONG, B.GEO_LAT, B.GEO_LONG), 0) AS DISTANCE_KM,\u001b[39;49m\n\u001b[1;32m    121\u001b[0m \u001b[38;5;124;43m            CASE WHEN ROUND(haversine(A.GEO_LAT, A.GEO_LONG, B.GEO_LAT, B.GEO_LONG), 0) > 20 THEN \u001b[39;49m\u001b[38;5;124;43m'\u001b[39;49m\u001b[38;5;124;43mFAR\u001b[39;49m\u001b[38;5;124;43m'\u001b[39;49m\n\u001b[1;32m    122\u001b[0m \u001b[38;5;124;43m                ELSE \u001b[39;49m\u001b[38;5;124;43m'\u001b[39;49m\u001b[38;5;124;43mNEAR\u001b[39;49m\u001b[38;5;124;43m'\u001b[39;49m\n\u001b[1;32m    123\u001b[0m \u001b[38;5;124;43m            END AS DISTANCE_CATEGORY \u001b[39;49m\n\u001b[1;32m    124\u001b[0m \u001b[38;5;124;43m        FROM city_list2 A\u001b[39;49m\n\u001b[1;32m    125\u001b[0m \u001b[38;5;124;43m        CROSS JOIN city_list2 B\u001b[39;49m\n\u001b[1;32m    126\u001b[0m \u001b[38;5;124;43m        ORDER BY CITY_NAME_COMBO\u001b[39;49m\n\u001b[1;32m    127\u001b[0m \u001b[38;5;124;43m        );\u001b[39;49m\n\u001b[1;32m    128\u001b[0m \u001b[38;5;124;43m/*\u001b[39;49m\n\u001b[1;32m    129\u001b[0m \u001b[38;5;124;43mSELECT * FROM CITY_DISTANCES_CITY_NAME WHERE CITY_NAME_1 = \u001b[39;49m\u001b[38;5;124;43m'\u001b[39;49m\u001b[38;5;124;43mParis\u001b[39;49m\u001b[38;5;124;43m'\u001b[39;49m\u001b[38;5;124;43m ORDER BY DISTANCE_KM;\u001b[39;49m\n\u001b[1;32m    130\u001b[0m \u001b[38;5;124;43m*/ \u001b[39;49m\n\u001b[1;32m    131\u001b[0m \n\u001b[1;32m    132\u001b[0m \n\u001b[1;32m    133\u001b[0m \n\u001b[1;32m    134\u001b[0m \u001b[38;5;124;43m--------------------------------------------------------------------------------------------------------------------------------------------------------------------------------------------\u001b[39;49m\n\u001b[1;32m    135\u001b[0m \u001b[38;5;124;43m--------THE SF SIDE---------------------------------------------------------------------------------------------------------------------------------------------------\u001b[39;49m\n\u001b[1;32m    136\u001b[0m \u001b[38;5;124;43m-- ===========================================================================================================================================================\u001b[39;49m\n\u001b[1;32m    137\u001b[0m \u001b[38;5;124;43m-- 2.0 New_Onboarding_Area_Process -------------------------------------------------------------------------------------------------------------------------\u001b[39;49m\n\u001b[1;32m    138\u001b[0m \u001b[38;5;124;43m-- ===========================================================================================================================================================\u001b[39;49m\n\u001b[1;32m    139\u001b[0m \n\u001b[1;32m    140\u001b[0m \u001b[38;5;124;43mCREATE OR REPLACE TEMPORARY TABLE New_OA_Process AS  (\u001b[39;49m\n\u001b[1;32m    141\u001b[0m \u001b[38;5;124;43m        SELECT\u001b[39;49m\n\u001b[1;32m    142\u001b[0m \u001b[38;5;124;43m            onboarding_area,\u001b[39;49m\n\u001b[1;32m    143\u001b[0m \u001b[38;5;124;43m            driver_id,\u001b[39;49m\n\u001b[1;32m    144\u001b[0m \u001b[38;5;124;43m            TO_CHAR(\u001b[39;49m\n\u001b[1;32m    145\u001b[0m \u001b[38;5;124;43m                TO_DATE(\u001b[39;49m\n\u001b[1;32m    146\u001b[0m \u001b[38;5;124;43m                    CASE \u001b[39;49m\n\u001b[1;32m    147\u001b[0m \u001b[38;5;124;43m                        WHEN LIFECYCLE_MAIN_STAGE = \u001b[39;49m\u001b[38;5;124;43m'\u001b[39;49m\u001b[38;5;124;43mapplication\u001b[39;49m\u001b[38;5;124;43m'\u001b[39;49m\u001b[38;5;124;43m \u001b[39;49m\n\u001b[1;32m    148\u001b[0m \u001b[38;5;124;43m                        AND STAGE_STATUS ILIKE \u001b[39;49m\u001b[38;5;124;43m'\u001b[39;49m\u001b[38;5;132;43;01m%c\u001b[39;49;00m\u001b[38;5;124;43mompleted\u001b[39;49m\u001b[38;5;124;43m%\u001b[39;49m\u001b[38;5;124;43m'\u001b[39;49m\u001b[38;5;124;43m \u001b[39;49m\n\u001b[1;32m    149\u001b[0m \u001b[38;5;124;43m                        THEN greatest(EVENT_UPDATED_AT, EVENT_CREATED_AT)\u001b[39;49m\n\u001b[1;32m    150\u001b[0m \u001b[38;5;124;43m                    END), \u001b[39;49m\u001b[38;5;124;43m'\u001b[39;49m\u001b[38;5;124;43mYYYY-MM-DD\u001b[39;49m\u001b[38;5;124;43m'\u001b[39;49m\u001b[38;5;124;43m) AS onboarding_at_date\u001b[39;49m\n\u001b[1;32m    151\u001b[0m \u001b[38;5;124;43m            , CASE WHEN COUNTRY_NAME IN (\u001b[39;49m\u001b[38;5;124;43m'\u001b[39;49m\u001b[38;5;124;43mUK\u001b[39;49m\u001b[38;5;124;43m'\u001b[39;49m\u001b[38;5;124;43m, \u001b[39;49m\u001b[38;5;124;43m'\u001b[39;49m\u001b[38;5;124;43mIreland\u001b[39;49m\u001b[38;5;124;43m'\u001b[39;49m\u001b[38;5;124;43m) THEN \u001b[39;49m\u001b[38;5;124;43m'\u001b[39;49m\u001b[38;5;124;43mUKI\u001b[39;49m\u001b[38;5;124;43m'\u001b[39;49m\u001b[38;5;124;43m ELSE COUNTRY_NAME END AS COUNTRY_GROUP\u001b[39;49m\n\u001b[1;32m    152\u001b[0m \n\u001b[1;32m    153\u001b[0m \u001b[38;5;124;43m        FROM RIDERS.RIDER_LIFECYCLE_LATEST_STATUS AS a\u001b[39;49m\n\u001b[1;32m    154\u001b[0m \u001b[38;5;124;43m        LEFT JOIN production.denormalised.driver_accounting_daily AS b \u001b[39;49m\n\u001b[1;32m    155\u001b[0m \u001b[38;5;124;43m                            ON CAST(a.RIDER_UUID AS STRING) = CAST(b.DRIVER_UUID AS STRING)\u001b[39;49m\n\u001b[1;32m    156\u001b[0m \u001b[38;5;124;43m        WHERE \u001b[39;49m\n\u001b[1;32m    157\u001b[0m \n\u001b[1;32m    158\u001b[0m \u001b[38;5;124;43m            TO_DATE(DATE_TRUNC(\u001b[39;49m\u001b[38;5;124;43m'\u001b[39;49m\u001b[38;5;124;43mmonth\u001b[39;49m\u001b[38;5;124;43m'\u001b[39;49m\u001b[38;5;124;43m, TO_DATE(\u001b[39;49m\n\u001b[1;32m    159\u001b[0m \u001b[38;5;124;43m                CASE \u001b[39;49m\n\u001b[1;32m    160\u001b[0m \u001b[38;5;124;43m                    WHEN LIFECYCLE_MAIN_STAGE = \u001b[39;49m\u001b[38;5;124;43m'\u001b[39;49m\u001b[38;5;124;43mapplication\u001b[39;49m\u001b[38;5;124;43m'\u001b[39;49m\u001b[38;5;124;43m \u001b[39;49m\n\u001b[1;32m    161\u001b[0m \u001b[38;5;124;43m                    AND STAGE_STATUS ILIKE \u001b[39;49m\u001b[38;5;124;43m'\u001b[39;49m\u001b[38;5;132;43;01m%c\u001b[39;49;00m\u001b[38;5;124;43mompleted\u001b[39;49m\u001b[38;5;124;43m%\u001b[39;49m\u001b[38;5;124;43m'\u001b[39;49m\u001b[38;5;124;43m \u001b[39;49m\n\u001b[1;32m    162\u001b[0m \u001b[38;5;124;43m                    THEN greatest(EVENT_UPDATED_AT, EVENT_CREATED_AT)\u001b[39;49m\n\u001b[1;32m    163\u001b[0m \u001b[38;5;124;43m                END))) >= \u001b[39;49m\u001b[38;5;124;43m'\u001b[39;49m\u001b[38;5;124;43m2023-11-01\u001b[39;49m\u001b[38;5;124;43m'\u001b[39;49m\n\u001b[1;32m    164\u001b[0m \u001b[38;5;124;43m            AND LIFECYCLE_MAIN_STAGE = \u001b[39;49m\u001b[38;5;124;43m'\u001b[39;49m\u001b[38;5;124;43mapplication\u001b[39;49m\u001b[38;5;124;43m'\u001b[39;49m\n\u001b[1;32m    165\u001b[0m \u001b[38;5;124;43m            AND ONBOARDING_PLATFORM = \u001b[39;49m\u001b[38;5;124;43m'\u001b[39;49m\u001b[38;5;124;43msalesforce\u001b[39;49m\u001b[38;5;124;43m'\u001b[39;49m\n\u001b[1;32m    166\u001b[0m \u001b[38;5;124;43m            AND COUNTRY_NAME IN (\u001b[39;49m\u001b[38;5;124;43m'\u001b[39;49m\u001b[38;5;124;43mIreland\u001b[39;49m\u001b[38;5;124;43m'\u001b[39;49m\u001b[38;5;124;43m, \u001b[39;49m\u001b[38;5;124;43m'\u001b[39;49m\u001b[38;5;124;43mUK\u001b[39;49m\u001b[38;5;124;43m'\u001b[39;49m\u001b[38;5;124;43m)\u001b[39;49m\n\u001b[1;32m    167\u001b[0m \u001b[38;5;124;43m            AND (NOT is_substitute_account_on_admin OR is_substitute_account_on_admin IS NULL)\u001b[39;49m\n\u001b[1;32m    168\u001b[0m \u001b[38;5;124;43m        GROUP BY \u001b[39;49m\n\u001b[1;32m    169\u001b[0m \u001b[38;5;124;43m            onboarding_area,\u001b[39;49m\n\u001b[1;32m    170\u001b[0m \u001b[38;5;124;43m            RIDER_UUID,\u001b[39;49m\n\u001b[1;32m    171\u001b[0m \u001b[38;5;124;43m            TO_DATE(\u001b[39;49m\n\u001b[1;32m    172\u001b[0m \u001b[38;5;124;43m                CASE \u001b[39;49m\n\u001b[1;32m    173\u001b[0m \u001b[38;5;124;43m                    WHEN LIFECYCLE_MAIN_STAGE = \u001b[39;49m\u001b[38;5;124;43m'\u001b[39;49m\u001b[38;5;124;43mapplication\u001b[39;49m\u001b[38;5;124;43m'\u001b[39;49m\u001b[38;5;124;43m \u001b[39;49m\n\u001b[1;32m    174\u001b[0m \u001b[38;5;124;43m                    AND STAGE_STATUS ILIKE \u001b[39;49m\u001b[38;5;124;43m'\u001b[39;49m\u001b[38;5;132;43;01m%c\u001b[39;49;00m\u001b[38;5;124;43mompleted\u001b[39;49m\u001b[38;5;124;43m%\u001b[39;49m\u001b[38;5;124;43m'\u001b[39;49m\u001b[38;5;124;43m \u001b[39;49m\n\u001b[1;32m    175\u001b[0m \u001b[38;5;124;43m                    THEN greatest(EVENT_UPDATED_AT, EVENT_CREATED_AT)\u001b[39;49m\n\u001b[1;32m    176\u001b[0m \u001b[38;5;124;43m                END\u001b[39;49m\n\u001b[1;32m    177\u001b[0m \u001b[38;5;124;43m            ),\u001b[39;49m\n\u001b[1;32m    178\u001b[0m \u001b[38;5;124;43m            driver_id,\u001b[39;49m\n\u001b[1;32m    179\u001b[0m \u001b[38;5;124;43m            COUNTRY_GROUP\u001b[39;49m\n\u001b[1;32m    180\u001b[0m \u001b[38;5;124;43m        HAVING COUNT(DISTINCT CASE \u001b[39;49m\n\u001b[1;32m    181\u001b[0m \u001b[38;5;124;43m            WHEN LIFECYCLE_MAIN_STAGE = \u001b[39;49m\u001b[38;5;124;43m'\u001b[39;49m\u001b[38;5;124;43mapplication\u001b[39;49m\u001b[38;5;124;43m'\u001b[39;49m\u001b[38;5;124;43m \u001b[39;49m\n\u001b[1;32m    182\u001b[0m \u001b[38;5;124;43m            AND STAGE_STATUS ILIKE \u001b[39;49m\u001b[38;5;124;43m'\u001b[39;49m\u001b[38;5;132;43;01m%c\u001b[39;49;00m\u001b[38;5;124;43mompleted\u001b[39;49m\u001b[38;5;124;43m%\u001b[39;49m\u001b[38;5;124;43m'\u001b[39;49m\n\u001b[1;32m    183\u001b[0m \u001b[38;5;124;43m            THEN RIDER_UUID \u001b[39;49m\n\u001b[1;32m    184\u001b[0m \u001b[38;5;124;43m        END) >= 1\u001b[39;49m\n\u001b[1;32m    185\u001b[0m \u001b[38;5;124;43m        ORDER BY \u001b[39;49m\n\u001b[1;32m    186\u001b[0m \u001b[38;5;124;43m            COUNTRY_GROUP desc, onboarding_area, 3, 2\u001b[39;49m\n\u001b[1;32m    187\u001b[0m \n\u001b[1;32m    188\u001b[0m \u001b[38;5;124;43m        )\u001b[39;49m\n\u001b[1;32m    189\u001b[0m \n\u001b[1;32m    190\u001b[0m \n\u001b[1;32m    191\u001b[0m \u001b[38;5;124;43m        ;\u001b[39;49m\n\u001b[1;32m    192\u001b[0m \n\u001b[1;32m    193\u001b[0m \n\u001b[1;32m    194\u001b[0m \n\u001b[1;32m    195\u001b[0m \u001b[38;5;124;43m-- ===========================================================================================================================================================\u001b[39;49m\n\u001b[1;32m    196\u001b[0m \u001b[38;5;124;43m-- 2.1 SF_OB_City -------------------------------------------------------------------------------------------------------------------------\u001b[39;49m\n\u001b[1;32m    197\u001b[0m \u001b[38;5;124;43m-- ===========================================================================================================================================================\u001b[39;49m\n\u001b[1;32m    198\u001b[0m \n\u001b[1;32m    199\u001b[0m \u001b[38;5;124;43mCREATE OR REPLACE TEMPORARY TABLE SF_OB_City AS (\u001b[39;49m\n\u001b[1;32m    200\u001b[0m \u001b[38;5;124;43m            SELECT\u001b[39;49m\n\u001b[1;32m    201\u001b[0m \u001b[38;5;124;43m                COUNTRY_GROUP,\u001b[39;49m\n\u001b[1;32m    202\u001b[0m \u001b[38;5;124;43m                approved_month,\u001b[39;49m\n\u001b[1;32m    203\u001b[0m \u001b[38;5;124;43m                COALESCE(CITY, onboarding_area) AS CITY,\u001b[39;49m\n\u001b[1;32m    204\u001b[0m \u001b[38;5;124;43m                driver_id,\u001b[39;49m\n\u001b[1;32m    205\u001b[0m \u001b[38;5;124;43m                RIDER_UUID,\u001b[39;49m\n\u001b[1;32m    206\u001b[0m \u001b[38;5;124;43m                activated_28D_OB_city,\u001b[39;49m\n\u001b[1;32m    207\u001b[0m \u001b[38;5;124;43m                activated_OB_city,\u001b[39;49m\n\u001b[1;32m    208\u001b[0m \u001b[38;5;124;43m                activated_1HOUR_OB_city,\u001b[39;49m\n\u001b[1;32m    209\u001b[0m \u001b[38;5;124;43m                ORDER_1_28D_OB_city,\u001b[39;49m\n\u001b[1;32m    210\u001b[0m \u001b[38;5;124;43m                ORDER_1_OB_city,\u001b[39;49m\n\u001b[1;32m    211\u001b[0m \u001b[38;5;124;43m                ORDER_20_28D_OB_city,\u001b[39;49m\n\u001b[1;32m    212\u001b[0m \u001b[38;5;124;43m                ORDER_20_OB_city,\u001b[39;49m\n\u001b[1;32m    213\u001b[0m \u001b[38;5;124;43m                CREATED_IN_RIDER_ADMIN_AT\u001b[39;49m\n\u001b[1;32m    214\u001b[0m \u001b[38;5;124;43m            FROM (\u001b[39;49m\n\u001b[1;32m    215\u001b[0m \u001b[38;5;124;43m                SELECT\u001b[39;49m\n\u001b[1;32m    216\u001b[0m \u001b[38;5;124;43m                    CASE WHEN a.COUNTRY_NAME IN (\u001b[39;49m\u001b[38;5;124;43m'\u001b[39;49m\u001b[38;5;124;43mUK\u001b[39;49m\u001b[38;5;124;43m'\u001b[39;49m\u001b[38;5;124;43m, \u001b[39;49m\u001b[38;5;124;43m'\u001b[39;49m\u001b[38;5;124;43mIreland\u001b[39;49m\u001b[38;5;124;43m'\u001b[39;49m\u001b[38;5;124;43m) THEN \u001b[39;49m\u001b[38;5;124;43m'\u001b[39;49m\u001b[38;5;124;43mUKI\u001b[39;49m\u001b[38;5;124;43m'\u001b[39;49m\u001b[38;5;124;43m ELSE a.COUNTRY_NAME END AS COUNTRY_GROUP,\u001b[39;49m\n\u001b[1;32m    217\u001b[0m \u001b[38;5;124;43m                    TO_DATE(DATE_TRUNC(\u001b[39;49m\u001b[38;5;124;43m'\u001b[39;49m\u001b[38;5;124;43mmonth\u001b[39;49m\u001b[38;5;124;43m'\u001b[39;49m\u001b[38;5;124;43m, CREATED_IN_RIDER_ADMIN_AT)) AS approved_month,\u001b[39;49m\n\u001b[1;32m    218\u001b[0m \u001b[38;5;124;43m                    IFNULL(CASE WHEN b.FIRST_WORK_DATE <= DATEADD(\u001b[39;49m\u001b[38;5;124;43m'\u001b[39;49m\u001b[38;5;124;43mday\u001b[39;49m\u001b[38;5;124;43m'\u001b[39;49m\u001b[38;5;124;43m, 28, CREATED_IN_RIDER_ADMIN_AT) THEN 1 ELSE 0 END, 0) AS activated_28D_OB_city,\u001b[39;49m\n\u001b[1;32m    219\u001b[0m \u001b[38;5;124;43m                    IFNULL(CASE WHEN b.FIRST_WORK_DATE IS NOT NULL THEN 1 ELSE 0 END, 0) AS activated_OB_city,\u001b[39;49m\n\u001b[1;32m    220\u001b[0m \u001b[38;5;124;43m                    IFNULL(CASE WHEN b.HOURS_WORKED_CUMULATIVE >= 1 THEN 1 ELSE 0 END, 0) AS activated_1HOUR_OB_city,\u001b[39;49m\n\u001b[1;32m    221\u001b[0m \u001b[38;5;124;43m                    IFNULL(CASE WHEN b.FIRST_ORDER_DATE <= DATEADD(\u001b[39;49m\u001b[38;5;124;43m'\u001b[39;49m\u001b[38;5;124;43mday\u001b[39;49m\u001b[38;5;124;43m'\u001b[39;49m\u001b[38;5;124;43m, 28, CREATED_IN_RIDER_ADMIN_AT) THEN 1 ELSE 0 END, 0) AS ORDER_1_28D_OB_city,\u001b[39;49m\n\u001b[1;32m    222\u001b[0m \u001b[38;5;124;43m                    IFNULL(CASE WHEN b.FIRST_ORDER_DATE IS NOT NULL THEN 1 ELSE 0 END, 0) AS ORDER_1_OB_city,\u001b[39;49m\n\u001b[1;32m    223\u001b[0m \u001b[38;5;124;43m                    IFNULL(CASE WHEN b.FIRST_20_ORDERS_DATE <= DATEADD(\u001b[39;49m\u001b[38;5;124;43m'\u001b[39;49m\u001b[38;5;124;43mday\u001b[39;49m\u001b[38;5;124;43m'\u001b[39;49m\u001b[38;5;124;43m, 28, CREATED_IN_RIDER_ADMIN_AT) THEN 1 ELSE 0 END, 0) AS ORDER_20_28D_OB_city,\u001b[39;49m\n\u001b[1;32m    224\u001b[0m \u001b[38;5;124;43m                    IFNULL(CASE WHEN b.FIRST_20_ORDERS_DATE IS NOT NULL THEN 1 ELSE 0 END, 0) AS ORDER_20_OB_city,\u001b[39;49m\n\u001b[1;32m    225\u001b[0m \u001b[38;5;124;43m                    CREATED_IN_RIDER_ADMIN_AT, \u001b[39;49m\n\u001b[1;32m    226\u001b[0m \u001b[38;5;124;43m                    a.onboarding_area AS CITY,\u001b[39;49m\n\u001b[1;32m    227\u001b[0m \u001b[38;5;124;43m                    c.onboarding_area, \u001b[39;49m\n\u001b[1;32m    228\u001b[0m \u001b[38;5;124;43m                    case when a.onboarding_area = c.onboarding_area THEN 1 ELSE 0 END AS matches_ob_city,\u001b[39;49m\n\u001b[1;32m    229\u001b[0m \u001b[38;5;124;43m        \u001b[39;49m\n\u001b[1;32m    230\u001b[0m \u001b[38;5;124;43m                \u001b[39;49m\n\u001b[1;32m    231\u001b[0m \u001b[38;5;124;43m                    --coalesce(c.onboarding_area, a.onboarding_area) AS CITY,   --- updated\u001b[39;49m\n\u001b[1;32m    232\u001b[0m \n\u001b[1;32m    233\u001b[0m \u001b[38;5;124;43m                    b.driver_id, a.RIDER_UUID,\u001b[39;49m\n\u001b[1;32m    234\u001b[0m \u001b[38;5;124;43m                    ROW_NUMBER() OVER (PARTITION BY b.driver_id ORDER BY EVENT_UPDATED_AT ASC, a.onboarding_area) AS rn\u001b[39;49m\n\u001b[1;32m    235\u001b[0m \u001b[38;5;124;43m                FROM PRODUCTION.RIDERS.RIDER_LIFECYCLE_LATEST_STATUS AS a\u001b[39;49m\n\u001b[1;32m    236\u001b[0m \u001b[38;5;124;43m                LEFT JOIN production.denormalised.driver_accounting_daily AS b \u001b[39;49m\n\u001b[1;32m    237\u001b[0m \u001b[38;5;124;43m                    ON CAST(a.RIDER_UUID AS STRING) = CAST(b.DRIVER_UUID AS STRING)\u001b[39;49m\n\u001b[1;32m    238\u001b[0m \u001b[38;5;124;43m                --LEFT JOIN scratch.riders.zone_drn_id_to_onboarding_area AS c ON c.city_detailed = a.onboarding_area\u001b[39;49m\n\u001b[1;32m    239\u001b[0m \u001b[38;5;124;43m                LEFT JOIN New_OA_Process AS c\u001b[39;49m\n\u001b[1;32m    240\u001b[0m \u001b[38;5;124;43m                    ON CAST(B.driver_id AS STRING) = CAST(c.driver_id AS STRING)\u001b[39;49m\n\u001b[1;32m    241\u001b[0m \n\u001b[1;32m    242\u001b[0m \n\u001b[1;32m    243\u001b[0m \u001b[38;5;124;43m                WHERE ONBOARDING_PLATFORM = \u001b[39;49m\u001b[38;5;124;43m'\u001b[39;49m\u001b[38;5;124;43msalesforce\u001b[39;49m\u001b[38;5;124;43m'\u001b[39;49m\n\u001b[1;32m    244\u001b[0m \u001b[38;5;124;43m                AND LIFECYCLE_MAIN_STAGE = \u001b[39;49m\u001b[38;5;124;43m'\u001b[39;49m\u001b[38;5;124;43mapplication\u001b[39;49m\u001b[38;5;124;43m'\u001b[39;49m\n\u001b[1;32m    245\u001b[0m \u001b[38;5;124;43m                AND IS_SUBSTITUTE_ACCOUNT_ON_ADMIN = \u001b[39;49m\u001b[38;5;124;43m'\u001b[39;49m\u001b[38;5;124;43mFALSE\u001b[39;49m\u001b[38;5;124;43m'\u001b[39;49m\n\u001b[1;32m    246\u001b[0m \u001b[38;5;124;43m                AND a.COUNTRY_NAME IN (\u001b[39;49m\u001b[38;5;124;43m'\u001b[39;49m\u001b[38;5;124;43mFrance\u001b[39;49m\u001b[38;5;124;43m'\u001b[39;49m\u001b[38;5;124;43m, \u001b[39;49m\u001b[38;5;124;43m'\u001b[39;49m\u001b[38;5;124;43mItaly\u001b[39;49m\u001b[38;5;124;43m'\u001b[39;49m\u001b[38;5;124;43m, \u001b[39;49m\u001b[38;5;124;43m'\u001b[39;49m\u001b[38;5;124;43mBelgium\u001b[39;49m\u001b[38;5;124;43m'\u001b[39;49m\u001b[38;5;124;43m, \u001b[39;49m\u001b[38;5;124;43m'\u001b[39;49m\u001b[38;5;124;43mUK\u001b[39;49m\u001b[38;5;124;43m'\u001b[39;49m\u001b[38;5;124;43m, \u001b[39;49m\u001b[38;5;124;43m'\u001b[39;49m\u001b[38;5;124;43mIreland\u001b[39;49m\u001b[38;5;124;43m'\u001b[39;49m\u001b[38;5;124;43m)\u001b[39;49m\n\u001b[1;32m    247\u001b[0m \u001b[38;5;124;43m                AND IS_CREATED_ON_ADMIN = \u001b[39;49m\u001b[38;5;124;43m'\u001b[39;49m\u001b[38;5;124;43mTRUE\u001b[39;49m\u001b[38;5;124;43m'\u001b[39;49m\n\u001b[1;32m    248\u001b[0m \u001b[38;5;124;43m                AND TO_DATE(DATE_TRUNC(\u001b[39;49m\u001b[38;5;124;43m'\u001b[39;49m\u001b[38;5;124;43mmonth\u001b[39;49m\u001b[38;5;124;43m'\u001b[39;49m\u001b[38;5;124;43m, CREATED_IN_RIDER_ADMIN_AT)) >= \u001b[39;49m\u001b[38;5;124;43m'\u001b[39;49m\u001b[38;5;124;43m2023-11-01\u001b[39;49m\u001b[38;5;124;43m'\u001b[39;49m\n\u001b[1;32m    249\u001b[0m \u001b[38;5;124;43m                AND DATE = (SELECT MAX(DATE) FROM production.denormalised.driver_accounting_daily)\u001b[39;49m\n\u001b[1;32m    250\u001b[0m \u001b[38;5;124;43m                --and city like \u001b[39;49m\u001b[38;5;124;43m'\u001b[39;49m\u001b[38;5;124;43mLondon\u001b[39;49m\u001b[38;5;124;43m%\u001b[39;49m\u001b[38;5;124;43m'\u001b[39;49m\u001b[38;5;124;43m -- added to test\u001b[39;49m\n\u001b[1;32m    251\u001b[0m \u001b[38;5;124;43m                \u001b[39;49m\n\u001b[1;32m    252\u001b[0m \u001b[38;5;124;43m                -----\u001b[39;49m\n\u001b[1;32m    253\u001b[0m \u001b[38;5;124;43m                --AND ONBOARDING_AREA NOT IN (SELECT ONBOARDING_AREA FROM scratch.riders.zone_drn_id_to_onboarding_area)\u001b[39;49m\n\u001b[1;32m    254\u001b[0m \u001b[38;5;124;43m                \u001b[39;49m\n\u001b[1;32m    255\u001b[0m \u001b[38;5;124;43m            ) subquery\u001b[39;49m\n\u001b[1;32m    256\u001b[0m \u001b[38;5;124;43m            WHERE rn = 1 AND CITY IS NOT NULL\u001b[39;49m\n\u001b[1;32m    257\u001b[0m \u001b[38;5;124;43m            AND CITY IN (SELECT ONBOARDING_AREA FROM scratch.riders.zone_drn_id_to_onboarding_area)\u001b[39;49m\n\u001b[1;32m    258\u001b[0m \n\u001b[1;32m    259\u001b[0m \u001b[38;5;124;43m                \u001b[39;49m\n\u001b[1;32m    260\u001b[0m \u001b[38;5;124;43m        );    \u001b[39;49m\n\u001b[1;32m    261\u001b[0m \n\u001b[1;32m    262\u001b[0m \u001b[38;5;124;43m-- Onboarding Data by City & Month\u001b[39;49m\n\u001b[1;32m    263\u001b[0m \u001b[38;5;124;43mSELECT COUNTRY_GROUP,\u001b[39;49m\n\u001b[1;32m    264\u001b[0m \u001b[38;5;124;43m                approved_month,\u001b[39;49m\n\u001b[1;32m    265\u001b[0m \u001b[38;5;124;43m                activated_28D_OB_city,\u001b[39;49m\n\u001b[1;32m    266\u001b[0m \u001b[38;5;124;43m                activated_OB_city,\u001b[39;49m\n\u001b[1;32m    267\u001b[0m \u001b[38;5;124;43m                activated_1HOUR_OB_city,\u001b[39;49m\n\u001b[1;32m    268\u001b[0m \u001b[38;5;124;43m                ORDER_1_28D_OB_city,\u001b[39;49m\n\u001b[1;32m    269\u001b[0m \u001b[38;5;124;43m                ORDER_1_OB_city,\u001b[39;49m\n\u001b[1;32m    270\u001b[0m \u001b[38;5;124;43m                ORDER_20_28D_OB_city,\u001b[39;49m\n\u001b[1;32m    271\u001b[0m \u001b[38;5;124;43m                ORDER_20_OB_city,\u001b[39;49m\n\u001b[1;32m    272\u001b[0m \u001b[38;5;124;43m                CREATED_IN_RIDER_ADMIN_AT,\u001b[39;49m\n\u001b[1;32m    273\u001b[0m \u001b[38;5;124;43m                CITY,\u001b[39;49m\n\u001b[1;32m    274\u001b[0m \u001b[38;5;124;43m                B.onboarding_area,\u001b[39;49m\n\u001b[1;32m    275\u001b[0m \u001b[38;5;124;43m                driver_id\u001b[39;49m\n\u001b[1;32m    276\u001b[0m \n\u001b[1;32m    277\u001b[0m \u001b[38;5;124;43m            FROM SF_OB_City AS A\u001b[39;49m\n\u001b[1;32m    278\u001b[0m \u001b[38;5;124;43m            LEFT JOIN scratch.riders.zone_drn_id_to_onboarding_area AS B ON B.city_name = A.CITY\u001b[39;49m\n\u001b[1;32m    279\u001b[0m \n\u001b[1;32m    280\u001b[0m \u001b[38;5;124;43m            WHERE approved_month = \u001b[39;49m\u001b[38;5;124;43m'\u001b[39;49m\u001b[38;5;124;43m2024-10-01\u001b[39;49m\u001b[38;5;124;43m'\u001b[39;49m\u001b[38;5;124;43m \u001b[39;49m\n\u001b[1;32m    281\u001b[0m \u001b[38;5;124;43m                AND COUNTRY_GROUP = \u001b[39;49m\u001b[38;5;124;43m'\u001b[39;49m\u001b[38;5;124;43mUKI\u001b[39;49m\u001b[38;5;124;43m'\u001b[39;49m\u001b[38;5;124;43m \u001b[39;49m\n\u001b[1;32m    282\u001b[0m \n\u001b[1;32m    283\u001b[0m \u001b[38;5;124;43m            GROUP BY 1, 2, 3, 4, 5, 6, 7, 8, 9, 10, 11, 12, 13\u001b[39;49m\n\u001b[1;32m    284\u001b[0m \u001b[38;5;124;43m            ORDER BY 1 DESC, 2 DESC, CITY, driver_id \u001b[39;49m\n\u001b[1;32m    285\u001b[0m \u001b[38;5;124;43m            ;\u001b[39;49m\n\u001b[1;32m    286\u001b[0m \u001b[38;5;124;43m            \u001b[39;49m\n\u001b[1;32m    287\u001b[0m \n\u001b[1;32m    288\u001b[0m \u001b[38;5;124;43m-- CREATE A SUM OF ONBOARDS FOR RIDERS.RIDER_LIFECYCLE_LATEST_STATUS WHERE IS WOKING? ETC\u001b[39;49m\n\u001b[1;32m    289\u001b[0m \u001b[38;5;124;43m/*SELECT DISTINCT A.CITY, B.CITY_DETAILED \u001b[39;49m\n\u001b[1;32m    290\u001b[0m \n\u001b[1;32m    291\u001b[0m \u001b[38;5;124;43m        FROM PRODUCTION.RIDERS.RIDER_LIFECYCLE_LATEST_STATUS AS A\u001b[39;49m\n\u001b[1;32m    292\u001b[0m \u001b[38;5;124;43m        LEFT JOIN production.reference.city_detailed AS b ON A.CITY = b.CITY_DETAILED\u001b[39;49m\n\u001b[1;32m    293\u001b[0m \n\u001b[1;32m    294\u001b[0m \u001b[38;5;124;43m        WHERE A.COUNTRY_NAME = \u001b[39;49m\u001b[38;5;124;43m'\u001b[39;49m\u001b[38;5;124;43mUK\u001b[39;49m\u001b[38;5;124;43m'\u001b[39;49m\u001b[38;5;124;43m \u001b[39;49m\n\u001b[1;32m    295\u001b[0m \u001b[38;5;124;43m        AND ONBOARDING_PLATFORM = \u001b[39;49m\u001b[38;5;124;43m'\u001b[39;49m\u001b[38;5;124;43msalesforce\u001b[39;49m\u001b[38;5;124;43m'\u001b[39;49m\n\u001b[1;32m    296\u001b[0m \u001b[38;5;124;43m        AND LIFECYCLE_MAIN_STAGE = \u001b[39;49m\u001b[38;5;124;43m'\u001b[39;49m\u001b[38;5;124;43mapplication\u001b[39;49m\u001b[38;5;124;43m'\u001b[39;49m\n\u001b[1;32m    297\u001b[0m \u001b[38;5;124;43m        AND IS_SUBSTITUTE_ACCOUNT_ON_ADMIN = \u001b[39;49m\u001b[38;5;124;43m'\u001b[39;49m\u001b[38;5;124;43mFALSE\u001b[39;49m\u001b[38;5;124;43m'\u001b[39;49m\n\u001b[1;32m    298\u001b[0m \u001b[38;5;124;43m        AND IS_CREATED_ON_ADMIN = \u001b[39;49m\u001b[38;5;124;43m'\u001b[39;49m\u001b[38;5;124;43mTRUE\u001b[39;49m\u001b[38;5;124;43m'\u001b[39;49m\n\u001b[1;32m    299\u001b[0m \u001b[38;5;124;43m        ORDER BY 1, 2\u001b[39;49m\n\u001b[1;32m    300\u001b[0m \u001b[38;5;124;43m        ;\u001b[39;49m\n\u001b[1;32m    301\u001b[0m \u001b[38;5;124;43m*/\u001b[39;49m\n\u001b[1;32m    302\u001b[0m \u001b[38;5;124;43m  \u001b[39;49m\n\u001b[1;32m    303\u001b[0m \u001b[38;5;124;43m/*  --Onboarding Data rider level\u001b[39;49m\n\u001b[1;32m    304\u001b[0m \u001b[38;5;124;43mSELECT * FROM SF_OB_city  where approved_month < \u001b[39;49m\u001b[38;5;124;43m'\u001b[39;49m\u001b[38;5;124;43m2024-11-01\u001b[39;49m\u001b[38;5;124;43m'\u001b[39;49m\u001b[38;5;124;43m  ORDER BY COUNTRY_GROUP DESC, approved_month desc, CITY DESC, driver_id DESC;\u001b[39;49m\n\u001b[1;32m    305\u001b[0m \u001b[38;5;124;43m */\u001b[39;49m\n\u001b[1;32m    306\u001b[0m \u001b[38;5;124;43m-- ===========================================================================================================================================================\u001b[39;49m\n\u001b[1;32m    307\u001b[0m \u001b[38;5;124;43m-- 2.2 SF_count_ob_riders -------------------------------------------------------------------------------------------------------------------------\u001b[39;49m\n\u001b[1;32m    308\u001b[0m \u001b[38;5;124;43m-- ===========================================================================================================================================================\u001b[39;49m\n\u001b[1;32m    309\u001b[0m \u001b[38;5;124;43mCREATE OR REPLACE TEMPORARY TABLE SF_count_ob_riders AS (\u001b[39;49m\n\u001b[1;32m    310\u001b[0m \u001b[38;5;124;43m            SELECT\u001b[39;49m\n\u001b[1;32m    311\u001b[0m \u001b[38;5;124;43m                COUNTRY_GROUP,\u001b[39;49m\n\u001b[1;32m    312\u001b[0m \u001b[38;5;124;43m                approved_month,\u001b[39;49m\n\u001b[1;32m    313\u001b[0m \u001b[38;5;124;43m                COUNT(driver_id) AS ob_riders_count,\u001b[39;49m\n\u001b[1;32m    314\u001b[0m \u001b[38;5;124;43m                SUM(activated_28D_OB_city) AS activated_28D_OB_city,\u001b[39;49m\n\u001b[1;32m    315\u001b[0m \u001b[38;5;124;43m                SUM(activated_OB_city) AS activated_OB_city,\u001b[39;49m\n\u001b[1;32m    316\u001b[0m \u001b[38;5;124;43m                SUM(activated_1HOUR_OB_city) AS activated_1HOUR_OB_city,\u001b[39;49m\n\u001b[1;32m    317\u001b[0m \u001b[38;5;124;43m                SUM(ORDER_1_28D_OB_city) AS ORDER_1_28D_OB_city,\u001b[39;49m\n\u001b[1;32m    318\u001b[0m \u001b[38;5;124;43m                SUM(ORDER_1_OB_city) AS ORDER_1_OB_city,\u001b[39;49m\n\u001b[1;32m    319\u001b[0m \u001b[38;5;124;43m                SUM(ORDER_20_28D_OB_city) AS ORDER_20_28D_OB_city,\u001b[39;49m\n\u001b[1;32m    320\u001b[0m \u001b[38;5;124;43m                SUM(ORDER_20_OB_city) AS ORDER_20_OB_city\u001b[39;49m\n\u001b[1;32m    321\u001b[0m \n\u001b[1;32m    322\u001b[0m \u001b[38;5;124;43m            FROM SF_OB_City\u001b[39;49m\n\u001b[1;32m    323\u001b[0m \u001b[38;5;124;43m            GROUP BY COUNTRY_GROUP, approved_month\u001b[39;49m\n\u001b[1;32m    324\u001b[0m \u001b[38;5;124;43m        );\u001b[39;49m\n\u001b[1;32m    325\u001b[0m \u001b[38;5;124;43m/*    --Onboarding Data by Country Group & Month\u001b[39;49m\n\u001b[1;32m    326\u001b[0m \u001b[38;5;124;43mSELECT * FROM SF_count_ob_riders ORDER BY COUNTRY_GROUP DESC, approved_month DESC;\u001b[39;49m\n\u001b[1;32m    327\u001b[0m \u001b[38;5;124;43m */ \u001b[39;49m\n\u001b[1;32m    328\u001b[0m \u001b[38;5;124;43m-- ===========================================================================================================================================================\u001b[39;49m\n\u001b[1;32m    329\u001b[0m \u001b[38;5;124;43m-- 2.2 SF_cities_worked_in -------------------------------------------------------------------------------------------------------------------------\u001b[39;49m\n\u001b[1;32m    330\u001b[0m \u001b[38;5;124;43m-- ===========================================================================================================================================================\u001b[39;49m\n\u001b[1;32m    331\u001b[0m \u001b[38;5;124;43mCREATE OR REPLACE TEMPORARY TABLE SF_cities_worked_in AS (\u001b[39;49m\n\u001b[1;32m    332\u001b[0m \u001b[38;5;124;43m        WITH SF_cities_worked_in1 AS ( \u001b[39;49m\n\u001b[1;32m    333\u001b[0m \u001b[38;5;124;43m            SELECT \u001b[39;49m\n\u001b[1;32m    334\u001b[0m \u001b[38;5;124;43m                a.COUNTRY_GROUP,\u001b[39;49m\n\u001b[1;32m    335\u001b[0m \u001b[38;5;124;43m                a.approved_month,\u001b[39;49m\n\u001b[1;32m    336\u001b[0m \u001b[38;5;124;43m                CREATED_IN_RIDER_ADMIN_AT,\u001b[39;49m\n\u001b[1;32m    337\u001b[0m \u001b[38;5;124;43m                a.driver_id,\u001b[39;49m\n\u001b[1;32m    338\u001b[0m \u001b[38;5;124;43m                a.city AS ob_city,\u001b[39;49m\n\u001b[1;32m    339\u001b[0m \u001b[38;5;124;43m                COALESCE(C.onboarding_area, B.CITY_NAME) AS city_worked,\u001b[39;49m\n\u001b[1;32m    340\u001b[0m \u001b[38;5;124;43m                ROUND(SUM(b.hrs_worked_raw),1) AS sum_hours_worked\u001b[39;49m\n\u001b[1;32m    341\u001b[0m \u001b[38;5;124;43m            FROM SF_OB_City AS a \u001b[39;49m\n\u001b[1;32m    342\u001b[0m \u001b[38;5;124;43m            LEFT JOIN production.denormalised.driver_hours_worked AS b ON a.driver_id = b.driver_id\u001b[39;49m\n\u001b[1;32m    343\u001b[0m \u001b[38;5;124;43m            LEFT JOIN scratch.riders.zone_drn_id_to_onboarding_area AS c ON b.zone_code = c.zone_code\u001b[39;49m\n\u001b[1;32m    344\u001b[0m \u001b[38;5;124;43m            WHERE b.country_name IN (\u001b[39;49m\u001b[38;5;124;43m'\u001b[39;49m\u001b[38;5;124;43mFrance\u001b[39;49m\u001b[38;5;124;43m'\u001b[39;49m\u001b[38;5;124;43m, \u001b[39;49m\u001b[38;5;124;43m'\u001b[39;49m\u001b[38;5;124;43mItaly\u001b[39;49m\u001b[38;5;124;43m'\u001b[39;49m\u001b[38;5;124;43m, \u001b[39;49m\u001b[38;5;124;43m'\u001b[39;49m\u001b[38;5;124;43mBelgium\u001b[39;49m\u001b[38;5;124;43m'\u001b[39;49m\u001b[38;5;124;43m, \u001b[39;49m\u001b[38;5;124;43m'\u001b[39;49m\u001b[38;5;124;43mUK\u001b[39;49m\u001b[38;5;124;43m'\u001b[39;49m\u001b[38;5;124;43m, \u001b[39;49m\u001b[38;5;124;43m'\u001b[39;49m\u001b[38;5;124;43mIreland\u001b[39;49m\u001b[38;5;124;43m'\u001b[39;49m\u001b[38;5;124;43m)\u001b[39;49m\n\u001b[1;32m    345\u001b[0m \u001b[38;5;124;43m                AND TO_DATE(DATE_TRUNC(\u001b[39;49m\u001b[38;5;124;43m'\u001b[39;49m\u001b[38;5;124;43mmonth\u001b[39;49m\u001b[38;5;124;43m'\u001b[39;49m\u001b[38;5;124;43m, b.date)) >= \u001b[39;49m\u001b[38;5;124;43m'\u001b[39;49m\u001b[38;5;124;43m2023-11-01\u001b[39;49m\u001b[38;5;124;43m'\u001b[39;49m\u001b[38;5;124;43m \u001b[39;49m\n\u001b[1;32m    346\u001b[0m \u001b[38;5;124;43m            GROUP BY 1, 2, 3, 4, 5, 6\u001b[39;49m\n\u001b[1;32m    347\u001b[0m \u001b[38;5;124;43m            HAVING sum_hours_worked >= 1\u001b[39;49m\n\u001b[1;32m    348\u001b[0m \u001b[38;5;124;43m            ORDER BY 1, 2, 3, 4, 5, 6\u001b[39;49m\n\u001b[1;32m    349\u001b[0m \u001b[38;5;124;43m        )\u001b[39;49m\n\u001b[1;32m    350\u001b[0m \u001b[38;5;124;43m        SELECT \u001b[39;49m\n\u001b[1;32m    351\u001b[0m \u001b[38;5;124;43m            a.COUNTRY_GROUP,\u001b[39;49m\n\u001b[1;32m    352\u001b[0m \u001b[38;5;124;43m            a.approved_month,\u001b[39;49m\n\u001b[1;32m    353\u001b[0m \u001b[38;5;124;43m            TO_DATE(a.CREATED_IN_RIDER_ADMIN_AT) AS RIDER_ADMIN_CREATED_DATE,\u001b[39;49m\n\u001b[1;32m    354\u001b[0m \u001b[38;5;124;43m            a.driver_id,\u001b[39;49m\n\u001b[1;32m    355\u001b[0m \u001b[38;5;124;43m            a.ob_city,\u001b[39;49m\n\u001b[1;32m    356\u001b[0m \u001b[38;5;124;43m            a.city_worked,\u001b[39;49m\n\u001b[1;32m    357\u001b[0m \u001b[38;5;124;43m            a.sum_hours_worked,\u001b[39;49m\n\u001b[1;32m    358\u001b[0m \u001b[38;5;124;43m            c.CLUSTER_PAIR,\u001b[39;49m\n\u001b[1;32m    359\u001b[0m \u001b[38;5;124;43m            CASE WHEN city_worked = ob_city THEN 1 ELSE 0 END AS matches_ob_city,\u001b[39;49m\n\u001b[1;32m    360\u001b[0m \u001b[38;5;124;43m            CASE WHEN matches_ob_city = 1 OR c.CLUSTER_PAIR IS NOT NULL THEN \u001b[39;49m\u001b[38;5;124;43m'\u001b[39;49m\u001b[38;5;124;43mSame_Cluster\u001b[39;49m\u001b[38;5;124;43m'\u001b[39;49m\u001b[38;5;124;43m ELSE \u001b[39;49m\u001b[38;5;124;43m'\u001b[39;49m\u001b[38;5;124;43mDiff_Cluster\u001b[39;49m\u001b[38;5;124;43m'\u001b[39;49m\u001b[38;5;124;43m END AS CDCluster,\u001b[39;49m\n\u001b[1;32m    361\u001b[0m \u001b[38;5;124;43m            CASE WHEN e.distance_category = \u001b[39;49m\u001b[38;5;124;43m'\u001b[39;49m\u001b[38;5;124;43mNEAR\u001b[39;49m\u001b[38;5;124;43m'\u001b[39;49m\u001b[38;5;124;43m OR f.distance_category = \u001b[39;49m\u001b[38;5;124;43m'\u001b[39;49m\u001b[38;5;124;43mNEAR\u001b[39;49m\u001b[38;5;124;43m'\u001b[39;49m\u001b[38;5;124;43m THEN \u001b[39;49m\u001b[38;5;124;43m'\u001b[39;49m\u001b[38;5;124;43mNear\u001b[39;49m\u001b[38;5;124;43m'\u001b[39;49m\u001b[38;5;124;43m ELSE \u001b[39;49m\u001b[38;5;124;43m'\u001b[39;49m\u001b[38;5;124;43mFar\u001b[39;49m\u001b[38;5;124;43m'\u001b[39;49m\u001b[38;5;124;43m END AS Distance_Less_30KM,\u001b[39;49m\n\u001b[1;32m    362\u001b[0m \u001b[38;5;124;43m            CASE WHEN e.distance_category = \u001b[39;49m\u001b[38;5;124;43m'\u001b[39;49m\u001b[38;5;124;43mNEAR\u001b[39;49m\u001b[38;5;124;43m'\u001b[39;49m\u001b[38;5;124;43m OR f.distance_category = \u001b[39;49m\u001b[38;5;124;43m'\u001b[39;49m\u001b[38;5;124;43mNEAR\u001b[39;49m\u001b[38;5;124;43m'\u001b[39;49m\u001b[38;5;124;43m OR matches_ob_city = 1 OR c.CLUSTER_PAIR IS NOT NULL THEN 1 ELSE 0 END AS Matches_Near_or_Clustered,\u001b[39;49m\n\u001b[1;32m    363\u001b[0m \u001b[38;5;124;43m            e.DISTANCE_KM AS City_Detailed_Distance, f.DISTANCE_KM AS City_Name_Distance\u001b[39;49m\n\u001b[1;32m    364\u001b[0m \u001b[38;5;124;43m        FROM SF_cities_worked_in1 AS a  \u001b[39;49m\n\u001b[1;32m    365\u001b[0m \u001b[38;5;124;43m        LEFT JOIN CD_PAIRS2 AS c ON a.ob_city || \u001b[39;49m\u001b[38;5;124;43m'\u001b[39;49m\u001b[38;5;124;43m - \u001b[39;49m\u001b[38;5;124;43m'\u001b[39;49m\u001b[38;5;124;43m || a.city_worked = c.CLUSTER_PAIR\u001b[39;49m\n\u001b[1;32m    366\u001b[0m \u001b[38;5;124;43m        LEFT JOIN production.reference.city_detailed AS d ON a.city_worked = d.CITY_NAME\u001b[39;49m\n\u001b[1;32m    367\u001b[0m \u001b[38;5;124;43m        LEFT JOIN CITY_DISTANCES AS e ON a.ob_city || a.city_worked = e.CITY_DETAILED_COMBO\u001b[39;49m\n\u001b[1;32m    368\u001b[0m \u001b[38;5;124;43m        LEFT JOIN CITY_DISTANCES_CITY_NAME AS f ON a.ob_city || a.city_worked = f.CITY_NAME_COMBO\u001b[39;49m\n\u001b[1;32m    369\u001b[0m \u001b[38;5;124;43m        GROUP BY 1, 2, 3, 4, 5, 6, 7, 8, 9, 10, 11, 12, 13, 14\u001b[39;49m\n\u001b[1;32m    370\u001b[0m \u001b[38;5;124;43m        ORDER BY 1 DESC, 2, 3, 4, 5, 6 DESC\u001b[39;49m\n\u001b[1;32m    371\u001b[0m \u001b[38;5;124;43m        );  \u001b[39;49m\n\u001b[1;32m    372\u001b[0m \n\u001b[1;32m    373\u001b[0m \u001b[38;5;124;43m/* \u001b[39;49m\n\u001b[1;32m    374\u001b[0m \u001b[38;5;124;43mSELECT * FROM SF_cities_worked_in where DRIVER_ID = \u001b[39;49m\u001b[38;5;124;43m'\u001b[39;49m\u001b[38;5;124;43m866925\u001b[39;49m\u001b[38;5;124;43m'\u001b[39;49m\u001b[38;5;124;43m -- = 0  ORDER BY 1 DESC, 4;\u001b[39;49m\n\u001b[1;32m    375\u001b[0m \u001b[38;5;124;43m-- RSC Past Month Rider Level Leakage\u001b[39;49m\n\u001b[1;32m    376\u001b[0m \u001b[38;5;124;43m*/\u001b[39;49m\n\u001b[1;32m    377\u001b[0m \u001b[38;5;124;43m-- ===========================================================================================================================================================\u001b[39;49m\n\u001b[1;32m    378\u001b[0m \u001b[38;5;124;43m-- 2.2b SF_cities_worked_in ----- RSC Past Month Rider Level Leakage----------------------------------------------------------------------------------------------------------------------\u001b[39;49m\n\u001b[1;32m    379\u001b[0m \u001b[38;5;124;43m-- ===========================================================================================================================================================\u001b[39;49m\n\u001b[1;32m    380\u001b[0m \n\u001b[1;32m    381\u001b[0m \n\u001b[1;32m    382\u001b[0m \u001b[38;5;124;43m-- SELECT * FROM production.denormalised.driver_hours_worked LIMIT 5\u001b[39;49m\n\u001b[1;32m    383\u001b[0m \u001b[38;5;124;43mSELECT          A.COUNTRY_GROUP,\u001b[39;49m\n\u001b[1;32m    384\u001b[0m \u001b[38;5;124;43m                A.approved_month,\u001b[39;49m\n\u001b[1;32m    385\u001b[0m \u001b[38;5;124;43m                A.driver_id,\u001b[39;49m\n\u001b[1;32m    386\u001b[0m \u001b[38;5;124;43m                A.CITY AS ob_city,\u001b[39;49m\n\u001b[1;32m    387\u001b[0m \u001b[38;5;124;43m                B.city_worked,\u001b[39;49m\n\u001b[1;32m    388\u001b[0m \u001b[38;5;124;43m                B.sum_hours_worked,\u001b[39;49m\n\u001b[1;32m    389\u001b[0m \u001b[38;5;124;43m                B.Matches_Near_or_Clustered,\u001b[39;49m\n\u001b[1;32m    390\u001b[0m \u001b[38;5;124;43m                B.CITY_DETAILED_DISTANCE,\u001b[39;49m\n\u001b[1;32m    391\u001b[0m \u001b[38;5;124;43m                A.ORDER_1_28D_OB_city,\u001b[39;49m\n\u001b[1;32m    392\u001b[0m \u001b[38;5;124;43m                ROW_NUMBER() OVER (ORDER BY a.COUNTRY_GROUP DESC, a.approved_month DESC, A.driver_id DESC, B.sum_hours_worked DESC) as row_num\u001b[39;49m\n\u001b[1;32m    393\u001b[0m \n\u001b[1;32m    394\u001b[0m \n\u001b[1;32m    395\u001b[0m \u001b[38;5;124;43m            FROM SF_OB_City AS A\u001b[39;49m\n\u001b[1;32m    396\u001b[0m \u001b[38;5;124;43m            LEFT JOIN SF_cities_worked_in AS B ON A.driver_id = B.driver_id\u001b[39;49m\n\u001b[1;32m    397\u001b[0m \n\u001b[1;32m    398\u001b[0m \u001b[38;5;124;43m            WHERE A.APPROVED_MONTH IN (\u001b[39;49m\u001b[38;5;124;43m'\u001b[39;49m\u001b[38;5;124;43m2025-04-01\u001b[39;49m\u001b[38;5;124;43m'\u001b[39;49m\u001b[38;5;124;43m, \u001b[39;49m\u001b[38;5;124;43m'\u001b[39;49m\u001b[38;5;124;43m2025-03-01\u001b[39;49m\u001b[38;5;124;43m'\u001b[39;49m\u001b[38;5;124;43m, \u001b[39;49m\u001b[38;5;124;43m'\u001b[39;49m\u001b[38;5;124;43m2025-02-01\u001b[39;49m\u001b[38;5;124;43m'\u001b[39;49m\u001b[38;5;124;43m, \u001b[39;49m\u001b[38;5;124;43m'\u001b[39;49m\u001b[38;5;124;43m2025-01-01\u001b[39;49m\u001b[38;5;124;43m'\u001b[39;49m\u001b[38;5;124;43m, \u001b[39;49m\u001b[38;5;124;43m'\u001b[39;49m\u001b[38;5;124;43m2024-12-01\u001b[39;49m\u001b[38;5;124;43m'\u001b[39;49m\u001b[38;5;124;43m, \u001b[39;49m\u001b[38;5;124;43m'\u001b[39;49m\u001b[38;5;124;43m2024-11-01\u001b[39;49m\u001b[38;5;124;43m'\u001b[39;49m\u001b[38;5;124;43m)\u001b[39;49m\n\u001b[1;32m    399\u001b[0m \u001b[38;5;124;43m             \u001b[39;49m\n\u001b[1;32m    400\u001b[0m \u001b[38;5;124;43m                --AND A.COUNTRY_GROUP = \u001b[39;49m\u001b[38;5;124;43m'\u001b[39;49m\u001b[38;5;124;43mUKI\u001b[39;49m\u001b[38;5;124;43m'\u001b[39;49m\u001b[38;5;124;43m \u001b[39;49m\n\u001b[1;32m    401\u001b[0m \n\u001b[1;32m    402\u001b[0m \u001b[38;5;124;43m            GROUP BY 1,2,3,4,5,6,7,8,9\u001b[39;49m\n\u001b[1;32m    403\u001b[0m \u001b[38;5;124;43m            ORDER BY 1 DESC, 2 DESC, A.driver_id DESC, B.sum_hours_worked DESC\u001b[39;49m\n\u001b[1;32m    404\u001b[0m \n\u001b[1;32m    405\u001b[0m \u001b[38;5;124;43m;\u001b[39;49m\n\u001b[1;32m    406\u001b[0m \n\u001b[1;32m    407\u001b[0m \n\u001b[1;32m    408\u001b[0m \n\u001b[1;32m    409\u001b[0m \n\u001b[1;32m    410\u001b[0m \n\u001b[1;32m    411\u001b[0m \n\u001b[1;32m    412\u001b[0m \n\u001b[1;32m    413\u001b[0m \n\u001b[1;32m    414\u001b[0m \n\u001b[1;32m    415\u001b[0m \n\u001b[1;32m    416\u001b[0m \u001b[38;5;124;43m      \u001b[39;49m\u001b[38;5;124;43m\"\"\"\u001b[39;49m\u001b[43m)\u001b[49m\n\u001b[1;32m    418\u001b[0m df\u001b[38;5;241m.\u001b[39mhead()\n",
      "Cell \u001b[0;32mIn[3], line 16\u001b[0m, in \u001b[0;36mquery_snowflake\u001b[0;34m(query)\u001b[0m\n\u001b[1;32m     14\u001b[0m \u001b[38;5;28;01mdef\u001b[39;00m \u001b[38;5;21mquery_snowflake\u001b[39m(query):\n\u001b[1;32m     15\u001b[0m     \u001b[38;5;28;01mwith\u001b[39;00m SnowflakeConnector() \u001b[38;5;28;01mas\u001b[39;00m connection:\n\u001b[0;32m---> 16\u001b[0m         \u001b[38;5;28;01mreturn\u001b[39;00m \u001b[43mconnection\u001b[49m\u001b[38;5;241;43m.\u001b[39;49m\u001b[43mquery_to_dataframe\u001b[49m\u001b[43m(\u001b[49m\u001b[43mquery\u001b[49m\u001b[38;5;241;43m=\u001b[39;49m\u001b[43mquery\u001b[49m\u001b[43m)\u001b[49m\n",
      "File \u001b[0;32m~/Library/Python/3.9/lib/python/site-packages/roopy/snowflake_connector/connector.py:402\u001b[0m, in \u001b[0;36mSnowflakeConnector.query_to_dataframe\u001b[0;34m(self, query, strip_comments, lower_column_names, coerce_types)\u001b[0m\n\u001b[1;32m    380\u001b[0m \u001b[38;5;28;01mdef\u001b[39;00m \u001b[38;5;21mquery_to_dataframe\u001b[39m(\n\u001b[1;32m    381\u001b[0m     \u001b[38;5;28mself\u001b[39m,\n\u001b[1;32m    382\u001b[0m     query: \u001b[38;5;28mstr\u001b[39m,\n\u001b[0;32m   (...)\u001b[0m\n\u001b[1;32m    385\u001b[0m     coerce_types: \u001b[38;5;28mbool\u001b[39m \u001b[38;5;241m=\u001b[39m \u001b[38;5;28;01mFalse\u001b[39;00m,\n\u001b[1;32m    386\u001b[0m ) \u001b[38;5;241m-\u001b[39m\u001b[38;5;241m>\u001b[39m pd\u001b[38;5;241m.\u001b[39mDataFrame:\n\u001b[1;32m    387\u001b[0m \u001b[38;5;250m    \u001b[39m\u001b[38;5;124;03m\"\"\"Runs queries returning final query as a DataFrame.\u001b[39;00m\n\u001b[1;32m    388\u001b[0m \n\u001b[1;32m    389\u001b[0m \u001b[38;5;124;03m    Args:\u001b[39;00m\n\u001b[0;32m   (...)\u001b[0m\n\u001b[1;32m    400\u001b[0m \u001b[38;5;124;03m        pd.DataFrame: Results dataframe\u001b[39;00m\n\u001b[1;32m    401\u001b[0m \u001b[38;5;124;03m    \"\"\"\u001b[39;00m\n\u001b[0;32m--> 402\u001b[0m     cursor \u001b[38;5;241m=\u001b[39m \u001b[38;5;28;43mself\u001b[39;49m\u001b[38;5;241;43m.\u001b[39;49m\u001b[43mexecute\u001b[49m\u001b[43m(\u001b[49m\u001b[43mquery\u001b[49m\u001b[43m,\u001b[49m\u001b[43m \u001b[49m\u001b[43mstrip_comments\u001b[49m\u001b[38;5;241;43m=\u001b[39;49m\u001b[43mstrip_comments\u001b[49m\u001b[43m)\u001b[49m\n\u001b[1;32m    403\u001b[0m     \u001b[38;5;28;01mreturn\u001b[39;00m \u001b[38;5;28mself\u001b[39m\u001b[38;5;241m.\u001b[39mcursor_to_dataframe(cursor, lower_column_names, coerce_types)\n",
      "File \u001b[0;32m~/Library/Python/3.9/lib/python/site-packages/roopy/snowflake_connector/connector.py:328\u001b[0m, in \u001b[0;36mSnowflakeConnector.execute\u001b[0;34m(self, query, strip_comments, split_queries, params)\u001b[0m\n\u001b[1;32m    326\u001b[0m     logger\u001b[38;5;241m.\u001b[39mdebug(\u001b[38;5;124mf\u001b[39m\u001b[38;5;124m\"\u001b[39m\u001b[38;5;124mExecuting query part \u001b[39m\u001b[38;5;132;01m{\u001b[39;00mn\u001b[38;5;250m \u001b[39m\u001b[38;5;241m+\u001b[39m\u001b[38;5;250m \u001b[39m\u001b[38;5;241m1\u001b[39m\u001b[38;5;132;01m}\u001b[39;00m\u001b[38;5;124m of \u001b[39m\u001b[38;5;132;01m{\u001b[39;00m\u001b[38;5;28mlen\u001b[39m(queries)\u001b[38;5;132;01m}\u001b[39;00m\u001b[38;5;124m\"\u001b[39m)\n\u001b[1;32m    327\u001b[0m     cursor \u001b[38;5;241m=\u001b[39m \u001b[38;5;28mself\u001b[39m\u001b[38;5;241m.\u001b[39mconnection\u001b[38;5;241m.\u001b[39mcursor()\n\u001b[0;32m--> 328\u001b[0m     \u001b[43mcursor\u001b[49m\u001b[38;5;241;43m.\u001b[39;49m\u001b[43mexecute\u001b[49m\u001b[43m(\u001b[49m\u001b[43mquery\u001b[49m\u001b[43m,\u001b[49m\u001b[43m \u001b[49m\u001b[43mparams\u001b[49m\u001b[38;5;241;43m=\u001b[39;49m\u001b[43mparams\u001b[49m\u001b[43m)\u001b[49m\n\u001b[1;32m    329\u001b[0m     logger\u001b[38;5;241m.\u001b[39mdebug(\u001b[38;5;124m\"\u001b[39m\u001b[38;5;124mFinished querying\u001b[39m\u001b[38;5;124m\"\u001b[39m)\n\u001b[1;32m    331\u001b[0m \u001b[38;5;28;01mreturn\u001b[39;00m cursor\n",
      "File \u001b[0;32m~/Library/Python/3.9/lib/python/site-packages/snowflake/connector/cursor.py:1104\u001b[0m, in \u001b[0;36mSnowflakeCursor.execute\u001b[0;34m(self, command, params, _bind_stage, timeout, _exec_async, _no_retry, _do_reset, _put_callback, _put_azure_callback, _put_callback_output_stream, _get_callback, _get_azure_callback, _get_callback_output_stream, _show_progress_bar, _statement_params, _is_internal, _describe_only, _no_results, _is_put_get, _raise_put_get_error, _force_put_overwrite, _skip_upload_on_content_match, file_stream, num_statements, _force_qmark_paramstyle, _dataframe_ast)\u001b[0m\n\u001b[1;32m   1100\u001b[0m     is_integrity_error \u001b[38;5;241m=\u001b[39m (\n\u001b[1;32m   1101\u001b[0m         code \u001b[38;5;241m==\u001b[39m \u001b[38;5;124m\"\u001b[39m\u001b[38;5;124m100072\u001b[39m\u001b[38;5;124m\"\u001b[39m\n\u001b[1;32m   1102\u001b[0m     )  \u001b[38;5;66;03m# NULL result in a non-nullable column\u001b[39;00m\n\u001b[1;32m   1103\u001b[0m     error_class \u001b[38;5;241m=\u001b[39m IntegrityError \u001b[38;5;28;01mif\u001b[39;00m is_integrity_error \u001b[38;5;28;01melse\u001b[39;00m ProgrammingError\n\u001b[0;32m-> 1104\u001b[0m     \u001b[43mError\u001b[49m\u001b[38;5;241;43m.\u001b[39;49m\u001b[43merrorhandler_wrapper\u001b[49m\u001b[43m(\u001b[49m\u001b[38;5;28;43mself\u001b[39;49m\u001b[38;5;241;43m.\u001b[39;49m\u001b[43mconnection\u001b[49m\u001b[43m,\u001b[49m\u001b[43m \u001b[49m\u001b[38;5;28;43mself\u001b[39;49m\u001b[43m,\u001b[49m\u001b[43m \u001b[49m\u001b[43merror_class\u001b[49m\u001b[43m,\u001b[49m\u001b[43m \u001b[49m\u001b[43merrvalue\u001b[49m\u001b[43m)\u001b[49m\n\u001b[1;32m   1105\u001b[0m \u001b[38;5;28;01mreturn\u001b[39;00m \u001b[38;5;28mself\u001b[39m\n",
      "File \u001b[0;32m~/Library/Python/3.9/lib/python/site-packages/snowflake/connector/errors.py:283\u001b[0m, in \u001b[0;36mError.errorhandler_wrapper\u001b[0;34m(connection, cursor, error_class, error_value)\u001b[0m\n\u001b[1;32m    260\u001b[0m \u001b[38;5;129m@staticmethod\u001b[39m\n\u001b[1;32m    261\u001b[0m \u001b[38;5;28;01mdef\u001b[39;00m \u001b[38;5;21merrorhandler_wrapper\u001b[39m(\n\u001b[1;32m    262\u001b[0m     connection: SnowflakeConnection \u001b[38;5;241m|\u001b[39m \u001b[38;5;28;01mNone\u001b[39;00m,\n\u001b[0;32m   (...)\u001b[0m\n\u001b[1;32m    265\u001b[0m     error_value: \u001b[38;5;28mdict\u001b[39m[\u001b[38;5;28mstr\u001b[39m, Any],\n\u001b[1;32m    266\u001b[0m ) \u001b[38;5;241m-\u001b[39m\u001b[38;5;241m>\u001b[39m \u001b[38;5;28;01mNone\u001b[39;00m:\n\u001b[1;32m    267\u001b[0m \u001b[38;5;250m    \u001b[39m\u001b[38;5;124;03m\"\"\"Error handler wrapper that calls the errorhandler method.\u001b[39;00m\n\u001b[1;32m    268\u001b[0m \n\u001b[1;32m    269\u001b[0m \u001b[38;5;124;03m    Args:\u001b[39;00m\n\u001b[0;32m   (...)\u001b[0m\n\u001b[1;32m    280\u001b[0m \u001b[38;5;124;03m        exception to the first handler in that order.\u001b[39;00m\n\u001b[1;32m    281\u001b[0m \u001b[38;5;124;03m    \"\"\"\u001b[39;00m\n\u001b[0;32m--> 283\u001b[0m     handed_over \u001b[38;5;241m=\u001b[39m \u001b[43mError\u001b[49m\u001b[38;5;241;43m.\u001b[39;49m\u001b[43mhand_to_other_handler\u001b[49m\u001b[43m(\u001b[49m\n\u001b[1;32m    284\u001b[0m \u001b[43m        \u001b[49m\u001b[43mconnection\u001b[49m\u001b[43m,\u001b[49m\n\u001b[1;32m    285\u001b[0m \u001b[43m        \u001b[49m\u001b[43mcursor\u001b[49m\u001b[43m,\u001b[49m\n\u001b[1;32m    286\u001b[0m \u001b[43m        \u001b[49m\u001b[43merror_class\u001b[49m\u001b[43m,\u001b[49m\n\u001b[1;32m    287\u001b[0m \u001b[43m        \u001b[49m\u001b[43merror_value\u001b[49m\u001b[43m,\u001b[49m\n\u001b[1;32m    288\u001b[0m \u001b[43m    \u001b[49m\u001b[43m)\u001b[49m\n\u001b[1;32m    289\u001b[0m     \u001b[38;5;28;01mif\u001b[39;00m \u001b[38;5;129;01mnot\u001b[39;00m handed_over:\n\u001b[1;32m    290\u001b[0m         \u001b[38;5;28;01mraise\u001b[39;00m Error\u001b[38;5;241m.\u001b[39merrorhandler_make_exception(\n\u001b[1;32m    291\u001b[0m             error_class,\n\u001b[1;32m    292\u001b[0m             error_value,\n\u001b[1;32m    293\u001b[0m         )\n",
      "File \u001b[0;32m~/Library/Python/3.9/lib/python/site-packages/snowflake/connector/errors.py:338\u001b[0m, in \u001b[0;36mError.hand_to_other_handler\u001b[0;34m(connection, cursor, error_class, error_value)\u001b[0m\n\u001b[1;32m    336\u001b[0m \u001b[38;5;28;01mif\u001b[39;00m cursor \u001b[38;5;129;01mis\u001b[39;00m \u001b[38;5;129;01mnot\u001b[39;00m \u001b[38;5;28;01mNone\u001b[39;00m:\n\u001b[1;32m    337\u001b[0m     cursor\u001b[38;5;241m.\u001b[39mmessages\u001b[38;5;241m.\u001b[39mappend((error_class, error_value))\n\u001b[0;32m--> 338\u001b[0m     \u001b[43mcursor\u001b[49m\u001b[38;5;241;43m.\u001b[39;49m\u001b[43merrorhandler\u001b[49m\u001b[43m(\u001b[49m\u001b[43mconnection\u001b[49m\u001b[43m,\u001b[49m\u001b[43m \u001b[49m\u001b[43mcursor\u001b[49m\u001b[43m,\u001b[49m\u001b[43m \u001b[49m\u001b[43merror_class\u001b[49m\u001b[43m,\u001b[49m\u001b[43m \u001b[49m\u001b[43merror_value\u001b[49m\u001b[43m)\u001b[49m\n\u001b[1;32m    339\u001b[0m     \u001b[38;5;28;01mreturn\u001b[39;00m \u001b[38;5;28;01mTrue\u001b[39;00m\n\u001b[1;32m    340\u001b[0m \u001b[38;5;28;01melif\u001b[39;00m connection \u001b[38;5;129;01mis\u001b[39;00m \u001b[38;5;129;01mnot\u001b[39;00m \u001b[38;5;28;01mNone\u001b[39;00m:\n",
      "File \u001b[0;32m~/Library/Python/3.9/lib/python/site-packages/snowflake/connector/errors.py:214\u001b[0m, in \u001b[0;36mError.default_errorhandler\u001b[0;34m(connection, cursor, error_class, error_value)\u001b[0m\n\u001b[1;32m    212\u001b[0m errno \u001b[38;5;241m=\u001b[39m error_value\u001b[38;5;241m.\u001b[39mget(\u001b[38;5;124m\"\u001b[39m\u001b[38;5;124merrno\u001b[39m\u001b[38;5;124m\"\u001b[39m)\n\u001b[1;32m    213\u001b[0m done_format_msg \u001b[38;5;241m=\u001b[39m error_value\u001b[38;5;241m.\u001b[39mget(\u001b[38;5;124m\"\u001b[39m\u001b[38;5;124mdone_format_msg\u001b[39m\u001b[38;5;124m\"\u001b[39m)\n\u001b[0;32m--> 214\u001b[0m \u001b[38;5;28;01mraise\u001b[39;00m error_class(\n\u001b[1;32m    215\u001b[0m     msg\u001b[38;5;241m=\u001b[39merror_value\u001b[38;5;241m.\u001b[39mget(\u001b[38;5;124m\"\u001b[39m\u001b[38;5;124mmsg\u001b[39m\u001b[38;5;124m\"\u001b[39m),\n\u001b[1;32m    216\u001b[0m     errno\u001b[38;5;241m=\u001b[39m\u001b[38;5;28;01mNone\u001b[39;00m \u001b[38;5;28;01mif\u001b[39;00m errno \u001b[38;5;129;01mis\u001b[39;00m \u001b[38;5;28;01mNone\u001b[39;00m \u001b[38;5;28;01melse\u001b[39;00m \u001b[38;5;28mint\u001b[39m(errno),\n\u001b[1;32m    217\u001b[0m     sqlstate\u001b[38;5;241m=\u001b[39merror_value\u001b[38;5;241m.\u001b[39mget(\u001b[38;5;124m\"\u001b[39m\u001b[38;5;124msqlstate\u001b[39m\u001b[38;5;124m\"\u001b[39m),\n\u001b[1;32m    218\u001b[0m     sfqid\u001b[38;5;241m=\u001b[39merror_value\u001b[38;5;241m.\u001b[39mget(\u001b[38;5;124m\"\u001b[39m\u001b[38;5;124msfqid\u001b[39m\u001b[38;5;124m\"\u001b[39m),\n\u001b[1;32m    219\u001b[0m     query\u001b[38;5;241m=\u001b[39merror_value\u001b[38;5;241m.\u001b[39mget(\u001b[38;5;124m\"\u001b[39m\u001b[38;5;124mquery\u001b[39m\u001b[38;5;124m\"\u001b[39m),\n\u001b[1;32m    220\u001b[0m     done_format_msg\u001b[38;5;241m=\u001b[39m(\n\u001b[1;32m    221\u001b[0m         \u001b[38;5;28;01mNone\u001b[39;00m \u001b[38;5;28;01mif\u001b[39;00m done_format_msg \u001b[38;5;129;01mis\u001b[39;00m \u001b[38;5;28;01mNone\u001b[39;00m \u001b[38;5;28;01melse\u001b[39;00m \u001b[38;5;28mbool\u001b[39m(done_format_msg)\n\u001b[1;32m    222\u001b[0m     ),\n\u001b[1;32m    223\u001b[0m     connection\u001b[38;5;241m=\u001b[39mconnection,\n\u001b[1;32m    224\u001b[0m     cursor\u001b[38;5;241m=\u001b[39mcursor,\n\u001b[1;32m    225\u001b[0m )\n",
      "\u001b[0;31mProgrammingError\u001b[0m: 090106 (22000): Cannot perform CREATE TEMPTABLE. This session does not have a current schema. Call 'USE SCHEMA', or use a qualified name."
     ]
    }
   ],
   "source": [
    "import os\n",
    "\n",
    "os.environ[\"SNOWFLAKE_USERNAME\"] = \"jonathan.palmer@deliveroo.co.uk\"\n",
    "os.environ[\"SNOWFLAKE_PASSWORD\"] = \"\"  # empty string means browser-based login (default)\n",
    "os.environ[\"SNOWFLAKE_WAREHOUSE\"] = \"BI_DEVELOPMENT\"\n",
    "os.environ[\"SNOWFLAKE_ACCOUNT\"] = \"deliveroo.eu-central-1\"\n",
    "os.environ[\"SNOWFLAKE_ROLE\"] = \"OPERATIONS_PRIV_RIDER\"\n",
    "os.environ[\"SNOWFLAKE_DATABASE\"] = \"PRODUCTION\"\n",
    "os.environ[\"SNOWFLAKE_SCHEMA\"] = \"\"  # or your schema if you have one\n",
    "\n",
    "\n",
    "\n",
    "\n",
    "def query_snowflake(query):\n",
    "    with SnowflakeConnector() as connection:\n",
    "        return connection.query_to_dataframe(query=query)\n",
    "sf = query_snowflake # shorthand alias\n",
    "\n",
    "df=sf(\"\"\"\n",
    "\n",
    "\n",
    "\n",
    "\n",
    "\n",
    "\n",
    "\n",
    "\n",
    "CREATE OR REPLACE TEMPORARY TABLE CD_PAIRS1 AS (\n",
    "\n",
    "        SELECT \n",
    "            DZMH.COUNTRY_NAME, \n",
    "            DZMH.CLUSTER_NAME, \n",
    "            COALESCE(OA.ONBOARDING_AREA, OA.CITY_NAME) AS ONBOARDING_AREA\n",
    "        FROM production.AGGREGATE.AGG_ZONE_DELIVERY_METRICS_HOURLY AS DZMH\n",
    "        LEFT JOIN scratch.riders.zone_drn_id_to_onboarding_area AS OA ON DZMH.ZONE_CODE = OA.ZONE_CODE\n",
    "        WHERE DZMH.COUNTRY_NAME IN ('France', 'Italy', 'Belgium', 'UK', 'Ireland')\n",
    "            AND ONBOARDING_AREA IS NOT NULL\n",
    "        GROUP BY DZMH.COUNTRY_NAME, DZMH.CLUSTER_NAME, OA.ONBOARDING_AREA, OA.CITY_NAME\n",
    "        ORDER BY DZMH.COUNTRY_NAME DESC, DZMH.CLUSTER_NAME, OA.ONBOARDING_AREA\n",
    "        );\n",
    "\n",
    "CREATE OR REPLACE TEMPORARY TABLE CD_PAIRS2 AS (\n",
    "        SELECT A.COUNTRY_NAME, A.ONBOARDING_AREA AS CITY1, B.ONBOARDING_AREA AS CITY2, A.ONBOARDING_AREA || ' - ' || B.ONBOARDING_AREA AS CLUSTER_PAIR\n",
    "        FROM CD_PAIRS1 AS A\n",
    "        LEFT JOIN CD_PAIRS1 AS B ON A.CLUSTER_NAME = B.CLUSTER_NAME\n",
    "        ORDER BY A.COUNTRY_NAME DESC, A.ONBOARDING_AREA, B.ONBOARDING_AREA\n",
    "        );\n",
    "\n",
    "\n",
    "/*\n",
    "Select * \n",
    "From scratch.riders.zone_drn_id_to_onboarding_area\n",
    "Where Country_name in ('UK','Ireland','France','Italy','Belgium') \n",
    "ORDER BY country_name DESC, ONBOARDING_AREA;\n",
    "\n",
    "\n",
    "SELECT * FROM CD_PAIRS1 ORDER BY COUNTRY_NAME DESC, CITY1, CITY2;\n",
    "\n",
    "SELECT * FROM CD_PAIRS2 ORDER BY COUNTRY_NAME DESC, CITY1, CITY2;\n",
    "*/\n",
    "\n",
    "--------------------------------------------------------------------------------------------------------------------------------------------------------------------------------------  \n",
    "-- ===========================================================================================================================================================\n",
    "-- 1.2 CITY DISTANCES -------------------------------------------------------------------------------------------------------------------------\n",
    "-- ===========================================================================================================================================================\n",
    "\n",
    "\n",
    "CREATE OR REPLACE TEMPORARY TABLE CITY_DISTANCES AS (\n",
    "        WITH city_list AS (\n",
    "            SELECT\n",
    "                B.ONBOARDING_AREA,\n",
    "                MEDIAN(CENTROID_GEO_LAT) AS GEO_LAT, \n",
    "                MEDIAN(CENTROID_GEO_LONG) AS GEO_LONG\n",
    "            FROM PRODUCTION.REFERENCE.ZONE_CITY_COUNTRY A \n",
    "            LEFT JOIN scratch.riders.zone_drn_id_to_onboarding_area B ON A.zone_code = B.ZONE_CODE\n",
    "            WHERE A.COUNTRY_NAME IN ('France', 'Italy', 'Belgium', 'UK', 'Ireland')\n",
    "                AND B.ONBOARDING_AREA IS NOT NULL\n",
    "            GROUP BY B.ONBOARDING_AREA\n",
    "            ORDER BY B.ONBOARDING_AREA\n",
    "        )\n",
    "        SELECT \n",
    "            A.ONBOARDING_AREA || B.ONBOARDING_AREA AS CITY_DETAILED_COMBO,\n",
    "            A.ONBOARDING_AREA AS CITY_DETAILED_1, \n",
    "            B.ONBOARDING_AREA AS CITY_DETAILED_2, \n",
    "            A.GEO_LAT AS CITY_DETAILED_1_LAT,\n",
    "            A.GEO_LONG AS CITY_DETAILED_1_LONG,\n",
    "            B.GEO_LAT AS CITY_DETAILED_2_LAT,\n",
    "            B.GEO_LONG AS CITY_DETAILED_2_LONG,\n",
    "            ROUND(haversine(A.GEO_LAT, A.GEO_LONG, B.GEO_LAT, B.GEO_LONG), 0) AS DISTANCE_KM,\n",
    "            CASE WHEN ROUND(haversine(A.GEO_LAT, A.GEO_LONG, B.GEO_LAT, B.GEO_LONG), 0) > 20 THEN 'FAR'\n",
    "                ELSE 'NEAR'\n",
    "            END AS DISTANCE_CATEGORY \n",
    "        FROM city_list A\n",
    "        CROSS JOIN city_list B\n",
    "        ORDER BY CITY_DETAILED_COMBO\n",
    "        )\n",
    "\n",
    ";\n",
    " -- SELECT * FROM CITY_DISTANCES WHERE CITY_DETAILED_1 LIKE 'London%' and CITY_DETAILED_2 LIKE 'London%' order by CITY_DETAILED_1, CITY_DETAILED_2;\n",
    "\n",
    "\n",
    "CREATE OR REPLACE TEMPORARY TABLE CITY_DISTANCES_CITY_NAME AS (\n",
    "        WITH city_list2 AS (\n",
    "            SELECT\n",
    "                CITY_NAME AS CITY_NAME,\n",
    "                MEDIAN(CENTROID_GEO_LAT) AS GEO_LAT, \n",
    "                MEDIAN(CENTROID_GEO_LONG) AS GEO_LONG\n",
    "            FROM PRODUCTION.REFERENCE.ZONE_CITY_COUNTRY\n",
    "            WHERE COUNTRY_NAME IN ('France', 'Italy', 'Belgium', 'UK', 'Ireland')\n",
    "            GROUP BY CITY_NAME\n",
    "        )\n",
    "        SELECT \n",
    "            A.CITY_NAME || B.CITY_NAME AS CITY_NAME_COMBO,\n",
    "            A.CITY_NAME AS CITY_NAME_1, \n",
    "            B.CITY_NAME AS CITY_NAME_2, \n",
    "            A.GEO_LAT AS CITY_NAME_1_LAT,\n",
    "            A.GEO_LONG AS CITY_NAME_1_LONG,\n",
    "            B.GEO_LAT AS CITY_NAME_2_LAT,\n",
    "            B.GEO_LONG AS CITY_NAME_2_LONG,\n",
    "            ROUND(haversine(A.GEO_LAT, A.GEO_LONG, B.GEO_LAT, B.GEO_LONG), 0) AS DISTANCE_KM,\n",
    "            CASE WHEN ROUND(haversine(A.GEO_LAT, A.GEO_LONG, B.GEO_LAT, B.GEO_LONG), 0) > 20 THEN 'FAR'\n",
    "                ELSE 'NEAR'\n",
    "            END AS DISTANCE_CATEGORY \n",
    "        FROM city_list2 A\n",
    "        CROSS JOIN city_list2 B\n",
    "        ORDER BY CITY_NAME_COMBO\n",
    "        );\n",
    "/*\n",
    "SELECT * FROM CITY_DISTANCES_CITY_NAME WHERE CITY_NAME_1 = 'Paris' ORDER BY DISTANCE_KM;\n",
    "*/ \n",
    "\n",
    "\n",
    "\n",
    "--------------------------------------------------------------------------------------------------------------------------------------------------------------------------------------------\n",
    "--------THE SF SIDE---------------------------------------------------------------------------------------------------------------------------------------------------\n",
    "-- ===========================================================================================================================================================\n",
    "-- 2.0 New_Onboarding_Area_Process -------------------------------------------------------------------------------------------------------------------------\n",
    "-- ===========================================================================================================================================================\n",
    "\n",
    "CREATE OR REPLACE TEMPORARY TABLE New_OA_Process AS  (\n",
    "        SELECT\n",
    "            onboarding_area,\n",
    "            driver_id,\n",
    "            TO_CHAR(\n",
    "                TO_DATE(\n",
    "                    CASE \n",
    "                        WHEN LIFECYCLE_MAIN_STAGE = 'application' \n",
    "                        AND STAGE_STATUS ILIKE '%completed%' \n",
    "                        THEN greatest(EVENT_UPDATED_AT, EVENT_CREATED_AT)\n",
    "                    END), 'YYYY-MM-DD') AS onboarding_at_date\n",
    "            , CASE WHEN COUNTRY_NAME IN ('UK', 'Ireland') THEN 'UKI' ELSE COUNTRY_NAME END AS COUNTRY_GROUP\n",
    "\n",
    "        FROM RIDERS.RIDER_LIFECYCLE_LATEST_STATUS AS a\n",
    "        LEFT JOIN production.denormalised.driver_accounting_daily AS b \n",
    "                            ON CAST(a.RIDER_UUID AS STRING) = CAST(b.DRIVER_UUID AS STRING)\n",
    "        WHERE \n",
    "\n",
    "            TO_DATE(DATE_TRUNC('month', TO_DATE(\n",
    "                CASE \n",
    "                    WHEN LIFECYCLE_MAIN_STAGE = 'application' \n",
    "                    AND STAGE_STATUS ILIKE '%completed%' \n",
    "                    THEN greatest(EVENT_UPDATED_AT, EVENT_CREATED_AT)\n",
    "                END))) >= '2023-11-01'\n",
    "            AND LIFECYCLE_MAIN_STAGE = 'application'\n",
    "            AND ONBOARDING_PLATFORM = 'salesforce'\n",
    "            AND COUNTRY_NAME IN ('Ireland', 'UK')\n",
    "            AND (NOT is_substitute_account_on_admin OR is_substitute_account_on_admin IS NULL)\n",
    "        GROUP BY \n",
    "            onboarding_area,\n",
    "            RIDER_UUID,\n",
    "            TO_DATE(\n",
    "                CASE \n",
    "                    WHEN LIFECYCLE_MAIN_STAGE = 'application' \n",
    "                    AND STAGE_STATUS ILIKE '%completed%' \n",
    "                    THEN greatest(EVENT_UPDATED_AT, EVENT_CREATED_AT)\n",
    "                END\n",
    "            ),\n",
    "            driver_id,\n",
    "            COUNTRY_GROUP\n",
    "        HAVING COUNT(DISTINCT CASE \n",
    "            WHEN LIFECYCLE_MAIN_STAGE = 'application' \n",
    "            AND STAGE_STATUS ILIKE '%completed%'\n",
    "            THEN RIDER_UUID \n",
    "        END) >= 1\n",
    "        ORDER BY \n",
    "            COUNTRY_GROUP desc, onboarding_area, 3, 2\n",
    "\n",
    "        )\n",
    "\n",
    "\n",
    "        ;\n",
    "\n",
    "\n",
    "\n",
    "-- ===========================================================================================================================================================\n",
    "-- 2.1 SF_OB_City -------------------------------------------------------------------------------------------------------------------------\n",
    "-- ===========================================================================================================================================================\n",
    "\n",
    "CREATE OR REPLACE TEMPORARY TABLE SF_OB_City AS (\n",
    "            SELECT\n",
    "                COUNTRY_GROUP,\n",
    "                approved_month,\n",
    "                COALESCE(CITY, onboarding_area) AS CITY,\n",
    "                driver_id,\n",
    "                RIDER_UUID,\n",
    "                activated_28D_OB_city,\n",
    "                activated_OB_city,\n",
    "                activated_1HOUR_OB_city,\n",
    "                ORDER_1_28D_OB_city,\n",
    "                ORDER_1_OB_city,\n",
    "                ORDER_20_28D_OB_city,\n",
    "                ORDER_20_OB_city,\n",
    "                CREATED_IN_RIDER_ADMIN_AT\n",
    "            FROM (\n",
    "                SELECT\n",
    "                    CASE WHEN a.COUNTRY_NAME IN ('UK', 'Ireland') THEN 'UKI' ELSE a.COUNTRY_NAME END AS COUNTRY_GROUP,\n",
    "                    TO_DATE(DATE_TRUNC('month', CREATED_IN_RIDER_ADMIN_AT)) AS approved_month,\n",
    "                    IFNULL(CASE WHEN b.FIRST_WORK_DATE <= DATEADD('day', 28, CREATED_IN_RIDER_ADMIN_AT) THEN 1 ELSE 0 END, 0) AS activated_28D_OB_city,\n",
    "                    IFNULL(CASE WHEN b.FIRST_WORK_DATE IS NOT NULL THEN 1 ELSE 0 END, 0) AS activated_OB_city,\n",
    "                    IFNULL(CASE WHEN b.HOURS_WORKED_CUMULATIVE >= 1 THEN 1 ELSE 0 END, 0) AS activated_1HOUR_OB_city,\n",
    "                    IFNULL(CASE WHEN b.FIRST_ORDER_DATE <= DATEADD('day', 28, CREATED_IN_RIDER_ADMIN_AT) THEN 1 ELSE 0 END, 0) AS ORDER_1_28D_OB_city,\n",
    "                    IFNULL(CASE WHEN b.FIRST_ORDER_DATE IS NOT NULL THEN 1 ELSE 0 END, 0) AS ORDER_1_OB_city,\n",
    "                    IFNULL(CASE WHEN b.FIRST_20_ORDERS_DATE <= DATEADD('day', 28, CREATED_IN_RIDER_ADMIN_AT) THEN 1 ELSE 0 END, 0) AS ORDER_20_28D_OB_city,\n",
    "                    IFNULL(CASE WHEN b.FIRST_20_ORDERS_DATE IS NOT NULL THEN 1 ELSE 0 END, 0) AS ORDER_20_OB_city,\n",
    "                    CREATED_IN_RIDER_ADMIN_AT, \n",
    "                    a.onboarding_area AS CITY,\n",
    "                    c.onboarding_area, \n",
    "                    case when a.onboarding_area = c.onboarding_area THEN 1 ELSE 0 END AS matches_ob_city,\n",
    "        \n",
    "                \n",
    "                    --coalesce(c.onboarding_area, a.onboarding_area) AS CITY,   --- updated\n",
    "\n",
    "                    b.driver_id, a.RIDER_UUID,\n",
    "                    ROW_NUMBER() OVER (PARTITION BY b.driver_id ORDER BY EVENT_UPDATED_AT ASC, a.onboarding_area) AS rn\n",
    "                FROM PRODUCTION.RIDERS.RIDER_LIFECYCLE_LATEST_STATUS AS a\n",
    "                LEFT JOIN production.denormalised.driver_accounting_daily AS b \n",
    "                    ON CAST(a.RIDER_UUID AS STRING) = CAST(b.DRIVER_UUID AS STRING)\n",
    "                --LEFT JOIN scratch.riders.zone_drn_id_to_onboarding_area AS c ON c.city_detailed = a.onboarding_area\n",
    "                LEFT JOIN New_OA_Process AS c\n",
    "                    ON CAST(B.driver_id AS STRING) = CAST(c.driver_id AS STRING)\n",
    "\n",
    "\n",
    "                WHERE ONBOARDING_PLATFORM = 'salesforce'\n",
    "                AND LIFECYCLE_MAIN_STAGE = 'application'\n",
    "                AND IS_SUBSTITUTE_ACCOUNT_ON_ADMIN = 'FALSE'\n",
    "                AND a.COUNTRY_NAME IN ('France', 'Italy', 'Belgium', 'UK', 'Ireland')\n",
    "                AND IS_CREATED_ON_ADMIN = 'TRUE'\n",
    "                AND TO_DATE(DATE_TRUNC('month', CREATED_IN_RIDER_ADMIN_AT)) >= '2023-11-01'\n",
    "                AND DATE = (SELECT MAX(DATE) FROM production.denormalised.driver_accounting_daily)\n",
    "                --and city like 'London%' -- added to test\n",
    "                \n",
    "                -----\n",
    "                --AND ONBOARDING_AREA NOT IN (SELECT ONBOARDING_AREA FROM scratch.riders.zone_drn_id_to_onboarding_area)\n",
    "                \n",
    "            ) subquery\n",
    "            WHERE rn = 1 AND CITY IS NOT NULL\n",
    "            AND CITY IN (SELECT ONBOARDING_AREA FROM scratch.riders.zone_drn_id_to_onboarding_area)\n",
    "\n",
    "                \n",
    "        );    \n",
    "\n",
    "-- Onboarding Data by City & Month\n",
    "SELECT COUNTRY_GROUP,\n",
    "                approved_month,\n",
    "                activated_28D_OB_city,\n",
    "                activated_OB_city,\n",
    "                activated_1HOUR_OB_city,\n",
    "                ORDER_1_28D_OB_city,\n",
    "                ORDER_1_OB_city,\n",
    "                ORDER_20_28D_OB_city,\n",
    "                ORDER_20_OB_city,\n",
    "                CREATED_IN_RIDER_ADMIN_AT,\n",
    "                CITY,\n",
    "                B.onboarding_area,\n",
    "                driver_id\n",
    "\n",
    "            FROM SF_OB_City AS A\n",
    "            LEFT JOIN scratch.riders.zone_drn_id_to_onboarding_area AS B ON B.city_name = A.CITY\n",
    "\n",
    "            WHERE approved_month = '2024-10-01' \n",
    "                AND COUNTRY_GROUP = 'UKI' \n",
    "\n",
    "            GROUP BY 1, 2, 3, 4, 5, 6, 7, 8, 9, 10, 11, 12, 13\n",
    "            ORDER BY 1 DESC, 2 DESC, CITY, driver_id \n",
    "            ;\n",
    "            \n",
    "\n",
    "-- CREATE A SUM OF ONBOARDS FOR RIDERS.RIDER_LIFECYCLE_LATEST_STATUS WHERE IS WOKING? ETC\n",
    "/*SELECT DISTINCT A.CITY, B.CITY_DETAILED \n",
    "\n",
    "        FROM PRODUCTION.RIDERS.RIDER_LIFECYCLE_LATEST_STATUS AS A\n",
    "        LEFT JOIN production.reference.city_detailed AS b ON A.CITY = b.CITY_DETAILED\n",
    "\n",
    "        WHERE A.COUNTRY_NAME = 'UK' \n",
    "        AND ONBOARDING_PLATFORM = 'salesforce'\n",
    "        AND LIFECYCLE_MAIN_STAGE = 'application'\n",
    "        AND IS_SUBSTITUTE_ACCOUNT_ON_ADMIN = 'FALSE'\n",
    "        AND IS_CREATED_ON_ADMIN = 'TRUE'\n",
    "        ORDER BY 1, 2\n",
    "        ;\n",
    "*/\n",
    "  \n",
    "/*  --Onboarding Data rider level\n",
    "SELECT * FROM SF_OB_city  where approved_month < '2024-11-01'  ORDER BY COUNTRY_GROUP DESC, approved_month desc, CITY DESC, driver_id DESC;\n",
    " */\n",
    "-- ===========================================================================================================================================================\n",
    "-- 2.2 SF_count_ob_riders -------------------------------------------------------------------------------------------------------------------------\n",
    "-- ===========================================================================================================================================================\n",
    "CREATE OR REPLACE TEMPORARY TABLE SF_count_ob_riders AS (\n",
    "            SELECT\n",
    "                COUNTRY_GROUP,\n",
    "                approved_month,\n",
    "                COUNT(driver_id) AS ob_riders_count,\n",
    "                SUM(activated_28D_OB_city) AS activated_28D_OB_city,\n",
    "                SUM(activated_OB_city) AS activated_OB_city,\n",
    "                SUM(activated_1HOUR_OB_city) AS activated_1HOUR_OB_city,\n",
    "                SUM(ORDER_1_28D_OB_city) AS ORDER_1_28D_OB_city,\n",
    "                SUM(ORDER_1_OB_city) AS ORDER_1_OB_city,\n",
    "                SUM(ORDER_20_28D_OB_city) AS ORDER_20_28D_OB_city,\n",
    "                SUM(ORDER_20_OB_city) AS ORDER_20_OB_city\n",
    "\n",
    "            FROM SF_OB_City\n",
    "            GROUP BY COUNTRY_GROUP, approved_month\n",
    "        );\n",
    "/*    --Onboarding Data by Country Group & Month\n",
    "SELECT * FROM SF_count_ob_riders ORDER BY COUNTRY_GROUP DESC, approved_month DESC;\n",
    " */ \n",
    "-- ===========================================================================================================================================================\n",
    "-- 2.2 SF_cities_worked_in -------------------------------------------------------------------------------------------------------------------------\n",
    "-- ===========================================================================================================================================================\n",
    "CREATE OR REPLACE TEMPORARY TABLE SF_cities_worked_in AS (\n",
    "        WITH SF_cities_worked_in1 AS ( \n",
    "            SELECT \n",
    "                a.COUNTRY_GROUP,\n",
    "                a.approved_month,\n",
    "                CREATED_IN_RIDER_ADMIN_AT,\n",
    "                a.driver_id,\n",
    "                a.city AS ob_city,\n",
    "                COALESCE(C.onboarding_area, B.CITY_NAME) AS city_worked,\n",
    "                ROUND(SUM(b.hrs_worked_raw),1) AS sum_hours_worked\n",
    "            FROM SF_OB_City AS a \n",
    "            LEFT JOIN production.denormalised.driver_hours_worked AS b ON a.driver_id = b.driver_id\n",
    "            LEFT JOIN scratch.riders.zone_drn_id_to_onboarding_area AS c ON b.zone_code = c.zone_code\n",
    "            WHERE b.country_name IN ('France', 'Italy', 'Belgium', 'UK', 'Ireland')\n",
    "                AND TO_DATE(DATE_TRUNC('month', b.date)) >= '2023-11-01' \n",
    "            GROUP BY 1, 2, 3, 4, 5, 6\n",
    "            HAVING sum_hours_worked >= 1\n",
    "            ORDER BY 1, 2, 3, 4, 5, 6\n",
    "        )\n",
    "        SELECT \n",
    "            a.COUNTRY_GROUP,\n",
    "            a.approved_month,\n",
    "            TO_DATE(a.CREATED_IN_RIDER_ADMIN_AT) AS RIDER_ADMIN_CREATED_DATE,\n",
    "            a.driver_id,\n",
    "            a.ob_city,\n",
    "            a.city_worked,\n",
    "            a.sum_hours_worked,\n",
    "            c.CLUSTER_PAIR,\n",
    "            CASE WHEN city_worked = ob_city THEN 1 ELSE 0 END AS matches_ob_city,\n",
    "            CASE WHEN matches_ob_city = 1 OR c.CLUSTER_PAIR IS NOT NULL THEN 'Same_Cluster' ELSE 'Diff_Cluster' END AS CDCluster,\n",
    "            CASE WHEN e.distance_category = 'NEAR' OR f.distance_category = 'NEAR' THEN 'Near' ELSE 'Far' END AS Distance_Less_30KM,\n",
    "            CASE WHEN e.distance_category = 'NEAR' OR f.distance_category = 'NEAR' OR matches_ob_city = 1 OR c.CLUSTER_PAIR IS NOT NULL THEN 1 ELSE 0 END AS Matches_Near_or_Clustered,\n",
    "            e.DISTANCE_KM AS City_Detailed_Distance, f.DISTANCE_KM AS City_Name_Distance\n",
    "        FROM SF_cities_worked_in1 AS a  \n",
    "        LEFT JOIN CD_PAIRS2 AS c ON a.ob_city || ' - ' || a.city_worked = c.CLUSTER_PAIR\n",
    "        LEFT JOIN production.reference.city_detailed AS d ON a.city_worked = d.CITY_NAME\n",
    "        LEFT JOIN CITY_DISTANCES AS e ON a.ob_city || a.city_worked = e.CITY_DETAILED_COMBO\n",
    "        LEFT JOIN CITY_DISTANCES_CITY_NAME AS f ON a.ob_city || a.city_worked = f.CITY_NAME_COMBO\n",
    "        GROUP BY 1, 2, 3, 4, 5, 6, 7, 8, 9, 10, 11, 12, 13, 14\n",
    "        ORDER BY 1 DESC, 2, 3, 4, 5, 6 DESC\n",
    "        );  \n",
    "\n",
    "/* \n",
    "SELECT * FROM SF_cities_worked_in where DRIVER_ID = '866925' -- = 0  ORDER BY 1 DESC, 4;\n",
    "-- RSC Past Month Rider Level Leakage\n",
    "*/\n",
    "-- ===========================================================================================================================================================\n",
    "-- 2.2b SF_cities_worked_in ----- RSC Past Month Rider Level Leakage----------------------------------------------------------------------------------------------------------------------\n",
    "-- ===========================================================================================================================================================\n",
    "\n",
    "\n",
    "-- SELECT * FROM production.denormalised.driver_hours_worked LIMIT 5\n",
    "SELECT          A.COUNTRY_GROUP,\n",
    "                A.approved_month,\n",
    "                A.driver_id,\n",
    "                A.CITY AS ob_city,\n",
    "                B.city_worked,\n",
    "                B.sum_hours_worked,\n",
    "                B.Matches_Near_or_Clustered,\n",
    "                B.CITY_DETAILED_DISTANCE,\n",
    "                A.ORDER_1_28D_OB_city,\n",
    "                ROW_NUMBER() OVER (ORDER BY a.COUNTRY_GROUP DESC, a.approved_month DESC, A.driver_id DESC, B.sum_hours_worked DESC) as row_num\n",
    "\n",
    "\n",
    "            FROM SF_OB_City AS A\n",
    "            LEFT JOIN SF_cities_worked_in AS B ON A.driver_id = B.driver_id\n",
    "\n",
    "            WHERE A.APPROVED_MONTH IN ('2025-04-01', '2025-03-01', '2025-02-01', '2025-01-01', '2024-12-01', '2024-11-01')\n",
    "             \n",
    "                --AND A.COUNTRY_GROUP = 'UKI' \n",
    "\n",
    "            GROUP BY 1,2,3,4,5,6,7,8,9\n",
    "            ORDER BY 1 DESC, 2 DESC, A.driver_id DESC, B.sum_hours_worked DESC\n",
    "\n",
    ";\n",
    "\n",
    "\n",
    "\n",
    "\n",
    "\n",
    "\n",
    "\n",
    "\n",
    "\n",
    "\n",
    "      \"\"\")\n",
    "\n",
    "df.head()"
   ]
  },
  {
   "cell_type": "code",
   "execution_count": 6,
   "metadata": {},
   "outputs": [
    {
     "data": {
      "text/html": [
       "<div>\n",
       "<style scoped>\n",
       "    .dataframe tbody tr th:only-of-type {\n",
       "        vertical-align: middle;\n",
       "    }\n",
       "\n",
       "    .dataframe tbody tr th {\n",
       "        vertical-align: top;\n",
       "    }\n",
       "\n",
       "    .dataframe thead th {\n",
       "        text-align: right;\n",
       "    }\n",
       "</style>\n",
       "<table border=\"1\" class=\"dataframe\">\n",
       "  <thead>\n",
       "    <tr style=\"text-align: right;\">\n",
       "      <th></th>\n",
       "      <th>week</th>\n",
       "      <th>date</th>\n",
       "      <th>did_rollout</th>\n",
       "      <th>rider_id</th>\n",
       "      <th>hours_worked</th>\n",
       "      <th>trigger_count</th>\n",
       "      <th>avg_hours_worked</th>\n",
       "    </tr>\n",
       "  </thead>\n",
       "  <tbody>\n",
       "    <tr>\n",
       "      <th>79</th>\n",
       "      <td>2024-10-14</td>\n",
       "      <td>2024-10-19</td>\n",
       "      <td>True</td>\n",
       "      <td>404598</td>\n",
       "      <td>2388338.0</td>\n",
       "      <td>24340.0</td>\n",
       "      <td>5.903</td>\n",
       "    </tr>\n",
       "    <tr>\n",
       "      <th>80</th>\n",
       "      <td>2024-10-14</td>\n",
       "      <td>2024-10-20</td>\n",
       "      <td>False</td>\n",
       "      <td>18344</td>\n",
       "      <td>100705.0</td>\n",
       "      <td>0.0</td>\n",
       "      <td>5.490</td>\n",
       "    </tr>\n",
       "    <tr>\n",
       "      <th>81</th>\n",
       "      <td>2024-10-14</td>\n",
       "      <td>2024-10-20</td>\n",
       "      <td>True</td>\n",
       "      <td>380383</td>\n",
       "      <td>2088245.0</td>\n",
       "      <td>22407.0</td>\n",
       "      <td>5.490</td>\n",
       "    </tr>\n",
       "    <tr>\n",
       "      <th>82</th>\n",
       "      <td>2024-10-21</td>\n",
       "      <td>2024-10-21</td>\n",
       "      <td>False</td>\n",
       "      <td>18112</td>\n",
       "      <td>95090.0</td>\n",
       "      <td>0.0</td>\n",
       "      <td>5.250</td>\n",
       "    </tr>\n",
       "    <tr>\n",
       "      <th>83</th>\n",
       "      <td>2024-10-21</td>\n",
       "      <td>2024-10-21</td>\n",
       "      <td>True</td>\n",
       "      <td>373467</td>\n",
       "      <td>1974302.0</td>\n",
       "      <td>25803.0</td>\n",
       "      <td>5.286</td>\n",
       "    </tr>\n",
       "  </tbody>\n",
       "</table>\n",
       "</div>"
      ],
      "text/plain": [
       "          week        date  did_rollout  rider_id  hours_worked  \\\n",
       "79  2024-10-14  2024-10-19         True    404598     2388338.0   \n",
       "80  2024-10-14  2024-10-20        False     18344      100705.0   \n",
       "81  2024-10-14  2024-10-20         True    380383     2088245.0   \n",
       "82  2024-10-21  2024-10-21        False     18112       95090.0   \n",
       "83  2024-10-21  2024-10-21         True    373467     1974302.0   \n",
       "\n",
       "    trigger_count  avg_hours_worked  \n",
       "79        24340.0             5.903  \n",
       "80            0.0             5.490  \n",
       "81        22407.0             5.490  \n",
       "82            0.0             5.250  \n",
       "83        25803.0             5.286  "
      ]
     },
     "execution_count": 6,
     "metadata": {},
     "output_type": "execute_result"
    }
   ],
   "source": [
    "# Aggregate data by date\n",
    "df_riders_did_grp = df.groupby(['week','date','did_rollout']).agg({'rider_id':'count','hours_worked':'sum','trigger_count':'sum'})  # You can use other aggregation functions like 'mean', 'max', 'min', etc.\n",
    "df_riders_did_grp = df_riders_did_grp.reset_index()\n",
    "df_riders_did_grp['hours_worked'] = df_riders_did_grp['hours_worked'].astype(float).round(0)\n",
    "df_riders_did_grp['avg_hours_worked'] = (df_riders_did_grp['hours_worked'] / df_riders_did_grp['rider_id'])\n",
    "df_riders_did_grp['avg_hours_worked'] = df_riders_did_grp['avg_hours_worked'].astype(float).round(3)\n",
    "df_riders_did_grp.tail()\n"
   ]
  },
  {
   "cell_type": "code",
   "execution_count": 7,
   "metadata": {},
   "outputs": [],
   "source": [
    "\n",
    "# Aggregate data by date\n",
    "df_riders_did_grp.to_csv('uk_riders_did_grp.csv')"
   ]
  },
  {
   "cell_type": "code",
   "execution_count": 8,
   "metadata": {},
   "outputs": [],
   "source": [
    "# Aggregate data by date and zone\n",
    "df_riders_did_grp_zone = df.groupby(['week','date','did_rollout','most_common_zone_code_hrs_worked_3wks']).agg({'rider_id':'count','hours_worked':'sum','trigger_count':'sum'})  # You can use other aggregation functions like 'mean', 'max', 'min', etc.\n",
    "df_riders_did_grp_zone = df_riders_did_grp_zone.reset_index()\n",
    "df_riders_did_grp_zone['hours_worked'] = df_riders_did_grp_zone['hours_worked'].astype(float).round(0)\n",
    "df_riders_did_grp_zone['avg_hours_worked'] = (df_riders_did_grp_zone['hours_worked'] / df_riders_did_grp_zone['rider_id'])\n",
    "df_riders_did_grp_zone['avg_hours_worked'] = df_riders_did_grp_zone['avg_hours_worked'].astype(float).round(3)\n",
    "df_riders_did_grp_zone.tail()\n",
    "\n",
    "# Aggregate data by date\n",
    "df_riders_did_grp_zone.to_csv('uk_riders_did_grp_zone.csv')"
   ]
  },
  {
   "cell_type": "code",
   "execution_count": 9,
   "metadata": {},
   "outputs": [
    {
     "data": {
      "application/vnd.plotly.v1+json": {
       "config": {
        "plotlyServerURL": "https://plot.ly"
       },
       "data": [
        {
         "hovertemplate": "did_rollout=False<br>date=%{x}<br>avg_hours_worked=%{y}<extra></extra>",
         "legendgroup": "False",
         "line": {
          "color": "#636efa",
          "dash": "solid"
         },
         "marker": {
          "symbol": "circle"
         },
         "mode": "lines",
         "name": "False",
         "orientation": "v",
         "showlegend": true,
         "type": "scatter",
         "x": [
          "2024-09-10",
          "2024-09-11",
          "2024-09-12",
          "2024-09-13",
          "2024-09-14",
          "2024-09-15",
          "2024-09-16",
          "2024-09-17",
          "2024-09-18",
          "2024-09-19",
          "2024-09-20",
          "2024-09-21",
          "2024-09-22",
          "2024-09-23",
          "2024-09-24",
          "2024-09-25",
          "2024-09-26",
          "2024-09-27",
          "2024-09-28",
          "2024-09-29",
          "2024-09-30",
          "2024-10-01",
          "2024-10-02",
          "2024-10-03",
          "2024-10-04",
          "2024-10-05",
          "2024-10-06",
          "2024-10-07",
          "2024-10-08",
          "2024-10-09",
          "2024-10-10",
          "2024-10-11",
          "2024-10-12",
          "2024-10-13",
          "2024-10-14",
          "2024-10-15",
          "2024-10-16",
          "2024-10-17",
          "2024-10-18",
          "2024-10-19",
          "2024-10-20",
          "2024-10-21"
         ],
         "xaxis": "x",
         "y": {
          "bdata": "xSCwcmiRFUCkcD0K1yMWQJ7vp8ZLtxZA6SYxCKycF0C+nxov3SQYQB+F61G4nhZATmIQWDm0FUCF61G4HgUWQDeJQWDl0BZASOF6FK5HF0AK16NwPQoYQDeJQWDlUBhAdZMYBFaOFkB3vp8aL10UQPyp8dJN4hVAexSuR+F6FUDXo3A9ClcVQGDl0CLb+RVAVOOlm8QgF0AlBoGVQ4sVQMl2vp8arxNAarx0kxiEE0AbL90kBgEVQKRwPQrXoxVA2c73U+OlFkC+nxov3SQXQIPAyqFFthVAw/UoXI/CE0CBlUOLbGcUQPhT46WbxBRAiUFg5dCiFUAlBoGVQ4sWQHsUrkfhehVA3SQGgZXDFUDn+6nx0s0TQNnO91PjJRVAw/UoXI9CFUBMN4lBYOUVQEw3iUFg5RZAO99PjZduF0D2KFyPwvUVQAAAAAAAABVA",
          "dtype": "f8"
         },
         "yaxis": "y"
        },
        {
         "hovertemplate": "did_rollout=True<br>date=%{x}<br>avg_hours_worked=%{y}<extra></extra>",
         "legendgroup": "True",
         "line": {
          "color": "#EF553B",
          "dash": "solid"
         },
         "marker": {
          "symbol": "circle"
         },
         "mode": "lines",
         "name": "True",
         "orientation": "v",
         "showlegend": true,
         "type": "scatter",
         "x": [
          "2024-09-10",
          "2024-09-11",
          "2024-09-12",
          "2024-09-13",
          "2024-09-14",
          "2024-09-15",
          "2024-09-16",
          "2024-09-17",
          "2024-09-18",
          "2024-09-19",
          "2024-09-20",
          "2024-09-21",
          "2024-09-22",
          "2024-09-23",
          "2024-09-24",
          "2024-09-25",
          "2024-09-26",
          "2024-09-27",
          "2024-09-28",
          "2024-09-29",
          "2024-09-30",
          "2024-10-01",
          "2024-10-02",
          "2024-10-03",
          "2024-10-04",
          "2024-10-05",
          "2024-10-06",
          "2024-10-07",
          "2024-10-08",
          "2024-10-09",
          "2024-10-10",
          "2024-10-11",
          "2024-10-12",
          "2024-10-13",
          "2024-10-14",
          "2024-10-15",
          "2024-10-16",
          "2024-10-17",
          "2024-10-18",
          "2024-10-19",
          "2024-10-20",
          "2024-10-21"
         ],
         "xaxis": "x",
         "y": {
          "bdata": "CtejcD0KFkCR7Xw/Nd4WQFyPwvUoXBdAxSCwcmiRGEAfhetRuB4ZQOf7qfHSTRdAPQrXo3A9FkC6SQwCK4cWQBsv3SQGgRdAmpmZmZkZGEDsUbgehesYQM3MzMzMTBlAarx0kxiEF0DZzvdT4yUVQHnpJjEIrBZAvp8aL90kFkCDwMqhRTYWQHe+nxov3RZA5/up8dLNF0AZBFYOLTIWQDMzMzMzMxRAIbByaJHtEkAAAAAAAIAUQF66SQwCqxVAz/dT46UbF0Cyne+nxksXQNNNYhBYuRVAI9v5fmq8E0B3vp8aL10UQNV46SYxCBVAppvEILDyFUBCYOXQItsWQK5H4XoUrhVAUrgehevRFUAX2c73U+MTQFg5tMh2PhVATDeJQWBlFUBt5/up8dIVQDEIrBxaZBdA6SYxCKycF0D2KFyPwvUVQL6fGi/dJBVA",
          "dtype": "f8"
         },
         "yaxis": "y"
        }
       ],
       "layout": {
        "legend": {
         "title": {
          "text": "did_rollout"
         },
         "tracegroupgap": 0
        },
        "template": {
         "data": {
          "bar": [
           {
            "error_x": {
             "color": "#2a3f5f"
            },
            "error_y": {
             "color": "#2a3f5f"
            },
            "marker": {
             "line": {
              "color": "#E5ECF6",
              "width": 0.5
             },
             "pattern": {
              "fillmode": "overlay",
              "size": 10,
              "solidity": 0.2
             }
            },
            "type": "bar"
           }
          ],
          "barpolar": [
           {
            "marker": {
             "line": {
              "color": "#E5ECF6",
              "width": 0.5
             },
             "pattern": {
              "fillmode": "overlay",
              "size": 10,
              "solidity": 0.2
             }
            },
            "type": "barpolar"
           }
          ],
          "carpet": [
           {
            "aaxis": {
             "endlinecolor": "#2a3f5f",
             "gridcolor": "white",
             "linecolor": "white",
             "minorgridcolor": "white",
             "startlinecolor": "#2a3f5f"
            },
            "baxis": {
             "endlinecolor": "#2a3f5f",
             "gridcolor": "white",
             "linecolor": "white",
             "minorgridcolor": "white",
             "startlinecolor": "#2a3f5f"
            },
            "type": "carpet"
           }
          ],
          "choropleth": [
           {
            "colorbar": {
             "outlinewidth": 0,
             "ticks": ""
            },
            "type": "choropleth"
           }
          ],
          "contour": [
           {
            "colorbar": {
             "outlinewidth": 0,
             "ticks": ""
            },
            "colorscale": [
             [
              0,
              "#0d0887"
             ],
             [
              0.1111111111111111,
              "#46039f"
             ],
             [
              0.2222222222222222,
              "#7201a8"
             ],
             [
              0.3333333333333333,
              "#9c179e"
             ],
             [
              0.4444444444444444,
              "#bd3786"
             ],
             [
              0.5555555555555556,
              "#d8576b"
             ],
             [
              0.6666666666666666,
              "#ed7953"
             ],
             [
              0.7777777777777778,
              "#fb9f3a"
             ],
             [
              0.8888888888888888,
              "#fdca26"
             ],
             [
              1,
              "#f0f921"
             ]
            ],
            "type": "contour"
           }
          ],
          "contourcarpet": [
           {
            "colorbar": {
             "outlinewidth": 0,
             "ticks": ""
            },
            "type": "contourcarpet"
           }
          ],
          "heatmap": [
           {
            "colorbar": {
             "outlinewidth": 0,
             "ticks": ""
            },
            "colorscale": [
             [
              0,
              "#0d0887"
             ],
             [
              0.1111111111111111,
              "#46039f"
             ],
             [
              0.2222222222222222,
              "#7201a8"
             ],
             [
              0.3333333333333333,
              "#9c179e"
             ],
             [
              0.4444444444444444,
              "#bd3786"
             ],
             [
              0.5555555555555556,
              "#d8576b"
             ],
             [
              0.6666666666666666,
              "#ed7953"
             ],
             [
              0.7777777777777778,
              "#fb9f3a"
             ],
             [
              0.8888888888888888,
              "#fdca26"
             ],
             [
              1,
              "#f0f921"
             ]
            ],
            "type": "heatmap"
           }
          ],
          "histogram": [
           {
            "marker": {
             "pattern": {
              "fillmode": "overlay",
              "size": 10,
              "solidity": 0.2
             }
            },
            "type": "histogram"
           }
          ],
          "histogram2d": [
           {
            "colorbar": {
             "outlinewidth": 0,
             "ticks": ""
            },
            "colorscale": [
             [
              0,
              "#0d0887"
             ],
             [
              0.1111111111111111,
              "#46039f"
             ],
             [
              0.2222222222222222,
              "#7201a8"
             ],
             [
              0.3333333333333333,
              "#9c179e"
             ],
             [
              0.4444444444444444,
              "#bd3786"
             ],
             [
              0.5555555555555556,
              "#d8576b"
             ],
             [
              0.6666666666666666,
              "#ed7953"
             ],
             [
              0.7777777777777778,
              "#fb9f3a"
             ],
             [
              0.8888888888888888,
              "#fdca26"
             ],
             [
              1,
              "#f0f921"
             ]
            ],
            "type": "histogram2d"
           }
          ],
          "histogram2dcontour": [
           {
            "colorbar": {
             "outlinewidth": 0,
             "ticks": ""
            },
            "colorscale": [
             [
              0,
              "#0d0887"
             ],
             [
              0.1111111111111111,
              "#46039f"
             ],
             [
              0.2222222222222222,
              "#7201a8"
             ],
             [
              0.3333333333333333,
              "#9c179e"
             ],
             [
              0.4444444444444444,
              "#bd3786"
             ],
             [
              0.5555555555555556,
              "#d8576b"
             ],
             [
              0.6666666666666666,
              "#ed7953"
             ],
             [
              0.7777777777777778,
              "#fb9f3a"
             ],
             [
              0.8888888888888888,
              "#fdca26"
             ],
             [
              1,
              "#f0f921"
             ]
            ],
            "type": "histogram2dcontour"
           }
          ],
          "mesh3d": [
           {
            "colorbar": {
             "outlinewidth": 0,
             "ticks": ""
            },
            "type": "mesh3d"
           }
          ],
          "parcoords": [
           {
            "line": {
             "colorbar": {
              "outlinewidth": 0,
              "ticks": ""
             }
            },
            "type": "parcoords"
           }
          ],
          "pie": [
           {
            "automargin": true,
            "type": "pie"
           }
          ],
          "scatter": [
           {
            "fillpattern": {
             "fillmode": "overlay",
             "size": 10,
             "solidity": 0.2
            },
            "type": "scatter"
           }
          ],
          "scatter3d": [
           {
            "line": {
             "colorbar": {
              "outlinewidth": 0,
              "ticks": ""
             }
            },
            "marker": {
             "colorbar": {
              "outlinewidth": 0,
              "ticks": ""
             }
            },
            "type": "scatter3d"
           }
          ],
          "scattercarpet": [
           {
            "marker": {
             "colorbar": {
              "outlinewidth": 0,
              "ticks": ""
             }
            },
            "type": "scattercarpet"
           }
          ],
          "scattergeo": [
           {
            "marker": {
             "colorbar": {
              "outlinewidth": 0,
              "ticks": ""
             }
            },
            "type": "scattergeo"
           }
          ],
          "scattergl": [
           {
            "marker": {
             "colorbar": {
              "outlinewidth": 0,
              "ticks": ""
             }
            },
            "type": "scattergl"
           }
          ],
          "scattermap": [
           {
            "marker": {
             "colorbar": {
              "outlinewidth": 0,
              "ticks": ""
             }
            },
            "type": "scattermap"
           }
          ],
          "scattermapbox": [
           {
            "marker": {
             "colorbar": {
              "outlinewidth": 0,
              "ticks": ""
             }
            },
            "type": "scattermapbox"
           }
          ],
          "scatterpolar": [
           {
            "marker": {
             "colorbar": {
              "outlinewidth": 0,
              "ticks": ""
             }
            },
            "type": "scatterpolar"
           }
          ],
          "scatterpolargl": [
           {
            "marker": {
             "colorbar": {
              "outlinewidth": 0,
              "ticks": ""
             }
            },
            "type": "scatterpolargl"
           }
          ],
          "scatterternary": [
           {
            "marker": {
             "colorbar": {
              "outlinewidth": 0,
              "ticks": ""
             }
            },
            "type": "scatterternary"
           }
          ],
          "surface": [
           {
            "colorbar": {
             "outlinewidth": 0,
             "ticks": ""
            },
            "colorscale": [
             [
              0,
              "#0d0887"
             ],
             [
              0.1111111111111111,
              "#46039f"
             ],
             [
              0.2222222222222222,
              "#7201a8"
             ],
             [
              0.3333333333333333,
              "#9c179e"
             ],
             [
              0.4444444444444444,
              "#bd3786"
             ],
             [
              0.5555555555555556,
              "#d8576b"
             ],
             [
              0.6666666666666666,
              "#ed7953"
             ],
             [
              0.7777777777777778,
              "#fb9f3a"
             ],
             [
              0.8888888888888888,
              "#fdca26"
             ],
             [
              1,
              "#f0f921"
             ]
            ],
            "type": "surface"
           }
          ],
          "table": [
           {
            "cells": {
             "fill": {
              "color": "#EBF0F8"
             },
             "line": {
              "color": "white"
             }
            },
            "header": {
             "fill": {
              "color": "#C8D4E3"
             },
             "line": {
              "color": "white"
             }
            },
            "type": "table"
           }
          ]
         },
         "layout": {
          "annotationdefaults": {
           "arrowcolor": "#2a3f5f",
           "arrowhead": 0,
           "arrowwidth": 1
          },
          "autotypenumbers": "strict",
          "coloraxis": {
           "colorbar": {
            "outlinewidth": 0,
            "ticks": ""
           }
          },
          "colorscale": {
           "diverging": [
            [
             0,
             "#8e0152"
            ],
            [
             0.1,
             "#c51b7d"
            ],
            [
             0.2,
             "#de77ae"
            ],
            [
             0.3,
             "#f1b6da"
            ],
            [
             0.4,
             "#fde0ef"
            ],
            [
             0.5,
             "#f7f7f7"
            ],
            [
             0.6,
             "#e6f5d0"
            ],
            [
             0.7,
             "#b8e186"
            ],
            [
             0.8,
             "#7fbc41"
            ],
            [
             0.9,
             "#4d9221"
            ],
            [
             1,
             "#276419"
            ]
           ],
           "sequential": [
            [
             0,
             "#0d0887"
            ],
            [
             0.1111111111111111,
             "#46039f"
            ],
            [
             0.2222222222222222,
             "#7201a8"
            ],
            [
             0.3333333333333333,
             "#9c179e"
            ],
            [
             0.4444444444444444,
             "#bd3786"
            ],
            [
             0.5555555555555556,
             "#d8576b"
            ],
            [
             0.6666666666666666,
             "#ed7953"
            ],
            [
             0.7777777777777778,
             "#fb9f3a"
            ],
            [
             0.8888888888888888,
             "#fdca26"
            ],
            [
             1,
             "#f0f921"
            ]
           ],
           "sequentialminus": [
            [
             0,
             "#0d0887"
            ],
            [
             0.1111111111111111,
             "#46039f"
            ],
            [
             0.2222222222222222,
             "#7201a8"
            ],
            [
             0.3333333333333333,
             "#9c179e"
            ],
            [
             0.4444444444444444,
             "#bd3786"
            ],
            [
             0.5555555555555556,
             "#d8576b"
            ],
            [
             0.6666666666666666,
             "#ed7953"
            ],
            [
             0.7777777777777778,
             "#fb9f3a"
            ],
            [
             0.8888888888888888,
             "#fdca26"
            ],
            [
             1,
             "#f0f921"
            ]
           ]
          },
          "colorway": [
           "#636efa",
           "#EF553B",
           "#00cc96",
           "#ab63fa",
           "#FFA15A",
           "#19d3f3",
           "#FF6692",
           "#B6E880",
           "#FF97FF",
           "#FECB52"
          ],
          "font": {
           "color": "#2a3f5f"
          },
          "geo": {
           "bgcolor": "white",
           "lakecolor": "white",
           "landcolor": "#E5ECF6",
           "showlakes": true,
           "showland": true,
           "subunitcolor": "white"
          },
          "hoverlabel": {
           "align": "left"
          },
          "hovermode": "closest",
          "mapbox": {
           "style": "light"
          },
          "paper_bgcolor": "white",
          "plot_bgcolor": "#E5ECF6",
          "polar": {
           "angularaxis": {
            "gridcolor": "white",
            "linecolor": "white",
            "ticks": ""
           },
           "bgcolor": "#E5ECF6",
           "radialaxis": {
            "gridcolor": "white",
            "linecolor": "white",
            "ticks": ""
           }
          },
          "scene": {
           "xaxis": {
            "backgroundcolor": "#E5ECF6",
            "gridcolor": "white",
            "gridwidth": 2,
            "linecolor": "white",
            "showbackground": true,
            "ticks": "",
            "zerolinecolor": "white"
           },
           "yaxis": {
            "backgroundcolor": "#E5ECF6",
            "gridcolor": "white",
            "gridwidth": 2,
            "linecolor": "white",
            "showbackground": true,
            "ticks": "",
            "zerolinecolor": "white"
           },
           "zaxis": {
            "backgroundcolor": "#E5ECF6",
            "gridcolor": "white",
            "gridwidth": 2,
            "linecolor": "white",
            "showbackground": true,
            "ticks": "",
            "zerolinecolor": "white"
           }
          },
          "shapedefaults": {
           "line": {
            "color": "#2a3f5f"
           }
          },
          "ternary": {
           "aaxis": {
            "gridcolor": "white",
            "linecolor": "white",
            "ticks": ""
           },
           "baxis": {
            "gridcolor": "white",
            "linecolor": "white",
            "ticks": ""
           },
           "bgcolor": "#E5ECF6",
           "caxis": {
            "gridcolor": "white",
            "linecolor": "white",
            "ticks": ""
           }
          },
          "title": {
           "x": 0.05
          },
          "xaxis": {
           "automargin": true,
           "gridcolor": "white",
           "linecolor": "white",
           "ticks": "",
           "title": {
            "standoff": 15
           },
           "zerolinecolor": "white",
           "zerolinewidth": 2
          },
          "yaxis": {
           "automargin": true,
           "gridcolor": "white",
           "linecolor": "white",
           "ticks": "",
           "title": {
            "standoff": 15
           },
           "zerolinecolor": "white",
           "zerolinewidth": 2
          }
         }
        },
        "title": {
         "text": "Device ID rollout impact on hours worked"
        },
        "xaxis": {
         "anchor": "y",
         "domain": [
          0,
          1
         ],
         "title": {
          "text": "date"
         }
        },
        "yaxis": {
         "anchor": "x",
         "domain": [
          0,
          1
         ],
         "title": {
          "text": "avg_hours_worked"
         }
        }
       }
      }
     },
     "metadata": {},
     "output_type": "display_data"
    }
   ],
   "source": [
    "fig = px.line(df_riders_did_grp, x=\"date\", y=\"avg_hours_worked\", color=\"did_rollout\", title='Device ID rollout impact on hours worked')\n",
    "fig.show()"
   ]
  },
  {
   "cell_type": "code",
   "execution_count": null,
   "metadata": {},
   "outputs": [],
   "source": []
  }
 ],
 "metadata": {
  "kernelspec": {
   "display_name": "Python 3",
   "language": "python",
   "name": "python3"
  },
  "language_info": {
   "codemirror_mode": {
    "name": "ipython",
    "version": 3
   },
   "file_extension": ".py",
   "mimetype": "text/x-python",
   "name": "python",
   "nbconvert_exporter": "python",
   "pygments_lexer": "ipython3",
   "version": "3.9.6"
  }
 },
 "nbformat": 4,
 "nbformat_minor": 2
}
