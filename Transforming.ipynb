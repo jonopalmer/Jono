{
 "cells": [
  {
   "cell_type": "markdown",
   "id": "0d2cb3c6",
   "metadata": {},
   "source": [
    "# Transforming Variables\n",
    "If the values in a variable are skewed we should transform this to be normally distributed.\n",
    "Linear models expected all inputs and outputs to be normally distributed.\n",
    "\n",
    "\n",
    "The two most common ways are to take logs or roots. Logs will not work if there are any 0 values. Different methods will yield different results."
   ]
  },
  {
   "cell_type": "markdown",
   "id": "1128769b",
   "metadata": {},
   "source": [
    "<img src=\"../assets/Skew.png\" alt=\"Corndel\" width =\"600\" align=\"centre\">"
   ]
  },
  {
   "cell_type": "code",
   "execution_count": null,
   "id": "3aa0cb7d",
   "metadata": {},
   "outputs": [],
   "source": [
    "import pandas as pd\n",
    "import numpy as np\n",
    "import matplotlib.pyplot as plt"
   ]
  },
  {
   "cell_type": "code",
   "execution_count": null,
   "id": "c66931cb",
   "metadata": {},
   "outputs": [],
   "source": [
    "# Import data and view distributions\n",
    "df_dia = pd.read_csv(\"https://www4.stat.ncsu.edu/~boos/var.select/diabetes.tab.txt\",sep=\"\\t\")\n",
    "df_dia.hist(figsize=(20,20), bins =50)\n",
    "plt.show()"
   ]
  },
  {
   "cell_type": "markdown",
   "id": "b1087b24",
   "metadata": {},
   "source": [
    "Candidates for transforming are BMI, S2, S3 and Y."
   ]
  },
  {
   "cell_type": "markdown",
   "id": "67587758",
   "metadata": {},
   "source": [
    "# Examine the output y"
   ]
  },
  {
   "cell_type": "code",
   "execution_count": null,
   "id": "e2ccecaa",
   "metadata": {
    "scrolled": true
   },
   "outputs": [],
   "source": [
    "# Hist of y\n",
    "df_dia['Y'].hist(bins=50)\n",
    "plt.show()"
   ]
  },
  {
   "cell_type": "markdown",
   "id": "b5e41015-55dc-4fc7-9926-d6b7d0624e9e",
   "metadata": {},
   "source": [
    "The data is not normally distributed."
   ]
  },
  {
   "cell_type": "code",
   "execution_count": null,
   "id": "c609e273",
   "metadata": {},
   "outputs": [],
   "source": [
    "# Applying a log transform\n",
    "np.log(df_dia['Y']).hist(bins=50)\n",
    "plt.show()"
   ]
  },
  {
   "cell_type": "markdown",
   "id": "52c9ad0f",
   "metadata": {},
   "source": [
    "This hasn't really helped so we can try transforming using a square root."
   ]
  },
  {
   "cell_type": "code",
   "execution_count": null,
   "id": "23fd59ff",
   "metadata": {
    "scrolled": true
   },
   "outputs": [],
   "source": [
    "# Taking roots\n",
    "np.sqrt(df_dia['Y']).hist(bins=50)\n",
    "plt.show()"
   ]
  },
  {
   "cell_type": "markdown",
   "id": "0b30a98c",
   "metadata": {},
   "source": [
    "It is now more suitable for the model."
   ]
  },
  {
   "cell_type": "code",
   "execution_count": null,
   "id": "0a352e55",
   "metadata": {},
   "outputs": [],
   "source": [
    "# Apply the transformation\n",
    "df_dia['Y'] = np.sqrt(df_dia['Y'])"
   ]
  },
  {
   "cell_type": "markdown",
   "id": "fc251324-55ea-4a8f-9695-e0bf8ec8e838",
   "metadata": {},
   "source": [
    "The same process could be used for BMI, S2, S3 and Y."
   ]
  }
 ],
 "metadata": {
  "kernelspec": {
   "display_name": "Python [conda env:base] *",
   "language": "python",
   "name": "conda-base-py"
  },
  "language_info": {
   "codemirror_mode": {
    "name": "ipython",
    "version": 3
   },
   "file_extension": ".py",
   "mimetype": "text/x-python",
   "name": "python",
   "nbconvert_exporter": "python",
   "pygments_lexer": "ipython3",
   "version": "3.12.9"
  }
 },
 "nbformat": 4,
 "nbformat_minor": 5
}
