{
 "cells": [
  {
   "cell_type": "code",
   "execution_count": null,
   "id": "352cbe92",
   "metadata": {},
   "outputs": [
    {
     "name": "stdout",
     "output_type": "stream",
     "text": [
      "Initiating login request with your identity provider. A browser window should have opened for you to complete the login. If you can't see it, check existing browser windows, or your OS settings. Press CTRL+C to abort and try again...\n",
      "Going to open: https://accounts.google.com/o/saml2/idp?idpid=C01jnk96c&SAMLRequest=nZLLbtswEEV%2FRWDXEiX5kZiwbPiRoEKdWvBr0R0r0jZjilQ5ZGT%2FfWk5BtJFsuhCgECdGZ7RneH4XMngjRsQWmUoiWIUcFVqJtQhQ9vNc%2FiIArBUMSq14hm6cEDj0RBoJWsycfaoVvyP42AD30gBaT9kyBlFNAUBRNGKA7ElWU9eFiSNYlIbbXWpJfpQ8nUFBeDGesN7CQPh9Y7W1gTjpmmiphNpc8BpHMc4HmBPXZFvd%2F7sZ%2FqET3DcvfKe8Hjx7jYV6vYLvtL6fYOAfN9sirBYrjcomNxVZ1qBq7hZc%2FMmSr5dLW4C4A3mT4t897RaLiPuwpIra6gMkwiUbvaSnnipq9pZ3zryb3jPGZb6IPz0%2BTxD9UmwM%2FxYwbnuTNOk74qLfnUTNjgenxfs%2FNArBs65ZArbVb3r5CUKdvd402u8OYDjubqGav1RnPbCuBsmD5v4kXS6pNuPOv3eLxTMfahCUdtW3s1pWWqnLEQHrQ%2BSt34aXxNMsWD12D%2BCZbM4eVWnQb9Et00h7Z1m9F%2FzD%2FHHFu%2Bb99OHkc8LLUV5CZ61qaj9PKskStoTwcJ9ixJeUSEnjBkO4DOTUjczw6n1C26N4wiPbrf%2Bu%2BKjvw%3D%3D&RelayState=ver%3A1-hint%3A114357330127755-ETMsDgAAAZZC4t3dABRBRVMvQ0JDL1BLQ1M1UGFkZGluZwEAABAAEPvNFd92UrAGT77bzc2QqfcAAACgsAOt05emHwcJTzmB2TUT8KYN3PwvBseCe1mB6OzLvblHdvd0NGw4KjXuHBnDQFQlsuk6g7OHctg0hsnoEFIMICib8zH88r5M6oHtIPPaFcfNwQOs7VBG1I9e8NQO%2FtPn44TJsYHwcEyq8enEy5mKceZJo3B3EiBr77%2BMNa93zpekjLgOqzGXatxy1t42C3kIuoi%2BZ%2FPOojFaTGV7FzfdtwAUUB0wEV6RKN8ocpI7icjorLo5LHA%3D to authenticate...\n"
     ]
    },
    {
     "name": "stderr",
     "output_type": "stream",
     "text": [
      "/var/folders/5t/7fmzl0lx2ds7q_hszd4f9zt00000gq/T/ipykernel_35213/3179050654.py:31: UserWarning: pandas only supports SQLAlchemy connectable (engine/connection) or database string URI or sqlite3 DBAPI2 connection. Other DBAPI2 objects are not tested. Please consider using SQLAlchemy.\n",
      "  df = pd.read_sql(query, conn)\n"
     ]
    }
   ],
   "source": [
    "import pandas as pd\n",
    "import snowflake.connector\n",
    "from datetime import datetime, timedelta\n",
    "\n",
    "# Connect using saved profile\n",
    "conn = snowflake.connector.connect(\n",
    "    connection_name=\"DELIVEROO\",\n",
    "    database=\"production\",  # ← your database\n",
    "    schema=\"denormalised\"   # ← your schema\n",
    ")\n",
    "\n",
    "# Define your Python variables\n",
    "start_date = '2025-04-11'\n",
    "comms_date = '2025-04-11'\n",
    "end_date = (datetime.strptime(start_date, '%Y-%m-%d') + timedelta(days=14)).strftime('%Y-%m-%d')\n",
    "\n",
    "# Inject into SQL string (use f-string carefully to avoid SQL injection)\n",
    "query = f\"\"\"\n",
    "SELECT *\n",
    "FROM production.denormalised.denormalised_assignment A\n",
    "WHERE \n",
    "  COUNTRY_NAME = 'UK'\n",
    "  AND OA_STATUS = 'DELIVERED'  \n",
    "  AND TO_DATE(LOCAL_TIME_OA_CREATED_AT) BETWEEN TO_DATE('{start_date}') AND TO_DATE('{end_date}')\n",
    "\n",
    "ORDER BY \n",
    "  DRIVER_ID\n",
    "\"\"\"\n",
    "\n",
    "# Run the query\n",
    "df = pd.read_sql(query, conn)\n",
    "\n",
    "# Preview\n",
    "df.head()\n"
   ]
  }
 ],
 "metadata": {
  "kernelspec": {
   "display_name": "Python 3",
   "language": "python",
   "name": "python3"
  },
  "language_info": {
   "codemirror_mode": {
    "name": "ipython",
    "version": 3
   },
   "file_extension": ".py",
   "mimetype": "text/x-python",
   "name": "python",
   "nbconvert_exporter": "python",
   "pygments_lexer": "ipython3",
   "version": "3.9.6"
  }
 },
 "nbformat": 4,
 "nbformat_minor": 5
}
