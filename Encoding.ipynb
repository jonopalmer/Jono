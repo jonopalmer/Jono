{
 "cells": [
  {
   "cell_type": "markdown",
   "id": "9dd4e9c1",
   "metadata": {},
   "source": [
    "# Encoding Categorical Variables"
   ]
  },
  {
   "cell_type": "markdown",
   "id": "68831844",
   "metadata": {},
   "source": [
    "If we have a categorical variable we need to encode it to a numeric variable. Linear regression does not work with categorical variables."
   ]
  },
  {
   "cell_type": "markdown",
   "id": "10cf50e3",
   "metadata": {},
   "source": [
    "A common technique is One-hot encoding. "
   ]
  },
  {
   "cell_type": "code",
   "execution_count": null,
   "id": "3ccc5d50",
   "metadata": {},
   "outputs": [],
   "source": [
    "# libraries\n",
    "import pandas as pd\n",
    "import numpy as np"
   ]
  },
  {
   "cell_type": "code",
   "execution_count": null,
   "id": "61a9d01e",
   "metadata": {
    "scrolled": true
   },
   "outputs": [],
   "source": [
    "# Loading data\n",
    "df_dia = pd.read_csv(\"https://www4.stat.ncsu.edu/~boos/var.select/diabetes.tab.txt\",sep=\"\\t\")\n",
    "\n",
    "# Changing SEX column to be categorical - this is just to show, in the next step, how to encode \n",
    "df_dia['SEX'] = df_dia['SEX'].replace({1: 'Male', 2: 'Female'})\n",
    "\n",
    "# Examining the head\n",
    "df_dia.head()\n"
   ]
  },
  {
   "cell_type": "markdown",
   "id": "d7ee2c27-4af0-4a98-bfd5-977a3ed97efc",
   "metadata": {},
   "source": [
    "One-hot encoding creates a binary column for each category in the categorical variable, minus 1. \n",
    "\n",
    "`SEX` is binary (i.e. it contains 2 categories) so 1 new column will be created. "
   ]
  },
  {
   "cell_type": "code",
   "execution_count": null,
   "id": "af55cbd3",
   "metadata": {
    "scrolled": true
   },
   "outputs": [],
   "source": [
    "# Encoding using pandas get dummies\n",
    "pd.get_dummies(df_dia, columns=['SEX'], drop_first=True, dtype=int)"
   ]
  },
  {
   "cell_type": "markdown",
   "id": "0662a7ec-e05a-4790-aab2-0e7fcd71d0bf",
   "metadata": {},
   "source": [
    "In the new `SEX_Male` column, 1 indicates the presence of that category (i.e. 'Male') and 0 indicates it's absence (i.e. 'Female')."
   ]
  },
  {
   "cell_type": "code",
   "execution_count": null,
   "id": "1dbd4ce9",
   "metadata": {},
   "outputs": [],
   "source": [
    "# examine the dataframe\n",
    "df_dia.head()"
   ]
  },
  {
   "cell_type": "code",
   "execution_count": null,
   "id": "48c63122",
   "metadata": {
    "scrolled": true
   },
   "outputs": [],
   "source": [
    "# Applying this transformation to the dataframe\n",
    "df_dia = pd.get_dummies(df_dia, columns=['SEX'], drop_first=True, dtype=int)"
   ]
  },
  {
   "cell_type": "code",
   "execution_count": null,
   "id": "4c3eada9",
   "metadata": {},
   "outputs": [],
   "source": [
    "# examine the dataframe\n",
    "df_dia.head()"
   ]
  }
 ],
 "metadata": {
  "kernelspec": {
   "display_name": "Python [conda env:base] *",
   "language": "python",
   "name": "conda-base-py"
  },
  "language_info": {
   "codemirror_mode": {
    "name": "ipython",
    "version": 3
   },
   "file_extension": ".py",
   "mimetype": "text/x-python",
   "name": "python",
   "nbconvert_exporter": "python",
   "pygments_lexer": "ipython3",
   "version": "3.12.9"
  }
 },
 "nbformat": 4,
 "nbformat_minor": 5
}
