{
 "cells": [
  {
   "cell_type": "markdown",
   "metadata": {},
   "source": [
    "<img src=\"https://github.com/CorndelDataAnalyticsDiploma/workshop/blob/master/Corndel%20Digital%20Logo%20Centre.png?raw=true\" alt=\"Corndel\" width =\"301.5\" align=\"left\">"
   ]
  },
  {
   "cell_type": "markdown",
   "metadata": {
    "id": "_xJrtZxbh8vR"
   },
   "source": [
    "\n",
    "# Linear Regression Analysis\n",
    "\n",
    "\n",
    "In this first section we will look at the traditional statisticians' approach to Linear Regression.\n",
    "These models are built to **gain understanding about the relationships between the dependent and independent variables** (e.g. how does a change in the number of hours students study affect their exam score?).\n",
    "\n",
    "This traditional approach involves ensuring lots of assumptions are satisfied.\n",
    "\n",
    "We will not go into depth with these assumptions as our focus is on building predictive models and that has a different approach.\n",
    "\n",
    "In the second section we will build a predictive model and evaluate this against our data to determine how good a model it is.\n",
    "\n",
    "\n",
    "\n",
    "\n"
   ]
  },
  {
   "cell_type": "markdown",
   "metadata": {},
   "source": [
    "## Simple Linear Regression"
   ]
  },
  {
   "cell_type": "code",
   "execution_count": null,
   "metadata": {
    "id": "6DrB4AD4h8vX"
   },
   "outputs": [],
   "source": [
    "# Import all relevant libraries \n",
    "\n",
    "import pandas as pd\n",
    "import matplotlib.pyplot as plt\n",
    "import statsmodels.api as sm\n",
    "import seaborn as sns"
   ]
  },
  {
   "cell_type": "code",
   "execution_count": null,
   "metadata": {},
   "outputs": [],
   "source": [
    "# enlarge seaborn plots\n",
    "# sns.set_theme(rc={'figure.figsize':(11.7,8.27)})"
   ]
  },
  {
   "cell_type": "markdown",
   "metadata": {},
   "source": [
    "## Step 1 EDA"
   ]
  },
  {
   "cell_type": "markdown",
   "metadata": {},
   "source": [
    "🤖`*\"How do import a csv named 'fertililizer_yield_50-80.csv' into pandas ?\"*`"
   ]
  },
  {
   "cell_type": "markdown",
   "metadata": {},
   "source": [
    "### Load in data and quick overview"
   ]
  },
  {
   "cell_type": "markdown",
   "metadata": {},
   "source": [
    "<div class=\"alert alert-block alert-warning\">\n",
    "\n",
    "-**Exploratory Data Analysis**\n",
    "    \n",
    "        -- It is crucial that we explore the data before we attempt any kind of modelling\n",
    "\n",
    "\n"
   ]
  },
  {
   "cell_type": "code",
   "execution_count": null,
   "metadata": {},
   "outputs": [],
   "source": [
    "# Import CSV and view head\n",
    "crop_yield = pd.read_csv('data/fertililizer_yield_50-85.csv')\n",
    "\n",
    "crop_yield.head()"
   ]
  },
  {
   "cell_type": "markdown",
   "metadata": {},
   "source": [
    "* fertilizer_vol: how much fertilizer was applied (in litres)\n",
    "* farm_size: the area the fertilizer was applied to (in acres)\n",
    "* planting density: the number of plants per acre\n",
    "* yield: the amount of crop produced (per acre)"
   ]
  },
  {
   "cell_type": "markdown",
   "metadata": {},
   "source": [
    "### Summary statistics and DataFrame info"
   ]
  },
  {
   "cell_type": "code",
   "execution_count": null,
   "metadata": {},
   "outputs": [],
   "source": [
    "# numerical analysis of data\n",
    "\n",
    "crop_yield.describe().round(2)"
   ]
  },
  {
   "cell_type": "code",
   "execution_count": null,
   "metadata": {},
   "outputs": [],
   "source": [
    "# get info of dataframe\n",
    "\n",
    "crop_yield.info()"
   ]
  },
  {
   "cell_type": "markdown",
   "metadata": {},
   "source": [
    "### Scatter Plot, investigate Linearity"
   ]
  },
  {
   "cell_type": "markdown",
   "metadata": {},
   "source": [
    "We will investigate whether we can build a model to understand the relationship between the amount of fertilizer that is applied to crops and the crop yield. "
   ]
  },
  {
   "cell_type": "markdown",
   "metadata": {},
   "source": [
    "🤖`*\"How do I build a scatter plot in seaborn from a dataframe named crop_yield, I want fertilizer_vol on the x_axis and yield on the y-axis?\"*`"
   ]
  },
  {
   "cell_type": "markdown",
   "metadata": {},
   "source": [
    "<div class=\"alert alert-block alert-warning\">\n",
    "    \n",
    "An AI chatbot will ask you if you would like a regression plotted on this too. Seaborn can do this, however we cannot extract the model parameters from it. Further querying an AI chatbot  will direct you to use Statsmodels, Scipy or Scikit-Learn."
   ]
  },
  {
   "cell_type": "code",
   "execution_count": null,
   "metadata": {},
   "outputs": [],
   "source": [
    "# Use seaborn to create a scatter plot of \"fertilizer_vol\" against \"yield\"\n",
    "\n",
    "sns.scatterplot(data=crop_yield, x=\"fertilizer_vol\", y=\"yield\")\n",
    "plt.show()"
   ]
  },
  {
   "cell_type": "markdown",
   "metadata": {},
   "source": [
    "<div class=\"alert alert-block alert-warning\">\n",
    "\n",
    "### Questions?\n",
    "    Can we see a linear relationship?\n",
    "    \n",
    "    Is it viable to proceed?\n",
    "    \n",
    "\n",
    "(We will ignore the possible presence of heteroscedasticity and move on for now. It is important for the Statisticians' approach and explainability of features, but not for predictive modelling)."
   ]
  },
  {
   "cell_type": "markdown",
   "metadata": {},
   "source": [
    "# Correlation coefficient"
   ]
  },
  {
   "cell_type": "code",
   "execution_count": null,
   "metadata": {},
   "outputs": [],
   "source": [
    "# Quantify this with the correlation coefficient\n",
    "\n",
    "crop_yield['fertilizer_vol'].corr(crop_yield[\"yield\"]).round(2)"
   ]
  },
  {
   "cell_type": "markdown",
   "metadata": {},
   "source": [
    "## Building the Linear Model"
   ]
  },
  {
   "cell_type": "markdown",
   "metadata": {},
   "source": [
    "Statsmodels does not include an intercept by default because it gives users explicit control over model specification, unlike libraries like scikit-learn which include an intercept by default for convenience.\n",
    "\n",
    "Why this design choice?\n",
    "Transparency and statistical clarity:\n",
    "statsmodels is designed for statisticians and researchers who often want precise control over the design matrix (independent variables). Automatically adding a constant could obscure model structure or interfere with special cases (e.g., no-intercept models, fixed effects, etc.)."
   ]
  },
  {
   "cell_type": "code",
   "execution_count": null,
   "metadata": {},
   "outputs": [],
   "source": [
    "# Build the model and print out the summary\n",
    "# Prepare data\n",
    "\n",
    "# select the independent variable\n",
    "X = sm.add_constant(crop_yield['fertilizer_vol'])  # adds intercept term\n",
    "# select the dependent variable\n",
    "y = crop_yield['yield']\n",
    "\n",
    "# Fit model\n",
    "model = sm.OLS(y, X).fit()\n",
    "model.summary()"
   ]
  },
  {
   "cell_type": "markdown",
   "metadata": {},
   "source": [
    "<div class=\"alert alert-block alert-warning\">\n",
    "\n",
    "    --P-value a feature should have a p-value of less than 0.05 in order for us to regard it as significant in our model. A value higher than this is generally viewed to be stastically insignificant and it should be excluded from our explanitory variables\n",
    "    \n",
    "    -- R^2 is the coefficient of determination. It represents the proportion of variance in target variable due to the input variables."
   ]
  },
  {
   "cell_type": "code",
   "execution_count": null,
   "metadata": {},
   "outputs": [],
   "source": [
    "# Using Matplotlib, pLot the model on the same chart as the data\n",
    "\n",
    "# set up for multiple plots\n",
    "fig, ax = plt.subplots()\n",
    "\n",
    "# Scatter plot\n",
    "ax.scatter(crop_yield['fertilizer_vol'], crop_yield['yield'])\n",
    "plt.xlabel('Fertilizer Volume')\n",
    "plt.ylabel('Yield')\n",
    "\n",
    "\n",
    "# Regression line on same axes\n",
    "sm.graphics.abline_plot(model_results=model, ax=ax, color='red')\n",
    "\n",
    "# display the plot\n",
    "plt.show()"
   ]
  },
  {
   "cell_type": "markdown",
   "metadata": {},
   "source": [
    "# Interpolation, Extrapolation and Outliers\n",
    "\n",
    "Our model was built on data where between 50 and 85 litres of fertilizer was applied to the crops. \n",
    "\n",
    "What happens when we use a dataset that includes observations where between *1 and 104* litres of fertilizer was applied to the crops?"
   ]
  },
  {
   "cell_type": "code",
   "execution_count": null,
   "metadata": {},
   "outputs": [],
   "source": [
    "# load in the full data and display as a scatter plot\n",
    "\n",
    "crop_yield_full = pd.read_csv('data/fertililizer_yield.csv')\n",
    "sns.scatterplot(data=crop_yield_full, x=\"fertilizer_vol\", y=\"yield\");"
   ]
  },
  {
   "cell_type": "code",
   "execution_count": null,
   "metadata": {},
   "outputs": [],
   "source": [
    "# Using Matplotlib, pLot the model on the same chart as the data\n",
    "\n",
    "fig, ax = plt.subplots()\n",
    "\n",
    "# Scatter plot\n",
    "ax.scatter(crop_yield_full['fertilizer_vol'], crop_yield_full['yield'])\n",
    "plt.xlabel('Fertilizer Volume')\n",
    "plt.ylabel('Yield')\n",
    "\n",
    "# Regression line on same axes\n",
    "sm.graphics.abline_plot(model_results=model, ax=ax, color='red')\n",
    "\n",
    "# Set limits\n",
    "#ax.set(ylim=(2,11), xlim=(50,85))\n",
    "\n",
    "plt.show()"
   ]
  },
  {
   "cell_type": "markdown",
   "metadata": {},
   "source": [
    "<div class=\"alert alert-block alert-warning\">\n",
    "\n",
    "-**Extrapolation**\n",
    "    \n",
    "     --Here we can see the dangers of extrapolation.\n",
    "    -- This is drawing conclusions or making predictions about data outside the range of what we have previously seen\n",
    "    \n",
    "    \n",
    "    \n",
    "-**Solutions**\n",
    "     \n",
    "    --There are three distinct populations, roughly 0-50, 50-90 and 90+\n",
    "    --Different ways to model this are\n",
    "        --Piecewise, seperate Linear Models of each distinct population\n",
    "        --A Non-linear regression model\n",
    "    \n",
    "-**Outliers**\n",
    "    \n",
    "    -- Do you see any outliers?\n",
    "    -- What are the options for these?"
   ]
  },
  {
   "cell_type": "markdown",
   "metadata": {},
   "source": [
    "# Menti Quiz\n",
    "\n",
    "# Break"
   ]
  },
  {
   "cell_type": "markdown",
   "metadata": {},
   "source": [
    "# Exercise - Break out rooms (20 mins)\n",
    "\n",
    "The csv file `who_life_exp_albania.csv` contains data about life expectancy in Albania between 2000 and 2014. It was compiled by the [World Health Organization](https://www.who.int/).\n",
    "\n",
    "A data dictionary is available at https://www.kaggle.com/datasets/kumarajarshi/life-expectancy-who\n",
    "\n",
    "Your task is to understand the relationship between **life_expectancy** (the dependent variable) and an independent variable of your choice, by creating a simple linear regression model. \n",
    "\n",
    "Use the approach we have used so far:\n",
    "\n",
    "* **load the dataset** in a notebook\n",
    "* **explore the data** (summary statistics and DataFrame info)\n",
    "* **investigate linearity** between the DV and potential IVs (scatter plot and calculate correlation coefficient)\n",
    "* **validate that your chosen data is suitable** for  linear regression\n",
    "* if required, **handle outliers** (or choose another suitable IV)\n",
    "\n",
    "When you have found an IV that is suitable for building a linear model with:\n",
    "\n",
    "* **build a linear model**\n",
    "* from the model summary, **evaluate it**.\n",
    "\n",
    "As a group, be ready to share:\n",
    "\n",
    "* why you think your data is suitable for linear regression\n",
    "* your model's R value. What does it mean?\n",
    "* your IV's coefficient and p-value. What do they mean?\n",
    "\n",
    "Ignore any statsmodels warnings you may see - this will be because there is a small number of observations in the dataset. "
   ]
  }
 ],
 "metadata": {
  "colab": {
   "collapsed_sections": [],
   "name": "Linear Regression.ipynb",
   "provenance": []
  },
  "kernelspec": {
   "display_name": "Python [conda env:base] *",
   "language": "python",
   "name": "conda-base-py"
  },
  "language_info": {
   "codemirror_mode": {
    "name": "ipython",
    "version": 3
   },
   "file_extension": ".py",
   "mimetype": "text/x-python",
   "name": "python",
   "nbconvert_exporter": "python",
   "pygments_lexer": "ipython3",
   "version": "3.12.9"
  },
  "toc": {
   "base_numbering": 1,
   "nav_menu": {},
   "number_sections": true,
   "sideBar": true,
   "skip_h1_title": false,
   "title_cell": "Table of Contents",
   "title_sidebar": "Contents",
   "toc_cell": false,
   "toc_position": {},
   "toc_section_display": true,
   "toc_window_display": false
  },
  "varInspector": {
   "cols": {
    "lenName": 16,
    "lenType": 16,
    "lenVar": 40
   },
   "kernels_config": {
    "python": {
     "delete_cmd_postfix": "",
     "delete_cmd_prefix": "del ",
     "library": "var_list.py",
     "varRefreshCmd": "print(var_dic_list())"
    },
    "r": {
     "delete_cmd_postfix": ") ",
     "delete_cmd_prefix": "rm(",
     "library": "var_list.r",
     "varRefreshCmd": "cat(var_dic_list()) "
    }
   },
   "types_to_exclude": [
    "module",
    "function",
    "builtin_function_or_method",
    "instance",
    "_Feature"
   ],
   "window_display": false
  }
 },
 "nbformat": 4,
 "nbformat_minor": 4
}
