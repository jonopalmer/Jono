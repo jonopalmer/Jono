{
 "cells": [
  {
   "cell_type": "markdown",
   "id": "9dd4e9c1",
   "metadata": {},
   "source": [
    "# Scaling\n",
    "\n",
    "Scaling is the process of adjusting the numerice values in a dataset so that they fit within a specific range e.g.:\n",
    "\n",
    "* between 0 and 1, or\n",
    "* so that they have a mean of 0 and a std dev of 1\n",
    "\n",
    "Whilst it's not strictly necessary for linear regression, other machine learning algorithms do require that the independent variables have an equal contribution to the outcome. Scaling is a way to achieve this."
   ]
  },
  {
   "cell_type": "code",
   "execution_count": null,
   "id": "3ccc5d50",
   "metadata": {},
   "outputs": [],
   "source": [
    "# libraries\n",
    "import pandas as pd\n",
    "import seaborn as sns\n",
    "\n",
    "from sklearn.preprocessing import StandardScaler\n"
   ]
  },
  {
   "cell_type": "code",
   "execution_count": null,
   "id": "61a9d01e",
   "metadata": {
    "scrolled": true
   },
   "outputs": [],
   "source": [
    "#Load data and examine\n",
    "df_dia = pd.read_csv(\"https://www4.stat.ncsu.edu/~boos/var.select/diabetes.tab.txt\",sep=\"\\t\")\n",
    "\n",
    "df_dia.head(10)"
   ]
  },
  {
   "cell_type": "code",
   "execution_count": null,
   "id": "17dab064-43a9-49e6-8caf-913399056c5c",
   "metadata": {
    "scrolled": true
   },
   "outputs": [],
   "source": [
    "df_dia.describe().round(2)"
   ]
  },
  {
   "cell_type": "markdown",
   "id": "c3aa9f12-b121-45ed-bc2d-592c0efd3203",
   "metadata": {},
   "source": [
    "From the summary above, you can see that each variable has a different mean and standard deviation."
   ]
  },
  {
   "cell_type": "code",
   "execution_count": null,
   "id": "cdc6609d",
   "metadata": {},
   "outputs": [],
   "source": [
    "# get column names to select which ones to scale\n",
    "df_dia.columns"
   ]
  },
  {
   "cell_type": "markdown",
   "id": "700062dd-0e91-4515-bd25-bcc406fd2a1a",
   "metadata": {},
   "source": [
    "We can apply the standard scalar to selected columns using sci-kit learn's StandardScaler() function.\n",
    "\n",
    "This transforms the selected to have a mean of 0 and a standard deviation of 1."
   ]
  },
  {
   "cell_type": "code",
   "execution_count": null,
   "id": "f204c0c4",
   "metadata": {
    "scrolled": true
   },
   "outputs": [],
   "source": [
    "# we have ignored the SEX columnn as we do not want to scale this\n",
    "cols_to_scale = ['AGE', 'BMI', 'BP', 'S1', 'S2', 'S3', 'S4', 'S5', 'S6', 'Y']\n",
    "\n",
    "df_dia[cols_to_scale] =  StandardScaler().fit_transform(df_dia[cols_to_scale])\n",
    "                                                                                                   \n",
    "# Now this will work\n",
    "df_dia[cols_to_scale].describe().round(2)"
   ]
  },
  {
   "cell_type": "markdown",
   "id": "fff168b1-b2c5-45f6-964b-d36d11e804ce",
   "metadata": {},
   "source": [
    "All of the selected variables now have the same mean and standard deviation."
   ]
  }
 ],
 "metadata": {
  "kernelspec": {
   "display_name": "Python [conda env:base] *",
   "language": "python",
   "name": "conda-base-py"
  },
  "language_info": {
   "codemirror_mode": {
    "name": "ipython",
    "version": 3
   },
   "file_extension": ".py",
   "mimetype": "text/x-python",
   "name": "python",
   "nbconvert_exporter": "python",
   "pygments_lexer": "ipython3",
   "version": "3.12.9"
  }
 },
 "nbformat": 4,
 "nbformat_minor": 5
}
